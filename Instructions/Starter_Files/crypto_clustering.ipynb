{
 "cells": [
  {
   "cell_type": "markdown",
   "metadata": {},
   "source": [
    "# Clustering Crypto"
   ]
  },
  {
   "cell_type": "code",
   "execution_count": 58,
   "metadata": {},
   "outputs": [],
   "source": [
    "# Initial imports\n",
    "import requests\n",
    "import pandas as pd\n",
    "import matplotlib.pyplot as plt\n",
    "import hvplot.pandas\n",
    "import plotly.express as px\n",
    "from sklearn.preprocessing import StandardScaler, MinMaxScaler\n",
    "from sklearn.decomposition import PCA\n",
    "from sklearn.cluster import KMeans\n",
    "from pathlib import Path"
   ]
  },
  {
   "cell_type": "markdown",
   "metadata": {},
   "source": [
    "### Fetching Cryptocurrency Data"
   ]
  },
  {
   "cell_type": "code",
   "execution_count": 59,
   "metadata": {},
   "outputs": [],
   "source": [
    "# Use the following endpoint to fetch json data\n",
    "url = \"https://min-api.cryptocompare.com/data/all/coinlist\""
   ]
  },
  {
   "cell_type": "code",
   "execution_count": 60,
   "metadata": {},
   "outputs": [],
   "source": [
    "# Create a DataFrame \n",
    "# HINT: You will need to use the 'Data' key from the json response, then transpose the DataFrame."
   ]
  },
  {
   "cell_type": "code",
   "execution_count": 61,
   "metadata": {},
   "outputs": [
    {
     "data": {
      "text/html": [
       "<div>\n",
       "<style scoped>\n",
       "    .dataframe tbody tr th:only-of-type {\n",
       "        vertical-align: middle;\n",
       "    }\n",
       "\n",
       "    .dataframe tbody tr th {\n",
       "        vertical-align: top;\n",
       "    }\n",
       "\n",
       "    .dataframe thead th {\n",
       "        text-align: right;\n",
       "    }\n",
       "</style>\n",
       "<table border=\"1\" class=\"dataframe\">\n",
       "  <thead>\n",
       "    <tr style=\"text-align: right;\">\n",
       "      <th></th>\n",
       "      <th>CoinName</th>\n",
       "      <th>Algorithm</th>\n",
       "      <th>IsTrading</th>\n",
       "      <th>ProofType</th>\n",
       "      <th>TotalCoinsMined</th>\n",
       "      <th>TotalCoinSupply</th>\n",
       "    </tr>\n",
       "  </thead>\n",
       "  <tbody>\n",
       "    <tr>\n",
       "      <th>42</th>\n",
       "      <td>42 Coin</td>\n",
       "      <td>Scrypt</td>\n",
       "      <td>True</td>\n",
       "      <td>PoW/PoS</td>\n",
       "      <td>4.199995e+01</td>\n",
       "      <td>42</td>\n",
       "    </tr>\n",
       "    <tr>\n",
       "      <th>365</th>\n",
       "      <td>365Coin</td>\n",
       "      <td>X11</td>\n",
       "      <td>True</td>\n",
       "      <td>PoW/PoS</td>\n",
       "      <td>NaN</td>\n",
       "      <td>2300000000</td>\n",
       "    </tr>\n",
       "    <tr>\n",
       "      <th>404</th>\n",
       "      <td>404Coin</td>\n",
       "      <td>Scrypt</td>\n",
       "      <td>True</td>\n",
       "      <td>PoW/PoS</td>\n",
       "      <td>1.055185e+09</td>\n",
       "      <td>532000000</td>\n",
       "    </tr>\n",
       "    <tr>\n",
       "      <th>611</th>\n",
       "      <td>SixEleven</td>\n",
       "      <td>SHA-256</td>\n",
       "      <td>True</td>\n",
       "      <td>PoW</td>\n",
       "      <td>NaN</td>\n",
       "      <td>611000</td>\n",
       "    </tr>\n",
       "    <tr>\n",
       "      <th>808</th>\n",
       "      <td>808</td>\n",
       "      <td>SHA-256</td>\n",
       "      <td>True</td>\n",
       "      <td>PoW/PoS</td>\n",
       "      <td>0.000000e+00</td>\n",
       "      <td>0</td>\n",
       "    </tr>\n",
       "    <tr>\n",
       "      <th>...</th>\n",
       "      <td>...</td>\n",
       "      <td>...</td>\n",
       "      <td>...</td>\n",
       "      <td>...</td>\n",
       "      <td>...</td>\n",
       "      <td>...</td>\n",
       "    </tr>\n",
       "    <tr>\n",
       "      <th>XBC</th>\n",
       "      <td>BitcoinPlus</td>\n",
       "      <td>Scrypt</td>\n",
       "      <td>True</td>\n",
       "      <td>PoS</td>\n",
       "      <td>1.283270e+05</td>\n",
       "      <td>1000000</td>\n",
       "    </tr>\n",
       "    <tr>\n",
       "      <th>DVTC</th>\n",
       "      <td>DivotyCoin</td>\n",
       "      <td>Scrypt</td>\n",
       "      <td>False</td>\n",
       "      <td>PoW/PoS</td>\n",
       "      <td>2.149121e+07</td>\n",
       "      <td>100000000</td>\n",
       "    </tr>\n",
       "    <tr>\n",
       "      <th>GIOT</th>\n",
       "      <td>Giotto Coin</td>\n",
       "      <td>Scrypt</td>\n",
       "      <td>False</td>\n",
       "      <td>PoW/PoS</td>\n",
       "      <td>NaN</td>\n",
       "      <td>233100000</td>\n",
       "    </tr>\n",
       "    <tr>\n",
       "      <th>OPSC</th>\n",
       "      <td>OpenSourceCoin</td>\n",
       "      <td>SHA-256</td>\n",
       "      <td>False</td>\n",
       "      <td>PoW/PoS</td>\n",
       "      <td>NaN</td>\n",
       "      <td>21000000</td>\n",
       "    </tr>\n",
       "    <tr>\n",
       "      <th>PUNK</th>\n",
       "      <td>SteamPunk</td>\n",
       "      <td>PoS</td>\n",
       "      <td>False</td>\n",
       "      <td>PoS</td>\n",
       "      <td>NaN</td>\n",
       "      <td>40000000</td>\n",
       "    </tr>\n",
       "  </tbody>\n",
       "</table>\n",
       "<p>1252 rows × 6 columns</p>\n",
       "</div>"
      ],
      "text/plain": [
       "            CoinName Algorithm  IsTrading ProofType  TotalCoinsMined  \\\n",
       "42           42 Coin    Scrypt       True   PoW/PoS     4.199995e+01   \n",
       "365          365Coin       X11       True   PoW/PoS              NaN   \n",
       "404          404Coin    Scrypt       True   PoW/PoS     1.055185e+09   \n",
       "611        SixEleven   SHA-256       True       PoW              NaN   \n",
       "808              808   SHA-256       True   PoW/PoS     0.000000e+00   \n",
       "...              ...       ...        ...       ...              ...   \n",
       "XBC      BitcoinPlus    Scrypt       True       PoS     1.283270e+05   \n",
       "DVTC      DivotyCoin    Scrypt      False   PoW/PoS     2.149121e+07   \n",
       "GIOT     Giotto Coin    Scrypt      False   PoW/PoS              NaN   \n",
       "OPSC  OpenSourceCoin   SHA-256      False   PoW/PoS              NaN   \n",
       "PUNK       SteamPunk       PoS      False       PoS              NaN   \n",
       "\n",
       "     TotalCoinSupply  \n",
       "42                42  \n",
       "365       2300000000  \n",
       "404        532000000  \n",
       "611           611000  \n",
       "808                0  \n",
       "...              ...  \n",
       "XBC          1000000  \n",
       "DVTC       100000000  \n",
       "GIOT       233100000  \n",
       "OPSC        21000000  \n",
       "PUNK        40000000  \n",
       "\n",
       "[1252 rows x 6 columns]"
      ]
     },
     "execution_count": 61,
     "metadata": {},
     "output_type": "execute_result"
    }
   ],
   "source": [
    "# Alternatively, use the provided csv file:\n",
    "file_path = Path(\"Resources/crypto_data.csv\")\n",
    "\n",
    "# Create a DataFrame\n",
    "crypto_df = pd.read_csv(file_path, index_col=0)\n",
    "crypto_df"
   ]
  },
  {
   "cell_type": "markdown",
   "metadata": {},
   "source": [
    "### Data Preprocessing"
   ]
  },
  {
   "cell_type": "code",
   "execution_count": 62,
   "metadata": {},
   "outputs": [
    {
     "data": {
      "text/html": [
       "<div>\n",
       "<style scoped>\n",
       "    .dataframe tbody tr th:only-of-type {\n",
       "        vertical-align: middle;\n",
       "    }\n",
       "\n",
       "    .dataframe tbody tr th {\n",
       "        vertical-align: top;\n",
       "    }\n",
       "\n",
       "    .dataframe thead th {\n",
       "        text-align: right;\n",
       "    }\n",
       "</style>\n",
       "<table border=\"1\" class=\"dataframe\">\n",
       "  <thead>\n",
       "    <tr style=\"text-align: right;\">\n",
       "      <th></th>\n",
       "      <th>CoinName</th>\n",
       "      <th>Algorithm</th>\n",
       "      <th>IsTrading</th>\n",
       "      <th>ProofType</th>\n",
       "      <th>TotalCoinsMined</th>\n",
       "      <th>TotalCoinSupply</th>\n",
       "    </tr>\n",
       "  </thead>\n",
       "  <tbody>\n",
       "    <tr>\n",
       "      <th>42</th>\n",
       "      <td>42 Coin</td>\n",
       "      <td>Scrypt</td>\n",
       "      <td>True</td>\n",
       "      <td>PoW/PoS</td>\n",
       "      <td>4.199995e+01</td>\n",
       "      <td>42</td>\n",
       "    </tr>\n",
       "    <tr>\n",
       "      <th>365</th>\n",
       "      <td>365Coin</td>\n",
       "      <td>X11</td>\n",
       "      <td>True</td>\n",
       "      <td>PoW/PoS</td>\n",
       "      <td>NaN</td>\n",
       "      <td>2300000000</td>\n",
       "    </tr>\n",
       "    <tr>\n",
       "      <th>404</th>\n",
       "      <td>404Coin</td>\n",
       "      <td>Scrypt</td>\n",
       "      <td>True</td>\n",
       "      <td>PoW/PoS</td>\n",
       "      <td>1.055185e+09</td>\n",
       "      <td>532000000</td>\n",
       "    </tr>\n",
       "    <tr>\n",
       "      <th>611</th>\n",
       "      <td>SixEleven</td>\n",
       "      <td>SHA-256</td>\n",
       "      <td>True</td>\n",
       "      <td>PoW</td>\n",
       "      <td>NaN</td>\n",
       "      <td>611000</td>\n",
       "    </tr>\n",
       "    <tr>\n",
       "      <th>808</th>\n",
       "      <td>808</td>\n",
       "      <td>SHA-256</td>\n",
       "      <td>True</td>\n",
       "      <td>PoW/PoS</td>\n",
       "      <td>0.000000e+00</td>\n",
       "      <td>0</td>\n",
       "    </tr>\n",
       "    <tr>\n",
       "      <th>...</th>\n",
       "      <td>...</td>\n",
       "      <td>...</td>\n",
       "      <td>...</td>\n",
       "      <td>...</td>\n",
       "      <td>...</td>\n",
       "      <td>...</td>\n",
       "    </tr>\n",
       "    <tr>\n",
       "      <th>SERO</th>\n",
       "      <td>Super Zero</td>\n",
       "      <td>Ethash</td>\n",
       "      <td>True</td>\n",
       "      <td>PoW</td>\n",
       "      <td>NaN</td>\n",
       "      <td>1000000000</td>\n",
       "    </tr>\n",
       "    <tr>\n",
       "      <th>UOS</th>\n",
       "      <td>UOS</td>\n",
       "      <td>SHA-256</td>\n",
       "      <td>True</td>\n",
       "      <td>DPoI</td>\n",
       "      <td>NaN</td>\n",
       "      <td>1000000000</td>\n",
       "    </tr>\n",
       "    <tr>\n",
       "      <th>BDX</th>\n",
       "      <td>Beldex</td>\n",
       "      <td>CryptoNight</td>\n",
       "      <td>True</td>\n",
       "      <td>PoW</td>\n",
       "      <td>9.802226e+08</td>\n",
       "      <td>1400222610</td>\n",
       "    </tr>\n",
       "    <tr>\n",
       "      <th>ZEN</th>\n",
       "      <td>Horizen</td>\n",
       "      <td>Equihash</td>\n",
       "      <td>True</td>\n",
       "      <td>PoW</td>\n",
       "      <td>7.296538e+06</td>\n",
       "      <td>21000000</td>\n",
       "    </tr>\n",
       "    <tr>\n",
       "      <th>XBC</th>\n",
       "      <td>BitcoinPlus</td>\n",
       "      <td>Scrypt</td>\n",
       "      <td>True</td>\n",
       "      <td>PoS</td>\n",
       "      <td>1.283270e+05</td>\n",
       "      <td>1000000</td>\n",
       "    </tr>\n",
       "  </tbody>\n",
       "</table>\n",
       "<p>1144 rows × 6 columns</p>\n",
       "</div>"
      ],
      "text/plain": [
       "         CoinName    Algorithm  IsTrading ProofType  TotalCoinsMined  \\\n",
       "42        42 Coin       Scrypt       True   PoW/PoS     4.199995e+01   \n",
       "365       365Coin          X11       True   PoW/PoS              NaN   \n",
       "404       404Coin       Scrypt       True   PoW/PoS     1.055185e+09   \n",
       "611     SixEleven      SHA-256       True       PoW              NaN   \n",
       "808           808      SHA-256       True   PoW/PoS     0.000000e+00   \n",
       "...           ...          ...        ...       ...              ...   \n",
       "SERO   Super Zero       Ethash       True       PoW              NaN   \n",
       "UOS           UOS      SHA-256       True      DPoI              NaN   \n",
       "BDX        Beldex  CryptoNight       True       PoW     9.802226e+08   \n",
       "ZEN       Horizen     Equihash       True       PoW     7.296538e+06   \n",
       "XBC   BitcoinPlus       Scrypt       True       PoS     1.283270e+05   \n",
       "\n",
       "     TotalCoinSupply  \n",
       "42                42  \n",
       "365       2300000000  \n",
       "404        532000000  \n",
       "611           611000  \n",
       "808                0  \n",
       "...              ...  \n",
       "SERO      1000000000  \n",
       "UOS       1000000000  \n",
       "BDX       1400222610  \n",
       "ZEN         21000000  \n",
       "XBC          1000000  \n",
       "\n",
       "[1144 rows x 6 columns]"
      ]
     },
     "execution_count": 62,
     "metadata": {},
     "output_type": "execute_result"
    }
   ],
   "source": [
    "# Keep only necessary columns:\n",
    "# 'CoinName','Algorithm','IsTrading','ProofType','TotalCoinsMined','TotalCoinSupply'\n",
    "# Keep only data where the coin is trading\n",
    "crypto_df = crypto_df[crypto_df['IsTrading'] == True]\n",
    "crypto_df "
   ]
  },
  {
   "cell_type": "code",
   "execution_count": null,
   "metadata": {},
   "outputs": [],
   "source": []
  },
  {
   "cell_type": "code",
   "execution_count": 63,
   "metadata": {},
   "outputs": [
    {
     "data": {
      "text/html": [
       "<div>\n",
       "<style scoped>\n",
       "    .dataframe tbody tr th:only-of-type {\n",
       "        vertical-align: middle;\n",
       "    }\n",
       "\n",
       "    .dataframe tbody tr th {\n",
       "        vertical-align: top;\n",
       "    }\n",
       "\n",
       "    .dataframe thead th {\n",
       "        text-align: right;\n",
       "    }\n",
       "</style>\n",
       "<table border=\"1\" class=\"dataframe\">\n",
       "  <thead>\n",
       "    <tr style=\"text-align: right;\">\n",
       "      <th></th>\n",
       "      <th>CoinName</th>\n",
       "      <th>Algorithm</th>\n",
       "      <th>IsTrading</th>\n",
       "      <th>ProofType</th>\n",
       "      <th>TotalCoinsMined</th>\n",
       "      <th>TotalCoinSupply</th>\n",
       "    </tr>\n",
       "  </thead>\n",
       "  <tbody>\n",
       "    <tr>\n",
       "      <th>42</th>\n",
       "      <td>42 Coin</td>\n",
       "      <td>Scrypt</td>\n",
       "      <td>True</td>\n",
       "      <td>PoW/PoS</td>\n",
       "      <td>4.199995e+01</td>\n",
       "      <td>42</td>\n",
       "    </tr>\n",
       "    <tr>\n",
       "      <th>365</th>\n",
       "      <td>365Coin</td>\n",
       "      <td>X11</td>\n",
       "      <td>True</td>\n",
       "      <td>PoW/PoS</td>\n",
       "      <td>NaN</td>\n",
       "      <td>2300000000</td>\n",
       "    </tr>\n",
       "    <tr>\n",
       "      <th>404</th>\n",
       "      <td>404Coin</td>\n",
       "      <td>Scrypt</td>\n",
       "      <td>True</td>\n",
       "      <td>PoW/PoS</td>\n",
       "      <td>1.055185e+09</td>\n",
       "      <td>532000000</td>\n",
       "    </tr>\n",
       "    <tr>\n",
       "      <th>611</th>\n",
       "      <td>SixEleven</td>\n",
       "      <td>SHA-256</td>\n",
       "      <td>True</td>\n",
       "      <td>PoW</td>\n",
       "      <td>NaN</td>\n",
       "      <td>611000</td>\n",
       "    </tr>\n",
       "    <tr>\n",
       "      <th>808</th>\n",
       "      <td>808</td>\n",
       "      <td>SHA-256</td>\n",
       "      <td>True</td>\n",
       "      <td>PoW/PoS</td>\n",
       "      <td>0.000000e+00</td>\n",
       "      <td>0</td>\n",
       "    </tr>\n",
       "    <tr>\n",
       "      <th>...</th>\n",
       "      <td>...</td>\n",
       "      <td>...</td>\n",
       "      <td>...</td>\n",
       "      <td>...</td>\n",
       "      <td>...</td>\n",
       "      <td>...</td>\n",
       "    </tr>\n",
       "    <tr>\n",
       "      <th>SERO</th>\n",
       "      <td>Super Zero</td>\n",
       "      <td>Ethash</td>\n",
       "      <td>True</td>\n",
       "      <td>PoW</td>\n",
       "      <td>NaN</td>\n",
       "      <td>1000000000</td>\n",
       "    </tr>\n",
       "    <tr>\n",
       "      <th>UOS</th>\n",
       "      <td>UOS</td>\n",
       "      <td>SHA-256</td>\n",
       "      <td>True</td>\n",
       "      <td>DPoI</td>\n",
       "      <td>NaN</td>\n",
       "      <td>1000000000</td>\n",
       "    </tr>\n",
       "    <tr>\n",
       "      <th>BDX</th>\n",
       "      <td>Beldex</td>\n",
       "      <td>CryptoNight</td>\n",
       "      <td>True</td>\n",
       "      <td>PoW</td>\n",
       "      <td>9.802226e+08</td>\n",
       "      <td>1400222610</td>\n",
       "    </tr>\n",
       "    <tr>\n",
       "      <th>ZEN</th>\n",
       "      <td>Horizen</td>\n",
       "      <td>Equihash</td>\n",
       "      <td>True</td>\n",
       "      <td>PoW</td>\n",
       "      <td>7.296538e+06</td>\n",
       "      <td>21000000</td>\n",
       "    </tr>\n",
       "    <tr>\n",
       "      <th>XBC</th>\n",
       "      <td>BitcoinPlus</td>\n",
       "      <td>Scrypt</td>\n",
       "      <td>True</td>\n",
       "      <td>PoS</td>\n",
       "      <td>1.283270e+05</td>\n",
       "      <td>1000000</td>\n",
       "    </tr>\n",
       "  </tbody>\n",
       "</table>\n",
       "<p>1144 rows × 6 columns</p>\n",
       "</div>"
      ],
      "text/plain": [
       "         CoinName    Algorithm  IsTrading ProofType  TotalCoinsMined  \\\n",
       "42        42 Coin       Scrypt       True   PoW/PoS     4.199995e+01   \n",
       "365       365Coin          X11       True   PoW/PoS              NaN   \n",
       "404       404Coin       Scrypt       True   PoW/PoS     1.055185e+09   \n",
       "611     SixEleven      SHA-256       True       PoW              NaN   \n",
       "808           808      SHA-256       True   PoW/PoS     0.000000e+00   \n",
       "...           ...          ...        ...       ...              ...   \n",
       "SERO   Super Zero       Ethash       True       PoW              NaN   \n",
       "UOS           UOS      SHA-256       True      DPoI              NaN   \n",
       "BDX        Beldex  CryptoNight       True       PoW     9.802226e+08   \n",
       "ZEN       Horizen     Equihash       True       PoW     7.296538e+06   \n",
       "XBC   BitcoinPlus       Scrypt       True       PoS     1.283270e+05   \n",
       "\n",
       "     TotalCoinSupply  \n",
       "42                42  \n",
       "365       2300000000  \n",
       "404        532000000  \n",
       "611           611000  \n",
       "808                0  \n",
       "...              ...  \n",
       "SERO      1000000000  \n",
       "UOS       1000000000  \n",
       "BDX       1400222610  \n",
       "ZEN         21000000  \n",
       "XBC          1000000  \n",
       "\n",
       "[1144 rows x 6 columns]"
      ]
     },
     "execution_count": 63,
     "metadata": {},
     "output_type": "execute_result"
    }
   ],
   "source": [
    "# Keep only cryptocurrencies with a working algorithm\n",
    "crypto_df = crypto_df[crypto_df[\"Algorithm\"] != \"N/A\"]\n",
    "crypto_df"
   ]
  },
  {
   "cell_type": "code",
   "execution_count": 64,
   "metadata": {},
   "outputs": [
    {
     "data": {
      "text/html": [
       "<div>\n",
       "<style scoped>\n",
       "    .dataframe tbody tr th:only-of-type {\n",
       "        vertical-align: middle;\n",
       "    }\n",
       "\n",
       "    .dataframe tbody tr th {\n",
       "        vertical-align: top;\n",
       "    }\n",
       "\n",
       "    .dataframe thead th {\n",
       "        text-align: right;\n",
       "    }\n",
       "</style>\n",
       "<table border=\"1\" class=\"dataframe\">\n",
       "  <thead>\n",
       "    <tr style=\"text-align: right;\">\n",
       "      <th></th>\n",
       "      <th>CoinName</th>\n",
       "      <th>Algorithm</th>\n",
       "      <th>ProofType</th>\n",
       "      <th>TotalCoinsMined</th>\n",
       "      <th>TotalCoinSupply</th>\n",
       "    </tr>\n",
       "  </thead>\n",
       "  <tbody>\n",
       "    <tr>\n",
       "      <th>42</th>\n",
       "      <td>42 Coin</td>\n",
       "      <td>Scrypt</td>\n",
       "      <td>PoW/PoS</td>\n",
       "      <td>4.199995e+01</td>\n",
       "      <td>42</td>\n",
       "    </tr>\n",
       "    <tr>\n",
       "      <th>365</th>\n",
       "      <td>365Coin</td>\n",
       "      <td>X11</td>\n",
       "      <td>PoW/PoS</td>\n",
       "      <td>NaN</td>\n",
       "      <td>2300000000</td>\n",
       "    </tr>\n",
       "    <tr>\n",
       "      <th>404</th>\n",
       "      <td>404Coin</td>\n",
       "      <td>Scrypt</td>\n",
       "      <td>PoW/PoS</td>\n",
       "      <td>1.055185e+09</td>\n",
       "      <td>532000000</td>\n",
       "    </tr>\n",
       "    <tr>\n",
       "      <th>611</th>\n",
       "      <td>SixEleven</td>\n",
       "      <td>SHA-256</td>\n",
       "      <td>PoW</td>\n",
       "      <td>NaN</td>\n",
       "      <td>611000</td>\n",
       "    </tr>\n",
       "    <tr>\n",
       "      <th>808</th>\n",
       "      <td>808</td>\n",
       "      <td>SHA-256</td>\n",
       "      <td>PoW/PoS</td>\n",
       "      <td>0.000000e+00</td>\n",
       "      <td>0</td>\n",
       "    </tr>\n",
       "    <tr>\n",
       "      <th>...</th>\n",
       "      <td>...</td>\n",
       "      <td>...</td>\n",
       "      <td>...</td>\n",
       "      <td>...</td>\n",
       "      <td>...</td>\n",
       "    </tr>\n",
       "    <tr>\n",
       "      <th>SERO</th>\n",
       "      <td>Super Zero</td>\n",
       "      <td>Ethash</td>\n",
       "      <td>PoW</td>\n",
       "      <td>NaN</td>\n",
       "      <td>1000000000</td>\n",
       "    </tr>\n",
       "    <tr>\n",
       "      <th>UOS</th>\n",
       "      <td>UOS</td>\n",
       "      <td>SHA-256</td>\n",
       "      <td>DPoI</td>\n",
       "      <td>NaN</td>\n",
       "      <td>1000000000</td>\n",
       "    </tr>\n",
       "    <tr>\n",
       "      <th>BDX</th>\n",
       "      <td>Beldex</td>\n",
       "      <td>CryptoNight</td>\n",
       "      <td>PoW</td>\n",
       "      <td>9.802226e+08</td>\n",
       "      <td>1400222610</td>\n",
       "    </tr>\n",
       "    <tr>\n",
       "      <th>ZEN</th>\n",
       "      <td>Horizen</td>\n",
       "      <td>Equihash</td>\n",
       "      <td>PoW</td>\n",
       "      <td>7.296538e+06</td>\n",
       "      <td>21000000</td>\n",
       "    </tr>\n",
       "    <tr>\n",
       "      <th>XBC</th>\n",
       "      <td>BitcoinPlus</td>\n",
       "      <td>Scrypt</td>\n",
       "      <td>PoS</td>\n",
       "      <td>1.283270e+05</td>\n",
       "      <td>1000000</td>\n",
       "    </tr>\n",
       "  </tbody>\n",
       "</table>\n",
       "<p>1144 rows × 5 columns</p>\n",
       "</div>"
      ],
      "text/plain": [
       "         CoinName    Algorithm ProofType  TotalCoinsMined TotalCoinSupply\n",
       "42        42 Coin       Scrypt   PoW/PoS     4.199995e+01              42\n",
       "365       365Coin          X11   PoW/PoS              NaN      2300000000\n",
       "404       404Coin       Scrypt   PoW/PoS     1.055185e+09       532000000\n",
       "611     SixEleven      SHA-256       PoW              NaN          611000\n",
       "808           808      SHA-256   PoW/PoS     0.000000e+00               0\n",
       "...           ...          ...       ...              ...             ...\n",
       "SERO   Super Zero       Ethash       PoW              NaN      1000000000\n",
       "UOS           UOS      SHA-256      DPoI              NaN      1000000000\n",
       "BDX        Beldex  CryptoNight       PoW     9.802226e+08      1400222610\n",
       "ZEN       Horizen     Equihash       PoW     7.296538e+06        21000000\n",
       "XBC   BitcoinPlus       Scrypt       PoS     1.283270e+05         1000000\n",
       "\n",
       "[1144 rows x 5 columns]"
      ]
     },
     "execution_count": 64,
     "metadata": {},
     "output_type": "execute_result"
    }
   ],
   "source": [
    "# Remove the \"IsTrading\" column\n",
    "crypto_df = crypto_df.drop(columns='IsTrading')\n",
    "crypto_df"
   ]
  },
  {
   "cell_type": "code",
   "execution_count": 65,
   "metadata": {},
   "outputs": [
    {
     "data": {
      "text/html": [
       "<div>\n",
       "<style scoped>\n",
       "    .dataframe tbody tr th:only-of-type {\n",
       "        vertical-align: middle;\n",
       "    }\n",
       "\n",
       "    .dataframe tbody tr th {\n",
       "        vertical-align: top;\n",
       "    }\n",
       "\n",
       "    .dataframe thead th {\n",
       "        text-align: right;\n",
       "    }\n",
       "</style>\n",
       "<table border=\"1\" class=\"dataframe\">\n",
       "  <thead>\n",
       "    <tr style=\"text-align: right;\">\n",
       "      <th></th>\n",
       "      <th>CoinName</th>\n",
       "      <th>Algorithm</th>\n",
       "      <th>ProofType</th>\n",
       "      <th>TotalCoinsMined</th>\n",
       "      <th>TotalCoinSupply</th>\n",
       "    </tr>\n",
       "  </thead>\n",
       "  <tbody>\n",
       "    <tr>\n",
       "      <th>42</th>\n",
       "      <td>42 Coin</td>\n",
       "      <td>Scrypt</td>\n",
       "      <td>PoW/PoS</td>\n",
       "      <td>4.199995e+01</td>\n",
       "      <td>42</td>\n",
       "    </tr>\n",
       "    <tr>\n",
       "      <th>404</th>\n",
       "      <td>404Coin</td>\n",
       "      <td>Scrypt</td>\n",
       "      <td>PoW/PoS</td>\n",
       "      <td>1.055185e+09</td>\n",
       "      <td>532000000</td>\n",
       "    </tr>\n",
       "    <tr>\n",
       "      <th>808</th>\n",
       "      <td>808</td>\n",
       "      <td>SHA-256</td>\n",
       "      <td>PoW/PoS</td>\n",
       "      <td>0.000000e+00</td>\n",
       "      <td>0</td>\n",
       "    </tr>\n",
       "    <tr>\n",
       "      <th>1337</th>\n",
       "      <td>EliteCoin</td>\n",
       "      <td>X13</td>\n",
       "      <td>PoW/PoS</td>\n",
       "      <td>2.927942e+10</td>\n",
       "      <td>314159265359</td>\n",
       "    </tr>\n",
       "    <tr>\n",
       "      <th>BTC</th>\n",
       "      <td>Bitcoin</td>\n",
       "      <td>SHA-256</td>\n",
       "      <td>PoW</td>\n",
       "      <td>1.792718e+07</td>\n",
       "      <td>21000000</td>\n",
       "    </tr>\n",
       "    <tr>\n",
       "      <th>...</th>\n",
       "      <td>...</td>\n",
       "      <td>...</td>\n",
       "      <td>...</td>\n",
       "      <td>...</td>\n",
       "      <td>...</td>\n",
       "    </tr>\n",
       "    <tr>\n",
       "      <th>ZEPH</th>\n",
       "      <td>ZEPHYR</td>\n",
       "      <td>SHA-256</td>\n",
       "      <td>DPoS</td>\n",
       "      <td>2.000000e+09</td>\n",
       "      <td>2000000000</td>\n",
       "    </tr>\n",
       "    <tr>\n",
       "      <th>GAP</th>\n",
       "      <td>Gapcoin</td>\n",
       "      <td>Scrypt</td>\n",
       "      <td>PoW/PoS</td>\n",
       "      <td>1.493105e+07</td>\n",
       "      <td>250000000</td>\n",
       "    </tr>\n",
       "    <tr>\n",
       "      <th>BDX</th>\n",
       "      <td>Beldex</td>\n",
       "      <td>CryptoNight</td>\n",
       "      <td>PoW</td>\n",
       "      <td>9.802226e+08</td>\n",
       "      <td>1400222610</td>\n",
       "    </tr>\n",
       "    <tr>\n",
       "      <th>ZEN</th>\n",
       "      <td>Horizen</td>\n",
       "      <td>Equihash</td>\n",
       "      <td>PoW</td>\n",
       "      <td>7.296538e+06</td>\n",
       "      <td>21000000</td>\n",
       "    </tr>\n",
       "    <tr>\n",
       "      <th>XBC</th>\n",
       "      <td>BitcoinPlus</td>\n",
       "      <td>Scrypt</td>\n",
       "      <td>PoS</td>\n",
       "      <td>1.283270e+05</td>\n",
       "      <td>1000000</td>\n",
       "    </tr>\n",
       "  </tbody>\n",
       "</table>\n",
       "<p>685 rows × 5 columns</p>\n",
       "</div>"
      ],
      "text/plain": [
       "         CoinName    Algorithm ProofType  TotalCoinsMined TotalCoinSupply\n",
       "42        42 Coin       Scrypt   PoW/PoS     4.199995e+01              42\n",
       "404       404Coin       Scrypt   PoW/PoS     1.055185e+09       532000000\n",
       "808           808      SHA-256   PoW/PoS     0.000000e+00               0\n",
       "1337    EliteCoin          X13   PoW/PoS     2.927942e+10    314159265359\n",
       "BTC       Bitcoin      SHA-256       PoW     1.792718e+07        21000000\n",
       "...           ...          ...       ...              ...             ...\n",
       "ZEPH       ZEPHYR      SHA-256      DPoS     2.000000e+09      2000000000\n",
       "GAP       Gapcoin       Scrypt   PoW/PoS     1.493105e+07       250000000\n",
       "BDX        Beldex  CryptoNight       PoW     9.802226e+08      1400222610\n",
       "ZEN       Horizen     Equihash       PoW     7.296538e+06        21000000\n",
       "XBC   BitcoinPlus       Scrypt       PoS     1.283270e+05         1000000\n",
       "\n",
       "[685 rows x 5 columns]"
      ]
     },
     "execution_count": 65,
     "metadata": {},
     "output_type": "execute_result"
    }
   ],
   "source": [
    "# Remove rows with at least 1 null value\n",
    "crypto_df = crypto_df.dropna()\n",
    "crypto_df"
   ]
  },
  {
   "cell_type": "code",
   "execution_count": 66,
   "metadata": {},
   "outputs": [
    {
     "data": {
      "text/html": [
       "<div>\n",
       "<style scoped>\n",
       "    .dataframe tbody tr th:only-of-type {\n",
       "        vertical-align: middle;\n",
       "    }\n",
       "\n",
       "    .dataframe tbody tr th {\n",
       "        vertical-align: top;\n",
       "    }\n",
       "\n",
       "    .dataframe thead th {\n",
       "        text-align: right;\n",
       "    }\n",
       "</style>\n",
       "<table border=\"1\" class=\"dataframe\">\n",
       "  <thead>\n",
       "    <tr style=\"text-align: right;\">\n",
       "      <th></th>\n",
       "      <th>CoinName</th>\n",
       "      <th>Algorithm</th>\n",
       "      <th>ProofType</th>\n",
       "      <th>TotalCoinsMined</th>\n",
       "      <th>TotalCoinSupply</th>\n",
       "    </tr>\n",
       "  </thead>\n",
       "  <tbody>\n",
       "    <tr>\n",
       "      <th>42</th>\n",
       "      <td>42 Coin</td>\n",
       "      <td>Scrypt</td>\n",
       "      <td>PoW/PoS</td>\n",
       "      <td>4.199995e+01</td>\n",
       "      <td>42</td>\n",
       "    </tr>\n",
       "    <tr>\n",
       "      <th>404</th>\n",
       "      <td>404Coin</td>\n",
       "      <td>Scrypt</td>\n",
       "      <td>PoW/PoS</td>\n",
       "      <td>1.055185e+09</td>\n",
       "      <td>532000000</td>\n",
       "    </tr>\n",
       "    <tr>\n",
       "      <th>1337</th>\n",
       "      <td>EliteCoin</td>\n",
       "      <td>X13</td>\n",
       "      <td>PoW/PoS</td>\n",
       "      <td>2.927942e+10</td>\n",
       "      <td>314159265359</td>\n",
       "    </tr>\n",
       "    <tr>\n",
       "      <th>BTC</th>\n",
       "      <td>Bitcoin</td>\n",
       "      <td>SHA-256</td>\n",
       "      <td>PoW</td>\n",
       "      <td>1.792718e+07</td>\n",
       "      <td>21000000</td>\n",
       "    </tr>\n",
       "    <tr>\n",
       "      <th>ETH</th>\n",
       "      <td>Ethereum</td>\n",
       "      <td>Ethash</td>\n",
       "      <td>PoW</td>\n",
       "      <td>1.076842e+08</td>\n",
       "      <td>0</td>\n",
       "    </tr>\n",
       "    <tr>\n",
       "      <th>...</th>\n",
       "      <td>...</td>\n",
       "      <td>...</td>\n",
       "      <td>...</td>\n",
       "      <td>...</td>\n",
       "      <td>...</td>\n",
       "    </tr>\n",
       "    <tr>\n",
       "      <th>ZEPH</th>\n",
       "      <td>ZEPHYR</td>\n",
       "      <td>SHA-256</td>\n",
       "      <td>DPoS</td>\n",
       "      <td>2.000000e+09</td>\n",
       "      <td>2000000000</td>\n",
       "    </tr>\n",
       "    <tr>\n",
       "      <th>GAP</th>\n",
       "      <td>Gapcoin</td>\n",
       "      <td>Scrypt</td>\n",
       "      <td>PoW/PoS</td>\n",
       "      <td>1.493105e+07</td>\n",
       "      <td>250000000</td>\n",
       "    </tr>\n",
       "    <tr>\n",
       "      <th>BDX</th>\n",
       "      <td>Beldex</td>\n",
       "      <td>CryptoNight</td>\n",
       "      <td>PoW</td>\n",
       "      <td>9.802226e+08</td>\n",
       "      <td>1400222610</td>\n",
       "    </tr>\n",
       "    <tr>\n",
       "      <th>ZEN</th>\n",
       "      <td>Horizen</td>\n",
       "      <td>Equihash</td>\n",
       "      <td>PoW</td>\n",
       "      <td>7.296538e+06</td>\n",
       "      <td>21000000</td>\n",
       "    </tr>\n",
       "    <tr>\n",
       "      <th>XBC</th>\n",
       "      <td>BitcoinPlus</td>\n",
       "      <td>Scrypt</td>\n",
       "      <td>PoS</td>\n",
       "      <td>1.283270e+05</td>\n",
       "      <td>1000000</td>\n",
       "    </tr>\n",
       "  </tbody>\n",
       "</table>\n",
       "<p>532 rows × 5 columns</p>\n",
       "</div>"
      ],
      "text/plain": [
       "         CoinName    Algorithm ProofType  TotalCoinsMined TotalCoinSupply\n",
       "42        42 Coin       Scrypt   PoW/PoS     4.199995e+01              42\n",
       "404       404Coin       Scrypt   PoW/PoS     1.055185e+09       532000000\n",
       "1337    EliteCoin          X13   PoW/PoS     2.927942e+10    314159265359\n",
       "BTC       Bitcoin      SHA-256       PoW     1.792718e+07        21000000\n",
       "ETH      Ethereum       Ethash       PoW     1.076842e+08               0\n",
       "...           ...          ...       ...              ...             ...\n",
       "ZEPH       ZEPHYR      SHA-256      DPoS     2.000000e+09      2000000000\n",
       "GAP       Gapcoin       Scrypt   PoW/PoS     1.493105e+07       250000000\n",
       "BDX        Beldex  CryptoNight       PoW     9.802226e+08      1400222610\n",
       "ZEN       Horizen     Equihash       PoW     7.296538e+06        21000000\n",
       "XBC   BitcoinPlus       Scrypt       PoS     1.283270e+05         1000000\n",
       "\n",
       "[532 rows x 5 columns]"
      ]
     },
     "execution_count": 66,
     "metadata": {},
     "output_type": "execute_result"
    }
   ],
   "source": [
    "# Remove rows with cryptocurrencies having no coins mined\n",
    "crypto_df = crypto_df[crypto_df[\"TotalCoinsMined\"]> 0]\n",
    "crypto_df"
   ]
  },
  {
   "cell_type": "code",
   "execution_count": 67,
   "metadata": {},
   "outputs": [
    {
     "data": {
      "text/html": [
       "<div>\n",
       "<style scoped>\n",
       "    .dataframe tbody tr th:only-of-type {\n",
       "        vertical-align: middle;\n",
       "    }\n",
       "\n",
       "    .dataframe tbody tr th {\n",
       "        vertical-align: top;\n",
       "    }\n",
       "\n",
       "    .dataframe thead th {\n",
       "        text-align: right;\n",
       "    }\n",
       "</style>\n",
       "<table border=\"1\" class=\"dataframe\">\n",
       "  <thead>\n",
       "    <tr style=\"text-align: right;\">\n",
       "      <th></th>\n",
       "      <th>CoinName</th>\n",
       "      <th>Algorithm</th>\n",
       "      <th>ProofType</th>\n",
       "      <th>TotalCoinsMined</th>\n",
       "      <th>TotalCoinSupply</th>\n",
       "    </tr>\n",
       "  </thead>\n",
       "  <tbody>\n",
       "    <tr>\n",
       "      <th>42</th>\n",
       "      <td>42 Coin</td>\n",
       "      <td>Scrypt</td>\n",
       "      <td>PoW/PoS</td>\n",
       "      <td>4.199995e+01</td>\n",
       "      <td>42</td>\n",
       "    </tr>\n",
       "    <tr>\n",
       "      <th>404</th>\n",
       "      <td>404Coin</td>\n",
       "      <td>Scrypt</td>\n",
       "      <td>PoW/PoS</td>\n",
       "      <td>1.055185e+09</td>\n",
       "      <td>532000000</td>\n",
       "    </tr>\n",
       "    <tr>\n",
       "      <th>1337</th>\n",
       "      <td>EliteCoin</td>\n",
       "      <td>X13</td>\n",
       "      <td>PoW/PoS</td>\n",
       "      <td>2.927942e+10</td>\n",
       "      <td>314159265359</td>\n",
       "    </tr>\n",
       "    <tr>\n",
       "      <th>BTC</th>\n",
       "      <td>Bitcoin</td>\n",
       "      <td>SHA-256</td>\n",
       "      <td>PoW</td>\n",
       "      <td>1.792718e+07</td>\n",
       "      <td>21000000</td>\n",
       "    </tr>\n",
       "    <tr>\n",
       "      <th>ETH</th>\n",
       "      <td>Ethereum</td>\n",
       "      <td>Ethash</td>\n",
       "      <td>PoW</td>\n",
       "      <td>1.076842e+08</td>\n",
       "      <td>0</td>\n",
       "    </tr>\n",
       "    <tr>\n",
       "      <th>...</th>\n",
       "      <td>...</td>\n",
       "      <td>...</td>\n",
       "      <td>...</td>\n",
       "      <td>...</td>\n",
       "      <td>...</td>\n",
       "    </tr>\n",
       "    <tr>\n",
       "      <th>ZEPH</th>\n",
       "      <td>ZEPHYR</td>\n",
       "      <td>SHA-256</td>\n",
       "      <td>DPoS</td>\n",
       "      <td>2.000000e+09</td>\n",
       "      <td>2000000000</td>\n",
       "    </tr>\n",
       "    <tr>\n",
       "      <th>GAP</th>\n",
       "      <td>Gapcoin</td>\n",
       "      <td>Scrypt</td>\n",
       "      <td>PoW/PoS</td>\n",
       "      <td>1.493105e+07</td>\n",
       "      <td>250000000</td>\n",
       "    </tr>\n",
       "    <tr>\n",
       "      <th>BDX</th>\n",
       "      <td>Beldex</td>\n",
       "      <td>CryptoNight</td>\n",
       "      <td>PoW</td>\n",
       "      <td>9.802226e+08</td>\n",
       "      <td>1400222610</td>\n",
       "    </tr>\n",
       "    <tr>\n",
       "      <th>ZEN</th>\n",
       "      <td>Horizen</td>\n",
       "      <td>Equihash</td>\n",
       "      <td>PoW</td>\n",
       "      <td>7.296538e+06</td>\n",
       "      <td>21000000</td>\n",
       "    </tr>\n",
       "    <tr>\n",
       "      <th>XBC</th>\n",
       "      <td>BitcoinPlus</td>\n",
       "      <td>Scrypt</td>\n",
       "      <td>PoS</td>\n",
       "      <td>1.283270e+05</td>\n",
       "      <td>1000000</td>\n",
       "    </tr>\n",
       "  </tbody>\n",
       "</table>\n",
       "<p>532 rows × 5 columns</p>\n",
       "</div>"
      ],
      "text/plain": [
       "         CoinName    Algorithm ProofType  TotalCoinsMined TotalCoinSupply\n",
       "42        42 Coin       Scrypt   PoW/PoS     4.199995e+01              42\n",
       "404       404Coin       Scrypt   PoW/PoS     1.055185e+09       532000000\n",
       "1337    EliteCoin          X13   PoW/PoS     2.927942e+10    314159265359\n",
       "BTC       Bitcoin      SHA-256       PoW     1.792718e+07        21000000\n",
       "ETH      Ethereum       Ethash       PoW     1.076842e+08               0\n",
       "...           ...          ...       ...              ...             ...\n",
       "ZEPH       ZEPHYR      SHA-256      DPoS     2.000000e+09      2000000000\n",
       "GAP       Gapcoin       Scrypt   PoW/PoS     1.493105e+07       250000000\n",
       "BDX        Beldex  CryptoNight       PoW     9.802226e+08      1400222610\n",
       "ZEN       Horizen     Equihash       PoW     7.296538e+06        21000000\n",
       "XBC   BitcoinPlus       Scrypt       PoS     1.283270e+05         1000000\n",
       "\n",
       "[532 rows x 5 columns]"
      ]
     },
     "execution_count": 67,
     "metadata": {},
     "output_type": "execute_result"
    }
   ],
   "source": [
    "# Drop rows where there are 'N/A' text values\n",
    "crypto_df = crypto_df[crypto_df!='N/A'].dropna()\n",
    "crypto_df"
   ]
  },
  {
   "cell_type": "code",
   "execution_count": 68,
   "metadata": {},
   "outputs": [
    {
     "data": {
      "text/plain": [
       "0          42 Coin\n",
       "1          404Coin\n",
       "2        EliteCoin\n",
       "3          Bitcoin\n",
       "4         Ethereum\n",
       "          ...     \n",
       "527         ZEPHYR\n",
       "528        Gapcoin\n",
       "529         Beldex\n",
       "530        Horizen\n",
       "531    BitcoinPlus\n",
       "Name: CoinName, Length: 532, dtype: object"
      ]
     },
     "execution_count": 68,
     "metadata": {},
     "output_type": "execute_result"
    }
   ],
   "source": [
    "# Store the 'CoinName'column in its own DataFrame prior to dropping it from crypto_df\n",
    "\n",
    "#coin_name_column = crypto_df[\"CoinName\"]\n",
    "#coin_name_column\n",
    "\n",
    "\n",
    "crypto_df = crypto_df.reset_index().drop(columns=[\"index\"])\n",
    "coin_name_column = crypto_df[\"CoinName\"]\n",
    "coin_name_column"
   ]
  },
  {
   "cell_type": "code",
   "execution_count": 69,
   "metadata": {},
   "outputs": [],
   "source": [
    "# Drop the 'CoinName' column since it's not going to be used on the clustering algorithm\n",
    "#crypto_df = crypto_df.drop(columns=[\"CoinName\"])\n",
    "#crypto_df\n",
    "crypto_df.drop(columns='CoinName', inplace=True)"
   ]
  },
  {
   "cell_type": "code",
   "execution_count": 70,
   "metadata": {},
   "outputs": [
    {
     "data": {
      "text/html": [
       "<div>\n",
       "<style scoped>\n",
       "    .dataframe tbody tr th:only-of-type {\n",
       "        vertical-align: middle;\n",
       "    }\n",
       "\n",
       "    .dataframe tbody tr th {\n",
       "        vertical-align: top;\n",
       "    }\n",
       "\n",
       "    .dataframe thead th {\n",
       "        text-align: right;\n",
       "    }\n",
       "</style>\n",
       "<table border=\"1\" class=\"dataframe\">\n",
       "  <thead>\n",
       "    <tr style=\"text-align: right;\">\n",
       "      <th></th>\n",
       "      <th>Algorithm</th>\n",
       "      <th>ProofType</th>\n",
       "      <th>TotalCoinsMined</th>\n",
       "      <th>TotalCoinSupply</th>\n",
       "    </tr>\n",
       "  </thead>\n",
       "  <tbody>\n",
       "    <tr>\n",
       "      <th>0</th>\n",
       "      <td>Scrypt</td>\n",
       "      <td>PoW/PoS</td>\n",
       "      <td>4.199995e+01</td>\n",
       "      <td>42</td>\n",
       "    </tr>\n",
       "    <tr>\n",
       "      <th>1</th>\n",
       "      <td>Scrypt</td>\n",
       "      <td>PoW/PoS</td>\n",
       "      <td>1.055185e+09</td>\n",
       "      <td>532000000</td>\n",
       "    </tr>\n",
       "    <tr>\n",
       "      <th>2</th>\n",
       "      <td>X13</td>\n",
       "      <td>PoW/PoS</td>\n",
       "      <td>2.927942e+10</td>\n",
       "      <td>314159265359</td>\n",
       "    </tr>\n",
       "    <tr>\n",
       "      <th>3</th>\n",
       "      <td>SHA-256</td>\n",
       "      <td>PoW</td>\n",
       "      <td>1.792718e+07</td>\n",
       "      <td>21000000</td>\n",
       "    </tr>\n",
       "    <tr>\n",
       "      <th>4</th>\n",
       "      <td>Ethash</td>\n",
       "      <td>PoW</td>\n",
       "      <td>1.076842e+08</td>\n",
       "      <td>0</td>\n",
       "    </tr>\n",
       "    <tr>\n",
       "      <th>...</th>\n",
       "      <td>...</td>\n",
       "      <td>...</td>\n",
       "      <td>...</td>\n",
       "      <td>...</td>\n",
       "    </tr>\n",
       "    <tr>\n",
       "      <th>527</th>\n",
       "      <td>SHA-256</td>\n",
       "      <td>DPoS</td>\n",
       "      <td>2.000000e+09</td>\n",
       "      <td>2000000000</td>\n",
       "    </tr>\n",
       "    <tr>\n",
       "      <th>528</th>\n",
       "      <td>Scrypt</td>\n",
       "      <td>PoW/PoS</td>\n",
       "      <td>1.493105e+07</td>\n",
       "      <td>250000000</td>\n",
       "    </tr>\n",
       "    <tr>\n",
       "      <th>529</th>\n",
       "      <td>CryptoNight</td>\n",
       "      <td>PoW</td>\n",
       "      <td>9.802226e+08</td>\n",
       "      <td>1400222610</td>\n",
       "    </tr>\n",
       "    <tr>\n",
       "      <th>530</th>\n",
       "      <td>Equihash</td>\n",
       "      <td>PoW</td>\n",
       "      <td>7.296538e+06</td>\n",
       "      <td>21000000</td>\n",
       "    </tr>\n",
       "    <tr>\n",
       "      <th>531</th>\n",
       "      <td>Scrypt</td>\n",
       "      <td>PoS</td>\n",
       "      <td>1.283270e+05</td>\n",
       "      <td>1000000</td>\n",
       "    </tr>\n",
       "  </tbody>\n",
       "</table>\n",
       "<p>532 rows × 4 columns</p>\n",
       "</div>"
      ],
      "text/plain": [
       "       Algorithm ProofType  TotalCoinsMined TotalCoinSupply\n",
       "0         Scrypt   PoW/PoS     4.199995e+01              42\n",
       "1         Scrypt   PoW/PoS     1.055185e+09       532000000\n",
       "2            X13   PoW/PoS     2.927942e+10    314159265359\n",
       "3        SHA-256       PoW     1.792718e+07        21000000\n",
       "4         Ethash       PoW     1.076842e+08               0\n",
       "..           ...       ...              ...             ...\n",
       "527      SHA-256      DPoS     2.000000e+09      2000000000\n",
       "528       Scrypt   PoW/PoS     1.493105e+07       250000000\n",
       "529  CryptoNight       PoW     9.802226e+08      1400222610\n",
       "530     Equihash       PoW     7.296538e+06        21000000\n",
       "531       Scrypt       PoS     1.283270e+05         1000000\n",
       "\n",
       "[532 rows x 4 columns]"
      ]
     },
     "execution_count": 70,
     "metadata": {},
     "output_type": "execute_result"
    }
   ],
   "source": [
    "crypto_df"
   ]
  },
  {
   "cell_type": "code",
   "execution_count": 71,
   "metadata": {},
   "outputs": [
    {
     "data": {
      "text/html": [
       "<div>\n",
       "<style scoped>\n",
       "    .dataframe tbody tr th:only-of-type {\n",
       "        vertical-align: middle;\n",
       "    }\n",
       "\n",
       "    .dataframe tbody tr th {\n",
       "        vertical-align: top;\n",
       "    }\n",
       "\n",
       "    .dataframe thead th {\n",
       "        text-align: right;\n",
       "    }\n",
       "</style>\n",
       "<table border=\"1\" class=\"dataframe\">\n",
       "  <thead>\n",
       "    <tr style=\"text-align: right;\">\n",
       "      <th></th>\n",
       "      <th>TotalCoinsMined</th>\n",
       "      <th>TotalCoinSupply</th>\n",
       "      <th>Algorithm_1GB AES Pattern Search</th>\n",
       "      <th>Algorithm_536</th>\n",
       "      <th>Algorithm_Argon2d</th>\n",
       "      <th>Algorithm_BLAKE256</th>\n",
       "      <th>Algorithm_Blake</th>\n",
       "      <th>Algorithm_Blake2S</th>\n",
       "      <th>Algorithm_Blake2b</th>\n",
       "      <th>Algorithm_C11</th>\n",
       "      <th>...</th>\n",
       "      <th>ProofType_PoW/PoS</th>\n",
       "      <th>ProofType_PoW/PoS</th>\n",
       "      <th>ProofType_PoW/PoW</th>\n",
       "      <th>ProofType_PoW/nPoS</th>\n",
       "      <th>ProofType_Pos</th>\n",
       "      <th>ProofType_Proof of Authority</th>\n",
       "      <th>ProofType_Proof of Trust</th>\n",
       "      <th>ProofType_TPoS</th>\n",
       "      <th>ProofType_Zero-Knowledge Proof</th>\n",
       "      <th>ProofType_dPoW/PoW</th>\n",
       "    </tr>\n",
       "  </thead>\n",
       "  <tbody>\n",
       "    <tr>\n",
       "      <th>0</th>\n",
       "      <td>4.199995e+01</td>\n",
       "      <td>42</td>\n",
       "      <td>0</td>\n",
       "      <td>0</td>\n",
       "      <td>0</td>\n",
       "      <td>0</td>\n",
       "      <td>0</td>\n",
       "      <td>0</td>\n",
       "      <td>0</td>\n",
       "      <td>0</td>\n",
       "      <td>...</td>\n",
       "      <td>1</td>\n",
       "      <td>0</td>\n",
       "      <td>0</td>\n",
       "      <td>0</td>\n",
       "      <td>0</td>\n",
       "      <td>0</td>\n",
       "      <td>0</td>\n",
       "      <td>0</td>\n",
       "      <td>0</td>\n",
       "      <td>0</td>\n",
       "    </tr>\n",
       "    <tr>\n",
       "      <th>1</th>\n",
       "      <td>1.055185e+09</td>\n",
       "      <td>532000000</td>\n",
       "      <td>0</td>\n",
       "      <td>0</td>\n",
       "      <td>0</td>\n",
       "      <td>0</td>\n",
       "      <td>0</td>\n",
       "      <td>0</td>\n",
       "      <td>0</td>\n",
       "      <td>0</td>\n",
       "      <td>...</td>\n",
       "      <td>1</td>\n",
       "      <td>0</td>\n",
       "      <td>0</td>\n",
       "      <td>0</td>\n",
       "      <td>0</td>\n",
       "      <td>0</td>\n",
       "      <td>0</td>\n",
       "      <td>0</td>\n",
       "      <td>0</td>\n",
       "      <td>0</td>\n",
       "    </tr>\n",
       "    <tr>\n",
       "      <th>2</th>\n",
       "      <td>2.927942e+10</td>\n",
       "      <td>314159265359</td>\n",
       "      <td>0</td>\n",
       "      <td>0</td>\n",
       "      <td>0</td>\n",
       "      <td>0</td>\n",
       "      <td>0</td>\n",
       "      <td>0</td>\n",
       "      <td>0</td>\n",
       "      <td>0</td>\n",
       "      <td>...</td>\n",
       "      <td>1</td>\n",
       "      <td>0</td>\n",
       "      <td>0</td>\n",
       "      <td>0</td>\n",
       "      <td>0</td>\n",
       "      <td>0</td>\n",
       "      <td>0</td>\n",
       "      <td>0</td>\n",
       "      <td>0</td>\n",
       "      <td>0</td>\n",
       "    </tr>\n",
       "    <tr>\n",
       "      <th>3</th>\n",
       "      <td>1.792718e+07</td>\n",
       "      <td>21000000</td>\n",
       "      <td>0</td>\n",
       "      <td>0</td>\n",
       "      <td>0</td>\n",
       "      <td>0</td>\n",
       "      <td>0</td>\n",
       "      <td>0</td>\n",
       "      <td>0</td>\n",
       "      <td>0</td>\n",
       "      <td>...</td>\n",
       "      <td>0</td>\n",
       "      <td>0</td>\n",
       "      <td>0</td>\n",
       "      <td>0</td>\n",
       "      <td>0</td>\n",
       "      <td>0</td>\n",
       "      <td>0</td>\n",
       "      <td>0</td>\n",
       "      <td>0</td>\n",
       "      <td>0</td>\n",
       "    </tr>\n",
       "    <tr>\n",
       "      <th>4</th>\n",
       "      <td>1.076842e+08</td>\n",
       "      <td>0</td>\n",
       "      <td>0</td>\n",
       "      <td>0</td>\n",
       "      <td>0</td>\n",
       "      <td>0</td>\n",
       "      <td>0</td>\n",
       "      <td>0</td>\n",
       "      <td>0</td>\n",
       "      <td>0</td>\n",
       "      <td>...</td>\n",
       "      <td>0</td>\n",
       "      <td>0</td>\n",
       "      <td>0</td>\n",
       "      <td>0</td>\n",
       "      <td>0</td>\n",
       "      <td>0</td>\n",
       "      <td>0</td>\n",
       "      <td>0</td>\n",
       "      <td>0</td>\n",
       "      <td>0</td>\n",
       "    </tr>\n",
       "  </tbody>\n",
       "</table>\n",
       "<p>5 rows × 98 columns</p>\n",
       "</div>"
      ],
      "text/plain": [
       "   TotalCoinsMined TotalCoinSupply  Algorithm_1GB AES Pattern Search  \\\n",
       "0     4.199995e+01              42                                 0   \n",
       "1     1.055185e+09       532000000                                 0   \n",
       "2     2.927942e+10    314159265359                                 0   \n",
       "3     1.792718e+07        21000000                                 0   \n",
       "4     1.076842e+08               0                                 0   \n",
       "\n",
       "   Algorithm_536  Algorithm_Argon2d  Algorithm_BLAKE256  Algorithm_Blake  \\\n",
       "0              0                  0                   0                0   \n",
       "1              0                  0                   0                0   \n",
       "2              0                  0                   0                0   \n",
       "3              0                  0                   0                0   \n",
       "4              0                  0                   0                0   \n",
       "\n",
       "   Algorithm_Blake2S  Algorithm_Blake2b  Algorithm_C11  ...  \\\n",
       "0                  0                  0              0  ...   \n",
       "1                  0                  0              0  ...   \n",
       "2                  0                  0              0  ...   \n",
       "3                  0                  0              0  ...   \n",
       "4                  0                  0              0  ...   \n",
       "\n",
       "   ProofType_PoW/PoS  ProofType_PoW/PoS   ProofType_PoW/PoW  \\\n",
       "0                  1                   0                  0   \n",
       "1                  1                   0                  0   \n",
       "2                  1                   0                  0   \n",
       "3                  0                   0                  0   \n",
       "4                  0                   0                  0   \n",
       "\n",
       "   ProofType_PoW/nPoS  ProofType_Pos  ProofType_Proof of Authority  \\\n",
       "0                   0              0                             0   \n",
       "1                   0              0                             0   \n",
       "2                   0              0                             0   \n",
       "3                   0              0                             0   \n",
       "4                   0              0                             0   \n",
       "\n",
       "   ProofType_Proof of Trust  ProofType_TPoS  ProofType_Zero-Knowledge Proof  \\\n",
       "0                         0               0                               0   \n",
       "1                         0               0                               0   \n",
       "2                         0               0                               0   \n",
       "3                         0               0                               0   \n",
       "4                         0               0                               0   \n",
       "\n",
       "   ProofType_dPoW/PoW  \n",
       "0                   0  \n",
       "1                   0  \n",
       "2                   0  \n",
       "3                   0  \n",
       "4                   0  \n",
       "\n",
       "[5 rows x 98 columns]"
      ]
     },
     "execution_count": 71,
     "metadata": {},
     "output_type": "execute_result"
    }
   ],
   "source": [
    "# Create dummy variables for text features\n",
    "X = pd.get_dummies(crypto_df, columns=['Algorithm', 'ProofType'])\n",
    "X.head()"
   ]
  },
  {
   "cell_type": "code",
   "execution_count": 72,
   "metadata": {},
   "outputs": [
    {
     "data": {
      "text/plain": [
       "array([[-0.11710817, -0.1528703 , -0.0433963 , ..., -0.0433963 ,\n",
       "        -0.0433963 , -0.0433963 ],\n",
       "       [-0.09396955, -0.145009  , -0.0433963 , ..., -0.0433963 ,\n",
       "        -0.0433963 , -0.0433963 ],\n",
       "       [ 0.52494561,  4.48942416, -0.0433963 , ..., -0.0433963 ,\n",
       "        -0.0433963 , -0.0433963 ],\n",
       "       ...,\n",
       "       [-0.09561336, -0.13217937, -0.0433963 , ..., -0.0433963 ,\n",
       "        -0.0433963 , -0.0433963 ],\n",
       "       [-0.11694817, -0.15255998, -0.0433963 , ..., -0.0433963 ,\n",
       "        -0.0433963 , -0.0433963 ],\n",
       "       [-0.11710536, -0.15285552, -0.0433963 , ..., -0.0433963 ,\n",
       "        -0.0433963 , -0.0433963 ]])"
      ]
     },
     "execution_count": 72,
     "metadata": {},
     "output_type": "execute_result"
    }
   ],
   "source": [
    "# Standardize data\n",
    "X_scaled = StandardScaler().fit_transform(X)\n",
    "X_scaled"
   ]
  },
  {
   "cell_type": "markdown",
   "metadata": {},
   "source": [
    "### Reducing Dimensions Using PCA"
   ]
  },
  {
   "cell_type": "code",
   "execution_count": 73,
   "metadata": {},
   "outputs": [],
   "source": [
    "# Use PCA to reduce dimensions to 3 principal components\n",
    "pca = PCA(n_components=3)\n",
    "crypto_pca = pca.fit_transform(X_scaled)"
   ]
  },
  {
   "cell_type": "code",
   "execution_count": 74,
   "metadata": {},
   "outputs": [
    {
     "data": {
      "text/html": [
       "<div>\n",
       "<style scoped>\n",
       "    .dataframe tbody tr th:only-of-type {\n",
       "        vertical-align: middle;\n",
       "    }\n",
       "\n",
       "    .dataframe tbody tr th {\n",
       "        vertical-align: top;\n",
       "    }\n",
       "\n",
       "    .dataframe thead th {\n",
       "        text-align: right;\n",
       "    }\n",
       "</style>\n",
       "<table border=\"1\" class=\"dataframe\">\n",
       "  <thead>\n",
       "    <tr style=\"text-align: right;\">\n",
       "      <th></th>\n",
       "      <th>principal component 1</th>\n",
       "      <th>principal component 2</th>\n",
       "      <th>principal component 3</th>\n",
       "    </tr>\n",
       "  </thead>\n",
       "  <tbody>\n",
       "    <tr>\n",
       "      <th>0</th>\n",
       "      <td>-0.337298</td>\n",
       "      <td>1.026822</td>\n",
       "      <td>-0.531314</td>\n",
       "    </tr>\n",
       "    <tr>\n",
       "      <th>1</th>\n",
       "      <td>-0.320645</td>\n",
       "      <td>1.026945</td>\n",
       "      <td>-0.531756</td>\n",
       "    </tr>\n",
       "    <tr>\n",
       "      <th>2</th>\n",
       "      <td>2.291397</td>\n",
       "      <td>1.574206</td>\n",
       "      <td>-0.595828</td>\n",
       "    </tr>\n",
       "    <tr>\n",
       "      <th>3</th>\n",
       "      <td>-0.141201</td>\n",
       "      <td>-1.376240</td>\n",
       "      <td>0.237900</td>\n",
       "    </tr>\n",
       "    <tr>\n",
       "      <th>4</th>\n",
       "      <td>-0.150908</td>\n",
       "      <td>-2.093325</td>\n",
       "      <td>0.412457</td>\n",
       "    </tr>\n",
       "  </tbody>\n",
       "</table>\n",
       "</div>"
      ],
      "text/plain": [
       "   principal component 1  principal component 2  principal component 3\n",
       "0              -0.337298               1.026822              -0.531314\n",
       "1              -0.320645               1.026945              -0.531756\n",
       "2               2.291397               1.574206              -0.595828\n",
       "3              -0.141201              -1.376240               0.237900\n",
       "4              -0.150908              -2.093325               0.412457"
      ]
     },
     "execution_count": 74,
     "metadata": {},
     "output_type": "execute_result"
    }
   ],
   "source": [
    "# Create a DataFrame with the principal components data\n",
    "pcs_df = pd.DataFrame(\n",
    "    data=crypto_pca, columns=[\"principal component 1\", \"principal component 2\", \"principal component 3\"],\n",
    "    index= crypto_df.index\n",
    ")\n",
    "pcs_df.head()"
   ]
  },
  {
   "cell_type": "markdown",
   "metadata": {},
   "source": [
    "### Clustering Crytocurrencies Using K-Means\n",
    "\n",
    "#### Find the Best Value for `k` Using the Elbow Curve"
   ]
  },
  {
   "cell_type": "code",
   "execution_count": 75,
   "metadata": {},
   "outputs": [
    {
     "data": {},
     "metadata": {},
     "output_type": "display_data"
    },
    {
     "data": {
      "application/vnd.holoviews_exec.v0+json": "",
      "text/html": [
       "<div id='2591'>\n",
       "\n",
       "\n",
       "\n",
       "\n",
       "\n",
       "  <div class=\"bk-root\" id=\"6dd94770-fee4-40ef-8454-74ab7d42e8d2\" data-root-id=\"2591\"></div>\n",
       "</div>\n",
       "<script type=\"application/javascript\">(function(root) {\n",
       "  function embed_document(root) {\n",
       "    var docs_json = {\"4217aa56-39da-42cc-802a-9acc611781e0\":{\"roots\":{\"references\":[{\"attributes\":{},\"id\":\"2640\",\"type\":\"BasicTickFormatter\"},{\"attributes\":{\"children\":[{\"id\":\"2592\"},{\"id\":\"2596\"},{\"id\":\"2655\"}],\"margin\":[0,0,0,0],\"name\":\"Row05294\",\"tags\":[\"embedded\"]},\"id\":\"2591\",\"type\":\"Row\"},{\"attributes\":{\"data\":{\"inertia\":{\"__ndarray__\":\"i90XmaJxrEDiyRuP4VejQOarIKVoNZdA0A2Rw5uSfUBCW7G6L2NxQIxyw5Rg12pAh6lIT2qiZEBXrm8Y88VgQJ+SrfnWVFtAO+Nv/ms5VUA=\",\"dtype\":\"float64\",\"order\":\"little\",\"shape\":[10]},\"k\":[1,2,3,4,5,6,7,8,9,10]},\"selected\":{\"id\":\"2627\"},\"selection_policy\":{\"id\":\"2645\"}},\"id\":\"2626\",\"type\":\"ColumnDataSource\"},{\"attributes\":{},\"id\":\"2614\",\"type\":\"PanTool\"},{\"attributes\":{},\"id\":\"2603\",\"type\":\"LinearScale\"},{\"attributes\":{\"axis_label\":\"k\",\"bounds\":\"auto\",\"formatter\":{\"id\":\"2636\"},\"major_label_orientation\":\"horizontal\",\"ticker\":{\"id\":\"2634\"}},\"id\":\"2605\",\"type\":\"LinearAxis\"},{\"attributes\":{\"axis\":{\"id\":\"2609\"},\"dimension\":1,\"grid_line_color\":null,\"ticker\":null},\"id\":\"2612\",\"type\":\"Grid\"},{\"attributes\":{\"text\":\"Elbow Curve\",\"text_color\":{\"value\":\"black\"},\"text_font_size\":{\"value\":\"12pt\"}},\"id\":\"2597\",\"type\":\"Title\"},{\"attributes\":{\"axis_label\":\"inertia\",\"bounds\":\"auto\",\"formatter\":{\"id\":\"2640\"},\"major_label_orientation\":\"horizontal\",\"ticker\":{\"id\":\"2610\"}},\"id\":\"2609\",\"type\":\"LinearAxis\"},{\"attributes\":{},\"id\":\"2610\",\"type\":\"BasicTicker\"},{\"attributes\":{},\"id\":\"2615\",\"type\":\"WheelZoomTool\"},{\"attributes\":{},\"id\":\"2613\",\"type\":\"SaveTool\"},{\"attributes\":{\"overlay\":{\"id\":\"2618\"}},\"id\":\"2616\",\"type\":\"BoxZoomTool\"},{\"attributes\":{},\"id\":\"2627\",\"type\":\"Selection\"},{\"attributes\":{},\"id\":\"2617\",\"type\":\"ResetTool\"},{\"attributes\":{\"line_alpha\":0.1,\"line_color\":\"#1f77b3\",\"line_width\":2,\"x\":{\"field\":\"k\"},\"y\":{\"field\":\"inertia\"}},\"id\":\"2630\",\"type\":\"Line\"},{\"attributes\":{\"active_drag\":\"auto\",\"active_inspect\":\"auto\",\"active_multi\":null,\"active_scroll\":\"auto\",\"active_tap\":\"auto\",\"tools\":[{\"id\":\"2595\"},{\"id\":\"2613\"},{\"id\":\"2614\"},{\"id\":\"2615\"},{\"id\":\"2616\"},{\"id\":\"2617\"}]},\"id\":\"2619\",\"type\":\"Toolbar\"},{\"attributes\":{\"line_color\":\"#1f77b3\",\"line_width\":2,\"x\":{\"field\":\"k\"},\"y\":{\"field\":\"inertia\"}},\"id\":\"2629\",\"type\":\"Line\"},{\"attributes\":{\"data_source\":{\"id\":\"2626\"},\"glyph\":{\"id\":\"2629\"},\"hover_glyph\":null,\"muted_glyph\":{\"id\":\"2631\"},\"nonselection_glyph\":{\"id\":\"2630\"},\"selection_glyph\":null,\"view\":{\"id\":\"2633\"}},\"id\":\"2632\",\"type\":\"GlyphRenderer\"},{\"attributes\":{},\"id\":\"2645\",\"type\":\"UnionRenderers\"},{\"attributes\":{\"margin\":[5,5,5,5],\"name\":\"HSpacer05298\",\"sizing_mode\":\"stretch_width\"},\"id\":\"2592\",\"type\":\"Spacer\"},{\"attributes\":{\"below\":[{\"id\":\"2605\"}],\"center\":[{\"id\":\"2608\"},{\"id\":\"2612\"}],\"left\":[{\"id\":\"2609\"}],\"margin\":[5,5,5,5],\"min_border_bottom\":10,\"min_border_left\":10,\"min_border_right\":10,\"min_border_top\":10,\"plot_height\":300,\"plot_width\":700,\"renderers\":[{\"id\":\"2632\"}],\"sizing_mode\":\"fixed\",\"title\":{\"id\":\"2597\"},\"toolbar\":{\"id\":\"2619\"},\"x_range\":{\"id\":\"2593\"},\"x_scale\":{\"id\":\"2601\"},\"y_range\":{\"id\":\"2594\"},\"y_scale\":{\"id\":\"2603\"}},\"id\":\"2596\",\"subtype\":\"Figure\",\"type\":\"Plot\"},{\"attributes\":{\"line_alpha\":0.2,\"line_color\":\"#1f77b3\",\"line_width\":2,\"x\":{\"field\":\"k\"},\"y\":{\"field\":\"inertia\"}},\"id\":\"2631\",\"type\":\"Line\"},{\"attributes\":{},\"id\":\"2636\",\"type\":\"BasicTickFormatter\"},{\"attributes\":{\"source\":{\"id\":\"2626\"}},\"id\":\"2633\",\"type\":\"CDSView\"},{\"attributes\":{\"callback\":null,\"renderers\":[{\"id\":\"2632\"}],\"tags\":[\"hv_created\"],\"tooltips\":[[\"k\",\"@{k}\"],[\"inertia\",\"@{inertia}\"]]},\"id\":\"2595\",\"type\":\"HoverTool\"},{\"attributes\":{\"ticks\":[1,2,3,4,5,6,7,8,9,10]},\"id\":\"2634\",\"type\":\"FixedTicker\"},{\"attributes\":{\"margin\":[5,5,5,5],\"name\":\"HSpacer05299\",\"sizing_mode\":\"stretch_width\"},\"id\":\"2655\",\"type\":\"Spacer\"},{\"attributes\":{\"axis\":{\"id\":\"2605\"},\"grid_line_color\":null,\"ticker\":null},\"id\":\"2608\",\"type\":\"Grid\"},{\"attributes\":{\"end\":10.0,\"reset_end\":10.0,\"reset_start\":1.0,\"start\":1.0,\"tags\":[[[\"k\",\"k\",null]]]},\"id\":\"2593\",\"type\":\"Range1d\"},{\"attributes\":{\"bottom_units\":\"screen\",\"fill_alpha\":0.5,\"fill_color\":\"lightgrey\",\"left_units\":\"screen\",\"level\":\"overlay\",\"line_alpha\":1.0,\"line_color\":\"black\",\"line_dash\":[4,4],\"line_width\":2,\"right_units\":\"screen\",\"top_units\":\"screen\"},\"id\":\"2618\",\"type\":\"BoxAnnotation\"},{\"attributes\":{\"end\":3996.4096100420443,\"reset_end\":3996.4096100420443,\"reset_start\":-270.6948193591953,\"start\":-270.6948193591953,\"tags\":[[[\"inertia\",\"inertia\",null]]]},\"id\":\"2594\",\"type\":\"Range1d\"},{\"attributes\":{},\"id\":\"2601\",\"type\":\"LinearScale\"}],\"root_ids\":[\"2591\"]},\"title\":\"Bokeh Application\",\"version\":\"2.2.3\"}};\n",
       "    var render_items = [{\"docid\":\"4217aa56-39da-42cc-802a-9acc611781e0\",\"root_ids\":[\"2591\"],\"roots\":{\"2591\":\"6dd94770-fee4-40ef-8454-74ab7d42e8d2\"}}];\n",
       "    root.Bokeh.embed.embed_items_notebook(docs_json, render_items);\n",
       "  }\n",
       "  if (root.Bokeh !== undefined && root.Bokeh.Panel !== undefined) {\n",
       "    embed_document(root);\n",
       "  } else {\n",
       "    var attempts = 0;\n",
       "    var timer = setInterval(function(root) {\n",
       "      if (root.Bokeh !== undefined && root.Bokeh.Panel !== undefined) {\n",
       "        clearInterval(timer);\n",
       "        embed_document(root);\n",
       "      } else if (document.readyState == \"complete\") {\n",
       "        attempts++;\n",
       "        if (attempts > 100) {\n",
       "          clearInterval(timer);\n",
       "          console.log(\"Bokeh: ERROR: Unable to run BokehJS code because BokehJS library is missing\");\n",
       "        }\n",
       "      }\n",
       "    }, 10, root)\n",
       "  }\n",
       "})(window);</script>"
      ],
      "text/plain": [
       ":Curve   [k]   (inertia)"
      ]
     },
     "execution_count": 75,
     "metadata": {
      "application/vnd.holoviews_exec.v0+json": {
       "id": "2591"
      }
     },
     "output_type": "execute_result"
    }
   ],
   "source": [
    "inertia = []\n",
    "k = list(range(1, 11))\n",
    "\n",
    "# Calculate the inertia for the range of k values\n",
    "for i in k:\n",
    "    km = KMeans(n_clusters=i, random_state=0)\n",
    "    km.fit(pcs_df)\n",
    "    inertia.append(km.inertia_)\n",
    "\n",
    "# Create the Elbow Curve using hvPlot\n",
    "elbow_data = {\"k\": k, \"inertia\": inertia}\n",
    "df_elbow = pd.DataFrame(elbow_data)\n",
    "df_elbow.hvplot.line(x=\"k\", y=\"inertia\", xticks=k, title=\"Elbow Curve\")"
   ]
  },
  {
   "cell_type": "markdown",
   "metadata": {},
   "source": [
    "Running K-Means with `k=<your best value for k here>`"
   ]
  },
  {
   "cell_type": "code",
   "execution_count": 76,
   "metadata": {},
   "outputs": [
    {
     "data": {
      "text/html": [
       "<div>\n",
       "<style scoped>\n",
       "    .dataframe tbody tr th:only-of-type {\n",
       "        vertical-align: middle;\n",
       "    }\n",
       "\n",
       "    .dataframe tbody tr th {\n",
       "        vertical-align: top;\n",
       "    }\n",
       "\n",
       "    .dataframe thead th {\n",
       "        text-align: right;\n",
       "    }\n",
       "</style>\n",
       "<table border=\"1\" class=\"dataframe\">\n",
       "  <thead>\n",
       "    <tr style=\"text-align: right;\">\n",
       "      <th></th>\n",
       "      <th>Algorithm</th>\n",
       "      <th>ProofType</th>\n",
       "      <th>TotalCoinsMined</th>\n",
       "      <th>TotalCoinSupply</th>\n",
       "      <th>PC1</th>\n",
       "      <th>PC2</th>\n",
       "      <th>PC3</th>\n",
       "      <th>CoinName</th>\n",
       "      <th>Class</th>\n",
       "    </tr>\n",
       "  </thead>\n",
       "  <tbody>\n",
       "    <tr>\n",
       "      <th>0</th>\n",
       "      <td>Scrypt</td>\n",
       "      <td>PoW/PoS</td>\n",
       "      <td>4.199995e+01</td>\n",
       "      <td>42</td>\n",
       "      <td>-0.337298</td>\n",
       "      <td>1.026822</td>\n",
       "      <td>-0.531314</td>\n",
       "      <td>42 Coin</td>\n",
       "      <td>0</td>\n",
       "    </tr>\n",
       "    <tr>\n",
       "      <th>1</th>\n",
       "      <td>Scrypt</td>\n",
       "      <td>PoW/PoS</td>\n",
       "      <td>1.055185e+09</td>\n",
       "      <td>532000000</td>\n",
       "      <td>-0.320645</td>\n",
       "      <td>1.026945</td>\n",
       "      <td>-0.531756</td>\n",
       "      <td>404Coin</td>\n",
       "      <td>0</td>\n",
       "    </tr>\n",
       "    <tr>\n",
       "      <th>2</th>\n",
       "      <td>X13</td>\n",
       "      <td>PoW/PoS</td>\n",
       "      <td>2.927942e+10</td>\n",
       "      <td>314159265359</td>\n",
       "      <td>2.291397</td>\n",
       "      <td>1.574206</td>\n",
       "      <td>-0.595828</td>\n",
       "      <td>EliteCoin</td>\n",
       "      <td>0</td>\n",
       "    </tr>\n",
       "    <tr>\n",
       "      <th>3</th>\n",
       "      <td>SHA-256</td>\n",
       "      <td>PoW</td>\n",
       "      <td>1.792718e+07</td>\n",
       "      <td>21000000</td>\n",
       "      <td>-0.141201</td>\n",
       "      <td>-1.376240</td>\n",
       "      <td>0.237900</td>\n",
       "      <td>Bitcoin</td>\n",
       "      <td>1</td>\n",
       "    </tr>\n",
       "    <tr>\n",
       "      <th>4</th>\n",
       "      <td>Ethash</td>\n",
       "      <td>PoW</td>\n",
       "      <td>1.076842e+08</td>\n",
       "      <td>0</td>\n",
       "      <td>-0.150908</td>\n",
       "      <td>-2.093325</td>\n",
       "      <td>0.412457</td>\n",
       "      <td>Ethereum</td>\n",
       "      <td>1</td>\n",
       "    </tr>\n",
       "    <tr>\n",
       "      <th>5</th>\n",
       "      <td>Scrypt</td>\n",
       "      <td>PoW</td>\n",
       "      <td>6.303924e+07</td>\n",
       "      <td>84000000</td>\n",
       "      <td>-0.164250</td>\n",
       "      <td>-1.105579</td>\n",
       "      <td>0.008661</td>\n",
       "      <td>Litecoin</td>\n",
       "      <td>1</td>\n",
       "    </tr>\n",
       "    <tr>\n",
       "      <th>6</th>\n",
       "      <td>X11</td>\n",
       "      <td>PoW/PoS</td>\n",
       "      <td>9.031294e+06</td>\n",
       "      <td>22000000</td>\n",
       "      <td>-0.395975</td>\n",
       "      <td>1.237019</td>\n",
       "      <td>-0.544176</td>\n",
       "      <td>Dash</td>\n",
       "      <td>0</td>\n",
       "    </tr>\n",
       "    <tr>\n",
       "      <th>7</th>\n",
       "      <td>CryptoNight-V7</td>\n",
       "      <td>PoW</td>\n",
       "      <td>1.720114e+07</td>\n",
       "      <td>0</td>\n",
       "      <td>-0.161232</td>\n",
       "      <td>-2.198524</td>\n",
       "      <td>0.456640</td>\n",
       "      <td>Monero</td>\n",
       "      <td>1</td>\n",
       "    </tr>\n",
       "    <tr>\n",
       "      <th>8</th>\n",
       "      <td>Ethash</td>\n",
       "      <td>PoW</td>\n",
       "      <td>1.133597e+08</td>\n",
       "      <td>210000000</td>\n",
       "      <td>-0.149351</td>\n",
       "      <td>-2.093433</td>\n",
       "      <td>0.412438</td>\n",
       "      <td>Ethereum Classic</td>\n",
       "      <td>1</td>\n",
       "    </tr>\n",
       "    <tr>\n",
       "      <th>9</th>\n",
       "      <td>Equihash</td>\n",
       "      <td>PoW</td>\n",
       "      <td>7.383056e+06</td>\n",
       "      <td>21000000</td>\n",
       "      <td>-0.161089</td>\n",
       "      <td>-2.041379</td>\n",
       "      <td>0.350417</td>\n",
       "      <td>ZCash</td>\n",
       "      <td>1</td>\n",
       "    </tr>\n",
       "  </tbody>\n",
       "</table>\n",
       "</div>"
      ],
      "text/plain": [
       "        Algorithm ProofType  TotalCoinsMined TotalCoinSupply       PC1  \\\n",
       "0          Scrypt   PoW/PoS     4.199995e+01              42 -0.337298   \n",
       "1          Scrypt   PoW/PoS     1.055185e+09       532000000 -0.320645   \n",
       "2             X13   PoW/PoS     2.927942e+10    314159265359  2.291397   \n",
       "3         SHA-256       PoW     1.792718e+07        21000000 -0.141201   \n",
       "4          Ethash       PoW     1.076842e+08               0 -0.150908   \n",
       "5          Scrypt       PoW     6.303924e+07        84000000 -0.164250   \n",
       "6             X11   PoW/PoS     9.031294e+06        22000000 -0.395975   \n",
       "7  CryptoNight-V7       PoW     1.720114e+07               0 -0.161232   \n",
       "8          Ethash       PoW     1.133597e+08       210000000 -0.149351   \n",
       "9        Equihash       PoW     7.383056e+06        21000000 -0.161089   \n",
       "\n",
       "        PC2       PC3          CoinName  Class  \n",
       "0  1.026822 -0.531314           42 Coin      0  \n",
       "1  1.026945 -0.531756           404Coin      0  \n",
       "2  1.574206 -0.595828         EliteCoin      0  \n",
       "3 -1.376240  0.237900           Bitcoin      1  \n",
       "4 -2.093325  0.412457          Ethereum      1  \n",
       "5 -1.105579  0.008661          Litecoin      1  \n",
       "6  1.237019 -0.544176              Dash      0  \n",
       "7 -2.198524  0.456640            Monero      1  \n",
       "8 -2.093433  0.412438  Ethereum Classic      1  \n",
       "9 -2.041379  0.350417             ZCash      1  "
      ]
     },
     "execution_count": 76,
     "metadata": {},
     "output_type": "execute_result"
    }
   ],
   "source": [
    "# Initialize the K-Means model\n",
    "model = KMeans(n_clusters=4, random_state=0)\n",
    "\n",
    "# Fit the model\n",
    "model.fit(pcs_df)\n",
    "\n",
    "# Predict clusters\n",
    "predictions = model.predict(pcs_df)\n",
    "\n",
    "# Create a new DataFrame including predicted clusters and cryptocurrencies features\n",
    "clustered_df=pd.DataFrame({\n",
    "    \"Algorithm\": crypto_df.Algorithm,\n",
    "    \"ProofType\": crypto_df.ProofType,\n",
    "    \"TotalCoinsMined\": crypto_df.TotalCoinsMined,\n",
    "    \"TotalCoinSupply\": crypto_df.TotalCoinSupply,\n",
    "    \"PC1\": pcs_df[\"principal component 1\"],\n",
    "    \"PC2\": pcs_df[\"principal component 2\"],\n",
    "    \"PC3\": pcs_df[\"principal component 3\"],\n",
    "    \"CoinName\": coin_name_column,\n",
    "    \"Class\": model.labels_,\n",
    "    },index= crypto_df.index)\n",
    "clustered_df.head(10)"
   ]
  },
  {
   "cell_type": "markdown",
   "metadata": {},
   "source": [
    "### Visualizing Results\n",
    "\n",
    "#### 3D-Scatter with Clusters"
   ]
  },
  {
   "cell_type": "code",
   "execution_count": 77,
   "metadata": {},
   "outputs": [
    {
     "data": {
      "application/vnd.plotly.v1+json": {
       "config": {
        "plotlyServerURL": "https://plot.ly"
       },
       "data": [
        {
         "customdata": [
          [
           "Scrypt"
          ],
          [
           "Scrypt"
          ],
          [
           "X13"
          ],
          [
           "X11"
          ],
          [
           "SHA-512"
          ],
          [
           "SHA-256"
          ],
          [
           "SHA-256"
          ],
          [
           "X15"
          ],
          [
           "Scrypt"
          ],
          [
           "Scrypt"
          ],
          [
           "Scrypt"
          ],
          [
           "Scrypt"
          ],
          [
           "Scrypt"
          ],
          [
           "Scrypt"
          ],
          [
           "Groestl"
          ],
          [
           "PoS"
          ],
          [
           "Scrypt"
          ],
          [
           "Scrypt"
          ],
          [
           "X11"
          ],
          [
           "X11"
          ],
          [
           "SHA3"
          ],
          [
           "Scrypt"
          ],
          [
           "SHA-256"
          ],
          [
           "Scrypt"
          ],
          [
           "X13"
          ],
          [
           "X13"
          ],
          [
           "NeoScrypt"
          ],
          [
           "Scrypt"
          ],
          [
           "Scrypt"
          ],
          [
           "Scrypt"
          ],
          [
           "X11"
          ],
          [
           "X11"
          ],
          [
           "Multiple"
          ],
          [
           "PHI1612"
          ],
          [
           "X11"
          ],
          [
           "Scrypt"
          ],
          [
           "Scrypt"
          ],
          [
           "Scrypt"
          ],
          [
           "X11"
          ],
          [
           "Multiple"
          ],
          [
           "X13"
          ],
          [
           "Scrypt"
          ],
          [
           "Shabal256"
          ],
          [
           "Counterparty"
          ],
          [
           "SHA-256"
          ],
          [
           "Groestl"
          ],
          [
           "Scrypt"
          ],
          [
           "X13"
          ],
          [
           "Scrypt"
          ],
          [
           "Scrypt"
          ],
          [
           "X13"
          ],
          [
           "X11"
          ],
          [
           "Scrypt"
          ],
          [
           "X11"
          ],
          [
           "SHA3"
          ],
          [
           "QUAIT"
          ],
          [
           "X11"
          ],
          [
           "Scrypt"
          ],
          [
           "X13"
          ],
          [
           "SHA-256"
          ],
          [
           "X15"
          ],
          [
           "BLAKE256"
          ],
          [
           "SHA-256"
          ],
          [
           "X11"
          ],
          [
           "SHA-256"
          ],
          [
           "NIST5"
          ],
          [
           "Scrypt"
          ],
          [
           "Scrypt"
          ],
          [
           "X11"
          ],
          [
           "Scrypt"
          ],
          [
           "SHA-256"
          ],
          [
           "Scrypt"
          ],
          [
           "PoS"
          ],
          [
           "X11"
          ],
          [
           "SHA-256"
          ],
          [
           "SHA-256"
          ],
          [
           "NIST5"
          ],
          [
           "X11"
          ],
          [
           "POS 3.0"
          ],
          [
           "Scrypt"
          ],
          [
           "Scrypt"
          ],
          [
           "Scrypt"
          ],
          [
           "X13"
          ],
          [
           "X11"
          ],
          [
           "X11"
          ],
          [
           "Scrypt"
          ],
          [
           "SHA-256"
          ],
          [
           "X11"
          ],
          [
           "Scrypt"
          ],
          [
           "Scrypt"
          ],
          [
           "Scrypt"
          ],
          [
           "Scrypt"
          ],
          [
           "SHA-256D"
          ],
          [
           "PoS"
          ],
          [
           "Scrypt"
          ],
          [
           "X11"
          ],
          [
           "PoS"
          ],
          [
           "X13"
          ],
          [
           "X14"
          ],
          [
           "PoS"
          ],
          [
           "SHA-256D"
          ],
          [
           "DPoS"
          ],
          [
           "X11"
          ],
          [
           "X13"
          ],
          [
           "X11"
          ],
          [
           "PoS"
          ],
          [
           "Scrypt"
          ],
          [
           "Scrypt"
          ],
          [
           "PoS"
          ],
          [
           "X11"
          ],
          [
           "SHA-256"
          ],
          [
           "Scrypt"
          ],
          [
           "X11"
          ],
          [
           "Scrypt"
          ],
          [
           "Scrypt"
          ],
          [
           "X11"
          ],
          [
           "Scrypt"
          ],
          [
           "Scrypt"
          ],
          [
           "Scrypt"
          ],
          [
           "Scrypt"
          ],
          [
           "Quark"
          ],
          [
           "QuBit"
          ],
          [
           "Scrypt"
          ],
          [
           "SHA-256"
          ],
          [
           "X11"
          ],
          [
           "Scrypt"
          ],
          [
           "Scrypt"
          ],
          [
           "Scrypt"
          ],
          [
           "Scrypt"
          ],
          [
           "X13"
          ],
          [
           "Scrypt"
          ],
          [
           "Scrypt"
          ],
          [
           "X11"
          ],
          [
           "Blake2S"
          ],
          [
           "X11"
          ],
          [
           "PoS"
          ],
          [
           "X11"
          ],
          [
           "PoS"
          ],
          [
           "X11"
          ],
          [
           "Scrypt"
          ],
          [
           "Scrypt"
          ],
          [
           "Scrypt"
          ],
          [
           "SHA-256"
          ],
          [
           "X11"
          ],
          [
           "Scrypt"
          ],
          [
           "PoS"
          ],
          [
           "Scrypt"
          ],
          [
           "X15"
          ],
          [
           "SHA-256"
          ],
          [
           "POS 3.0"
          ],
          [
           "536"
          ],
          [
           "NIST5"
          ],
          [
           "NIST5"
          ],
          [
           "Skein"
          ],
          [
           "X13"
          ],
          [
           "Scrypt"
          ],
          [
           "X13"
          ],
          [
           "SkunkHash v2 Raptor"
          ],
          [
           "Skein"
          ],
          [
           "X11"
          ],
          [
           "Scrypt"
          ],
          [
           "VeChainThor Authority"
          ],
          [
           "PoS"
          ],
          [
           "Scrypt"
          ],
          [
           "Scrypt"
          ],
          [
           "SHA-512"
          ],
          [
           "Ouroboros"
          ],
          [
           "X11"
          ],
          [
           "NeoScrypt"
          ],
          [
           "Scrypt"
          ],
          [
           "Lyra2REv2"
          ],
          [
           "Scrypt"
          ],
          [
           "SHA-256"
          ],
          [
           "NIST5"
          ],
          [
           "PHI1612"
          ],
          [
           "Scrypt"
          ],
          [
           "Quark"
          ],
          [
           "POS 2.0"
          ],
          [
           "Scrypt"
          ],
          [
           "SHA-256"
          ],
          [
           "X11"
          ],
          [
           "DPoS"
          ],
          [
           "NIST5"
          ],
          [
           "X13"
          ],
          [
           "Scrypt"
          ],
          [
           "NIST5"
          ],
          [
           "Quark"
          ],
          [
           "Scrypt"
          ],
          [
           "Scrypt"
          ],
          [
           "X11"
          ],
          [
           "Quark"
          ],
          [
           "Scrypt"
          ],
          [
           "Scrypt"
          ],
          [
           "X11"
          ],
          [
           "POS 3.0"
          ],
          [
           "Scrypt"
          ],
          [
           "Scrypt"
          ],
          [
           "X13"
          ],
          [
           "C11"
          ],
          [
           "X11"
          ],
          [
           "XEVAN"
          ],
          [
           "Scrypt"
          ],
          [
           "VBFT"
          ],
          [
           "NIST5"
          ],
          [
           "Scrypt"
          ],
          [
           "Scrypt"
          ],
          [
           "Scrypt"
          ],
          [
           "Green Protocol"
          ],
          [
           "PoS"
          ],
          [
           "Scrypt"
          ],
          [
           "Semux BFT consensus"
          ],
          [
           "Quark"
          ],
          [
           "PoS"
          ],
          [
           "X16R"
          ],
          [
           "Scrypt"
          ],
          [
           "XEVAN"
          ],
          [
           "Scrypt"
          ],
          [
           "Scrypt"
          ],
          [
           "Scrypt"
          ],
          [
           "SHA-256D"
          ],
          [
           "Scrypt"
          ],
          [
           "X15"
          ],
          [
           "Scrypt"
          ],
          [
           "Quark"
          ],
          [
           "SHA-256"
          ],
          [
           "DPoS"
          ],
          [
           "X16R"
          ],
          [
           "Quark"
          ],
          [
           "Quark"
          ],
          [
           "Scrypt"
          ],
          [
           "Lyra2REv2"
          ],
          [
           "Quark"
          ],
          [
           "Scrypt"
          ],
          [
           "X11"
          ],
          [
           "X11"
          ],
          [
           "Scrypt"
          ],
          [
           "PoS"
          ],
          [
           "Keccak"
          ],
          [
           "X11"
          ],
          [
           "Scrypt"
          ],
          [
           "SHA-512"
          ],
          [
           "ECC 256K1"
          ],
          [
           "XEVAN"
          ],
          [
           "XEVAN"
          ],
          [
           "X11"
          ],
          [
           "Quark"
          ],
          [
           "Equihash"
          ],
          [
           "Scrypt"
          ],
          [
           "Quark"
          ],
          [
           "Quark"
          ],
          [
           "Scrypt"
          ],
          [
           "X11"
          ],
          [
           "Scrypt"
          ],
          [
           "XEVAN"
          ],
          [
           "SHA-256D"
          ],
          [
           "X11"
          ],
          [
           "X11"
          ],
          [
           "DPoS"
          ],
          [
           "Scrypt"
          ],
          [
           "X11"
          ],
          [
           "Scrypt"
          ],
          [
           "Scrypt"
          ],
          [
           "SHA-256"
          ],
          [
           "Scrypt"
          ],
          [
           "X11"
          ],
          [
           "Scrypt"
          ],
          [
           "SHA-256"
          ],
          [
           "X11"
          ],
          [
           "Scrypt"
          ],
          [
           "Scrypt"
          ],
          [
           "X11"
          ],
          [
           "Scrypt"
          ],
          [
           "PoS"
          ],
          [
           "X11"
          ],
          [
           "SHA-256"
          ],
          [
           "DPoS"
          ],
          [
           "Scrypt"
          ],
          [
           "Scrypt"
          ],
          [
           "NeoScrypt"
          ],
          [
           "X13"
          ],
          [
           "DPoS"
          ],
          [
           "DPoS"
          ],
          [
           "SHA-256"
          ],
          [
           "PoS"
          ],
          [
           "PoS"
          ],
          [
           "SHA-256"
          ],
          [
           "Scrypt"
          ],
          [
           "Scrypt"
          ]
         ],
         "hovertemplate": "<b>%{hovertext}</b><br><br>Class=%{marker.color}<br>PC3=%{x}<br>PC2=%{y}<br>PC1=%{z}<br>Algorithm=%{customdata[0]}<extra></extra>",
         "hovertext": [
          "42 Coin",
          "404Coin",
          "EliteCoin",
          "Dash",
          "Bitshares",
          "BitcoinDark",
          "PayCoin",
          "KoboCoin",
          "Aurora Coin",
          "BlueCoin",
          "EnergyCoin",
          "BitBar",
          "CryptoBullion",
          "CasinoCoin",
          "Diamond",
          "Exclusive Coin",
          "FlutterCoin",
          "HoboNickels",
          "HyperStake",
          "IOCoin",
          "MaxCoin",
          "MintCoin",
          "MazaCoin",
          "Nautilus Coin",
          "NavCoin",
          "OpalCoin",
          "Orbitcoin",
          "PotCoin",
          "PhoenixCoin",
          "Reddcoin",
          "SuperCoin",
          "SyncCoin",
          "TeslaCoin",
          "TittieCoin",
          "TorCoin",
          "UnitaryStatus Dollar",
          "UltraCoin",
          "VeriCoin",
          "X11 Coin",
          "Crypti",
          "StealthCoin",
          "ZCC Coin",
          "BurstCoin",
          "StorjCoin",
          "Neutron",
          "FairCoin",
          "RubyCoin",
          "Kore",
          "Dnotes",
          "8BIT Coin",
          "Sativa Coin",
          "Ucoin",
          "Vtorrent",
          "IslaCoin",
          "Nexus",
          "Droidz",
          "Squall Coin",
          "Diggits",
          "Paycon",
          "Emercoin",
          "EverGreenCoin",
          "Decred",
          "EDRCoin",
          "Hitcoin",
          "DubaiCoin",
          "PWR Coin",
          "BillaryCoin",
          "GPU Coin",
          "EuropeCoin",
          "ZeitCoin",
          "SwingCoin",
          "SafeExchangeCoin",
          "Nebuchadnezzar",
          "Ratecoin",
          "Revenu",
          "Clockcoin",
          "VIP Tokens",
          "BitSend",
          "Let it Ride",
          "PutinCoin",
          "iBankCoin",
          "Frankywillcoin",
          "MudraCoin",
          "Lutetium Coin",
          "GoldBlocks",
          "CarterCoin",
          "BitTokens",
          "MustangCoin",
          "ZoneCoin",
          "RootCoin",
          "BitCurrency",
          "Swiscoin",
          "BuzzCoin",
          "Opair",
          "PesoBit",
          "Halloween Coin",
          "CoffeeCoin",
          "RoyalCoin",
          "GanjaCoin V2",
          "TeamUP",
          "LanaCoin",
          "ARK",
          "InsaneCoin",
          "EmberCoin",
          "XenixCoin",
          "FreeCoin",
          "PLNCoin",
          "AquariusCoin",
          "Creatio",
          "Eternity",
          "Eurocoin",
          "BitcoinFast",
          "Stakenet",
          "BitConnect Coin",
          "MoneyCoin",
          "Enigma",
          "Russiacoin",
          "PandaCoin",
          "GameUnits",
          "GAKHcoin",
          "Allsafe",
          "LiteCreed",
          "Klingon Empire Darsek",
          "Internet of People",
          "KushCoin",
          "Printerium",
          "Impeach",
          "Zilbercoin",
          "FirstCoin",
          "FindCoin",
          "OpenChat",
          "RenosCoin",
          "VirtacoinPlus",
          "TajCoin",
          "Impact",
          "Atmos",
          "HappyCoin",
          "MacronCoin",
          "Condensate",
          "Independent Money System",
          "ArgusCoin",
          "LomoCoin",
          "ProCurrency",
          "GoldReserve",
          "GrowthCoin",
          "Phreak",
          "Degas Coin",
          "HTML5 Coin",
          "Ultimate Secure Cash",
          "QTUM",
          "Espers",
          "Denarius",
          "Virta Unique Coin",
          "Bitcoin Planet",
          "BritCoin",
          "Linda",
          "DeepOnion",
          "Signatum",
          "Cream",
          "Monoeci",
          "Draftcoin",
          "Vechain",
          "Stakecoin",
          "CoinonatX",
          "Ethereum Dark",
          "Obsidian",
          "Cardano",
          "Regalcoin",
          "TrezarCoin",
          "TerraNovaCoin",
          "Rupee",
          "WomenCoin",
          "Theresa May Coin",
          "NamoCoin",
          "LUXCoin",
          "Xios",
          "Bitcloud 2.0",
          "KekCoin",
          "BlackholeCoin",
          "Infinity Economics",
          "Magnet",
          "Lamden Tau",
          "Electra",
          "Bitcoin Diamond",
          "Cash & Back Coin",
          "Bulwark",
          "Kalkulus",
          "GermanCoin",
          "LiteCoin Ultra",
          "PhantomX",
          "Digiwage",
          "Trollcoin",
          "Litecoin Plus",
          "Monkey Project",
          "TokenPay",
          "My Big Coin",
          "Unified Society USDEX",
          "Tokyo Coin",
          "Stipend",
          "Pushi",
          "Ellerium",
          "Velox",
          "Ontology",
          "Bitspace",
          "Briacoin",
          "Ignition",
          "MedicCoin",
          "Bitcoin Green",
          "Deviant Coin",
          "Abjcoin",
          "Semux",
          "Carebit",
          "Zealium",
          "Proton",
          "iDealCash",
          "Bitcoin Incognito",
          "HollyWoodCoin",
          "Swisscoin",
          "Xt3ch",
          "TheVig",
          "EmaratCoin",
          "Dekado",
          "Lynx",
          "Poseidon Quark",
          "BitcoinWSpectrum",
          "Muse",
          "Trivechain",
          "Dystem",
          "Giant",
          "Peony Coin",
          "Absolute Coin",
          "Vitae",
          "TPCash",
          "ARENON",
          "EUNO",
          "MMOCoin",
          "Ketan",
          "XDNA",
          "PAXEX",
          "ThunderStake",
          "Kcash",
          "Acute Angle Cloud",
          "Bettex coin",
          "BitMoney",
          "Junson Ming Chan Coin",
          "HerbCoin",
          "PirateCash",
          "Oduwa",
          "Galilel",
          "Crypto Sports",
          "Credit",
          "Dash Platinum",
          "Nasdacoin",
          "Beetle Coin",
          "Titan Coin",
          "Award",
          "Insane Coin",
          "ALAX",
          "LiteDoge",
          "TruckCoin",
          "OrangeCoin",
          "BitstarCoin",
          "NeosCoin",
          "HyperCoin",
          "PinkCoin",
          "AudioCoin",
          "IncaKoin",
          "Piggy Coin",
          "Genstake",
          "XiaoMiCoin",
          "CapriCoin",
          " ClubCoin",
          "Radium",
          "Creditbit ",
          "OKCash",
          "Lisk",
          "HiCoin",
          "WhiteCoin",
          "FriendshipCoin",
          "Triangles Coin",
          "EOS",
          "Oxycoin",
          "TigerCash",
          "Particl",
          "Nxt",
          "ZEPHYR",
          "Gapcoin",
          "BitcoinPlus"
         ],
         "legendgroup": "0",
         "marker": {
          "color": [
           0,
           0,
           0,
           0,
           0,
           0,
           0,
           0,
           0,
           0,
           0,
           0,
           0,
           0,
           0,
           0,
           0,
           0,
           0,
           0,
           0,
           0,
           0,
           0,
           0,
           0,
           0,
           0,
           0,
           0,
           0,
           0,
           0,
           0,
           0,
           0,
           0,
           0,
           0,
           0,
           0,
           0,
           0,
           0,
           0,
           0,
           0,
           0,
           0,
           0,
           0,
           0,
           0,
           0,
           0,
           0,
           0,
           0,
           0,
           0,
           0,
           0,
           0,
           0,
           0,
           0,
           0,
           0,
           0,
           0,
           0,
           0,
           0,
           0,
           0,
           0,
           0,
           0,
           0,
           0,
           0,
           0,
           0,
           0,
           0,
           0,
           0,
           0,
           0,
           0,
           0,
           0,
           0,
           0,
           0,
           0,
           0,
           0,
           0,
           0,
           0,
           0,
           0,
           0,
           0,
           0,
           0,
           0,
           0,
           0,
           0,
           0,
           0,
           0,
           0,
           0,
           0,
           0,
           0,
           0,
           0,
           0,
           0,
           0,
           0,
           0,
           0,
           0,
           0,
           0,
           0,
           0,
           0,
           0,
           0,
           0,
           0,
           0,
           0,
           0,
           0,
           0,
           0,
           0,
           0,
           0,
           0,
           0,
           0,
           0,
           0,
           0,
           0,
           0,
           0,
           0,
           0,
           0,
           0,
           0,
           0,
           0,
           0,
           0,
           0,
           0,
           0,
           0,
           0,
           0,
           0,
           0,
           0,
           0,
           0,
           0,
           0,
           0,
           0,
           0,
           0,
           0,
           0,
           0,
           0,
           0,
           0,
           0,
           0,
           0,
           0,
           0,
           0,
           0,
           0,
           0,
           0,
           0,
           0,
           0,
           0,
           0,
           0,
           0,
           0,
           0,
           0,
           0,
           0,
           0,
           0,
           0,
           0,
           0,
           0,
           0,
           0,
           0,
           0,
           0,
           0,
           0,
           0,
           0,
           0,
           0,
           0,
           0,
           0,
           0,
           0,
           0,
           0,
           0,
           0,
           0,
           0,
           0,
           0,
           0,
           0,
           0,
           0,
           0,
           0,
           0,
           0,
           0,
           0,
           0,
           0,
           0,
           0,
           0,
           0,
           0,
           0,
           0,
           0,
           0,
           0,
           0,
           0,
           0,
           0,
           0,
           0,
           0,
           0,
           0,
           0,
           0,
           0,
           0,
           0,
           0,
           0,
           0,
           0,
           0,
           0,
           0,
           0,
           0,
           0,
           0,
           0,
           0
          ],
          "coloraxis": "coloraxis",
          "symbol": "circle"
         },
         "mode": "markers",
         "name": "0",
         "scene": "scene",
         "showlegend": true,
         "type": "scatter3d",
         "x": [
          -0.5313138035565607,
          -0.531755919411133,
          -0.5958283568849043,
          -0.5441755665464644,
          -0.07339859238693086,
          -0.30210006162148867,
          -0.042176630341650485,
          -0.5223690115856707,
          -0.531322041435062,
          -0.5315531784511562,
          -0.531360163372652,
          -0.5313138615042364,
          -0.5313142788432185,
          -0.368387805921447,
          -0.4600396392727208,
          -0.1498818406167988,
          -0.3599167603268457,
          -0.5313574942825061,
          -0.28487597841579393,
          -0.544178813702732,
          -0.48925376653743213,
          -0.2794089168726754,
          -0.302908548286211,
          -0.2713945875776341,
          -0.5584799399725634,
          -0.5584607535057665,
          -0.3119487546503536,
          -0.5314329081522388,
          -0.5313498828584552,
          -0.5423574727599815,
          -0.2842627539839034,
          -0.5441703200622316,
          0.07316904808208745,
          -0.31775463788691694,
          -0.5441716974694226,
          -0.5318619626555814,
          -0.5313411133094958,
          -0.30319992375877797,
          -0.5441733992230333,
          0.07316999718529878,
          -0.5584675108126056,
          -0.5314534071578446,
          -0.3651785712404648,
          -0.20188010664649172,
          -0.3021181711353528,
          -0.4600580661538256,
          -0.27139737641024836,
          -0.5584568119824312,
          -0.2714948542934959,
          -0.5313143564977219,
          -0.5584585558765727,
          -0.28424634191297093,
          -0.5313198522959579,
          -0.5441708897728424,
          -0.1830195789166159,
          -0.5905511404586701,
          -0.30447242442248146,
          -0.271433192562275,
          -0.5584679170453681,
          -0.30219780586568135,
          -0.5223373430221163,
          -0.3903652886672011,
          -0.3021009585202978,
          -0.5505391206917642,
          -0.3021005439598123,
          -0.496643768487346,
          -0.5313207153501234,
          -0.2714209199092076,
          -0.5442064397575923,
          -0.2936162912065239,
          -0.3021027343635461,
          -0.350954070211996,
          -0.14988891237773674,
          -0.5442272976435347,
          -0.302116857893187,
          -0.3021480314100763,
          -0.4928894209519693,
          -0.5441911623972817,
          -0.23951159792773377,
          -0.5317878155498975,
          -0.5313192261717026,
          -0.5313598605458678,
          -0.29854703008796774,
          -0.28454624609814655,
          -0.5441803753687171,
          -0.5313376114979305,
          -0.3020997165403684,
          -0.5441708188372968,
          -0.5313165371261053,
          -0.5313145343261751,
          -0.27145102621640066,
          -0.3462586484357328,
          -0.7299604156165096,
          -0.14991379589799214,
          -0.5313264322012539,
          -0.544395808178159,
          -0.14993907923146668,
          -0.29852952734610305,
          -0.686871499656104,
          -0.14991165338732398,
          -0.7219451396083844,
          0.017402508145901604,
          -0.5441797451783694,
          -0.5932569123034265,
          -0.5441720942620294,
          -0.14990272948032815,
          -0.531323473180432,
          -0.5313182481687571,
          -0.14988891237773674,
          -0.5441776372033064,
          -0.30210408590458765,
          -0.5313241969583669,
          -0.4603642490945077,
          -0.5313203257220408,
          -0.5313724750911141,
          -0.5441710457013001,
          -0.5313290344840929,
          -0.28685159764436335,
          -0.5313162019601594,
          -0.5313153306904552,
          -0.2419851148926471,
          -0.3214898555540418,
          -0.5313647582969626,
          -0.30210044384862966,
          -0.5441732357751967,
          -0.5313199340457826,
          -0.5313157588135944,
          -0.27139284847760486,
          -0.20457724967974025,
          -0.2985350655758785,
          -0.5317743736236151,
          -0.2714036031006275,
          -0.5441836634847278,
          -0.6943812718811017,
          -0.5442212197222344,
          -0.1499308158943926,
          -0.5441868123003044,
          -0.15006446447632396,
          -0.5442580795646402,
          -0.5313176048095338,
          -0.5313166343317568,
          -0.5313978450944391,
          -0.04849793051904049,
          -0.5441801424125169,
          -0.2716660244654833,
          -0.14988650746244994,
          -0.5313306543301971,
          -0.5451937680186454,
          -0.04219173745697258,
          -0.23954030842159957,
          -0.7900686786109632,
          -0.4928528469500232,
          -0.49288421071443766,
          -0.6273785696136446,
          -0.5584655714927553,
          -0.5389138417092233,
          -0.5584648850316769,
          -0.1517149761219816,
          -0.6273938369848844,
          -0.5441758518035301,
          -0.2713956258725807,
          4.931557794547598,
          -0.14988637319766826,
          -0.5313252105145525,
          -0.5313157379315919,
          -0.07208095849300676,
          -0.10709658068214623,
          -0.5441753194408436,
          -0.3120495695123677,
          -0.5313155525616357,
          -0.08155075141354784,
          -0.551665635144964,
          -0.30214079372579017,
          -0.4931622344580636,
          -0.5768854458449085,
          -0.5313163742781758,
          -0.5019349030551298,
          -0.17420292062890952,
          -0.5313212076284979,
          -0.046316194105152135,
          -0.5441967844513625,
          0.01730329616674393,
          -0.506064472428392,
          -0.5585417933857382,
          -0.5313732196104533,
          -0.23293108352580014,
          -0.24198795945901103,
          -0.5373567085705843,
          -0.5313295532480818,
          -0.5441915300842608,
          -0.2420002415063891,
          -0.5316119196662579,
          -0.5313150824322806,
          -0.28424707275482136,
          -0.2395040500442523,
          -0.2980648610453503,
          -0.5314217280336573,
          -0.29868221591703764,
          -0.44960278349862515,
          -0.5441732325220301,
          -0.37415053343154503,
          -0.2714071660060481,
          -0.2372287993096834,
          -0.4928598237656119,
          -0.5313143736628705,
          -0.53131466814041,
          -0.27152975770170795,
          -0.1731338009393967,
          -0.14989532133721098,
          -0.5313200412852936,
          -0.011692712933155009,
          -0.5019759757612736,
          -0.14989058146716136,
          -0.11176985590167067,
          -0.5322722653851777,
          -0.13445319416472534,
          -0.2714038972455963,
          -0.5360116184183694,
          -0.2713936994442404,
          -0.7209289752634847,
          -0.5313289840419415,
          -0.26242232803409093,
          -0.33576031024757275,
          -0.24203542271413214,
          -0.04220124901841422,
          -0.06109204572338989,
          -0.37171192286200877,
          -0.24198432384599317,
          -0.5019092247552358,
          -0.2728029700925007,
          -0.34147579063033673,
          -0.24201316380312582,
          -0.5313996924396528,
          -0.2842555226271335,
          -0.5441861041977275,
          -0.2714495338542356,
          -0.14990082383573583,
          -0.4015509911427906,
          -0.2842537338448516,
          -0.5332224637172248,
          0.12595259560938957,
          2.018440436237159,
          -0.11422542589800319,
          0.13797679787818437,
          -0.29072692045450266,
          -0.5019243936250889,
          0.07032847136853461,
          -0.5313211314068172,
          -0.5019150398232449,
          -0.24198174482411547,
          -0.5491985883348405,
          -0.2842455730604041,
          -0.5313285874300825,
          -0.37426221424945955,
          -0.7216650089417105,
          -0.5442113469412266,
          -0.5441817919367181,
          0.016993181261679972,
          -0.5400195489570135,
          -0.5442617012969202,
          -0.5313319066811212,
          -0.5313261046134528,
          -0.04217447888647258,
          -0.5313174317729145,
          -0.5443766279136857,
          -0.5325637206301808,
          -0.3088718608066361,
          -0.5444403615391906,
          -0.5313376643484676,
          -0.5314996576610163,
          -0.5442636183430325,
          -0.5313662561597103,
          -0.1498818951826001,
          -0.633933597140211,
          -0.30213466763567226,
          0.01739513107882683,
          -0.2759936694879794,
          -0.5314338942486645,
          -0.3119526926226272,
          -0.5584551069431094,
          0.01706929499165688,
          0.017030930987555457,
          -0.0426316334178285,
          -0.1498839220909532,
          -0.020881526926563216,
          0.03544522301207673,
          -0.5313403916141568,
          -0.2713872677497819
         ],
         "y": [
          1.0268223497496807,
          1.0269446349099878,
          1.574206404309499,
          1.2370192135966618,
          1.5923725161959854,
          0.7561345923945766,
          0.5937767635080687,
          1.7609664891555283,
          1.0268204780986916,
          1.027062923075633,
          1.0268689416868655,
          1.0268221053398257,
          1.0268222220951206,
          0.36356875711795406,
          0.9463401855069473,
          1.6073003683349787,
          0.42381561222248926,
          1.02679361770167,
          1.075295917892587,
          1.237022477009481,
          1.8667168175939028,
          0.8725174587205246,
          0.7554959909837987,
          0.8644532120050099,
          1.7268460937966115,
          1.72682681127473,
          0.5033432758440723,
          1.0266878052919282,
          1.026799285786099,
          1.0379213079796543,
          1.0746796234152538,
          1.237027257855388,
          0.17027541643554334,
          1.7417660782894084,
          1.2370225893027296,
          1.0264046994096527,
          1.02678926164108,
          0.45439175210115523,
          1.2370270236334653,
          0.17033499719117912,
          1.726833602411335,
          1.0263573061831857,
          0.5295502289219564,
          1.6830576662015106,
          0.756124946651071,
          0.9463613560562864,
          0.8644658092995984,
          1.7268155858653085,
          0.8642611021437291,
          1.026822905484498,
          1.726818549182286,
          1.0746510222568784,
          1.0268163218747983,
          1.2370278310235425,
          1.9208933115008133,
          1.8752577975432028,
          0.7725998200586263,
          0.8644412701510945,
          1.726803743372642,
          0.7556407974952809,
          1.7611306137912193,
          0.8336400988012915,
          0.7561354937836183,
          1.2273560047691154,
          0.756142038627878,
          1.4241033364867537,
          1.026803871635461,
          0.8643556573170408,
          1.2368311060815858,
          0.8268666964909422,
          0.7561263822875659,
          0.3689616145067519,
          1.6072953685778777,
          1.2370391203366473,
          0.7560299646582965,
          0.7558783132485187,
          1.420275712044765,
          1.236964062032299,
          1.649998610983763,
          1.026088042652322,
          1.0268009625275791,
          1.0268081027335745,
          1.5643519188428174,
          1.0745668224132325,
          1.2370070968028655,
          1.0267917957590964,
          0.7561348509319477,
          1.2370259436945517,
          1.026812384761783,
          1.0268230842032313,
          0.8645197276980219,
          0.49376512390247557,
          1.898520828774726,
          1.6072876879852989,
          1.026835041643805,
          1.2363458563033374,
          1.6073336797264919,
          1.5644538842558104,
          1.8146671613119363,
          1.6071481211826824,
          1.898028619334261,
          1.9202867128366023,
          1.237018570379622,
          1.7612826292963413,
          1.2370267089465279,
          1.6072910944712504,
          1.0268087377700865,
          1.0268013921024033,
          1.6072953685778777,
          1.2369982914680662,
          0.7561398475170465,
          1.0268128187889598,
          0.9766095388083972,
          1.0268119549022063,
          1.0264874406475222,
          1.2370249610021182,
          1.02675048711568,
          0.8603146222352422,
          1.0268168906866981,
          1.0268218773544733,
          1.5695601895422946,
          0.6601881232430428,
          1.0265708865630185,
          0.7561355818814033,
          1.2370245263634578,
          1.0268164040338958,
          1.0268110375632347,
          0.8644279646625835,
          0.3725346957810894,
          1.5644521710902304,
          1.0266798795347627,
          0.8644512272622167,
          1.2369801340752753,
          1.809453817890705,
          1.2370118248732027,
          1.6072828251622835,
          1.2369832986550757,
          1.6072417680404505,
          1.2368127842699448,
          1.0268133293838386,
          1.0268078818236916,
          1.0263014659539884,
          0.5547363196285446,
          1.2370129161414374,
          0.8635251101051581,
          1.607286898161585,
          1.0267757235694484,
          1.7296362371435061,
          0.5936783928909112,
          1.6499872096978432,
          1.9199925254104684,
          1.4202873826271651,
          1.4202523153395819,
          1.8340094018438162,
          1.726813492999347,
          1.0041931315243444,
          1.7268195235404462,
          1.6581197633466498,
          1.83402474564959,
          1.2370270627066664,
          0.8644535134096142,
          2.7018692004168186,
          1.6072676343089098,
          1.0268046046806274,
          1.0268217513807367,
          1.5931725550870373,
          1.3986174550443768,
          1.2370159385234063,
          0.5032047391384616,
          1.026814583424543,
          0.6558598299975298,
          1.0321424181194416,
          0.756128311423856,
          1.4198779571879627,
          1.9046890417281617,
          1.026812221098572,
          1.7318382690231724,
          1.4748343111346562,
          1.0268208388894984,
          0.5924965034615909,
          1.2369666855020973,
          1.9201594167212617,
          1.415410821088637,
          1.7267811341906631,
          1.0267549406074725,
          1.2579147547733969,
          1.5695600216191674,
          1.0026282027577946,
          1.0267473764001822,
          1.2370183073633527,
          1.5695118305449265,
          1.0265771468787064,
          1.0268212136689565,
          1.0746511514115096,
          1.6499961707544613,
          0.37426647824171255,
          1.026790374268844,
          1.5641245738033123,
          0.9309413594433803,
          1.2370150518488556,
          1.3392038562299915,
          0.8644005849890689,
          1.5343902069357647,
          1.4202701805272935,
          1.0268211066972688,
          1.0268201919568716,
          0.8642961802922869,
          1.64209535317932,
          1.6072606460880567,
          1.0268104583492466,
          2.0348458799585023,
          1.7318795473556217,
          1.6072607252571678,
          0.677399425631901,
          1.0246850568271813,
          0.8748005854843087,
          0.864456623782129,
          1.0253691535024623,
          0.8644354786966444,
          1.901490560915266,
          1.0267867571872566,
          1.598736930786297,
          0.3108418873175789,
          1.5692263544484821,
          0.5937483789268144,
          1.7300448131223929,
          0.8397590056182804,
          1.5695557624587204,
          1.731930413250582,
          0.855660197701481,
          0.8182077732949784,
          1.569536924457907,
          1.026303322547747,
          1.0746390618196957,
          1.2370128543126728,
          0.8643608378773658,
          1.6071923239095465,
          0.8695946974889928,
          1.0746100235073626,
          1.01784433556942,
          1.714814391446027,
          3.5068742666274453,
          1.1768446453708388,
          0.81629285202252,
          1.081176152074613,
          1.7319160875099802,
          -0.07140521587104574,
          1.0268170020432914,
          1.7319278522010808,
          1.5695577893160106,
          0.9995167842948245,
          1.074650431158961,
          1.0267863585898012,
          1.3390497438805908,
          1.899264083559544,
          1.2368142453727766,
          1.2370206273848565,
          1.9201684111327253,
          1.014384565947757,
          1.2371190971862338,
          1.0267194743102261,
          1.0268018686856955,
          0.5937694558399634,
          1.026825996155741,
          1.2369319261191836,
          1.0217223903350863,
          0.7628385957546965,
          1.2366933057683942,
          1.026837249832051,
          1.0267669958973862,
          1.236995111840136,
          1.0267782096001432,
          1.607294975059019,
          0.8752756484709687,
          0.7561191279335724,
          1.9202729891187993,
          0.8630263035880976,
          1.0267614378576668,
          0.5033130931340335,
          1.726821063801601,
          1.9206972624514924,
          1.9207358185210583,
          0.5936362652325949,
          1.6072972335868072,
          1.6814499375885241,
          0.7837573299535993,
          1.0266977344169936,
          0.8644550446850521
         ],
         "z": [
          -0.3372979115210984,
          -0.3206445827689035,
          2.29139734440412,
          -0.3959747928090921,
          -0.28246474364198,
          -0.3130801598981846,
          -0.26058142343373447,
          -0.23923927132519351,
          -0.3369576788999484,
          -0.3295389212885692,
          -0.33579522542959395,
          -0.33729385034722215,
          -0.33727813984104166,
          0.7125403917520858,
          -0.38411203669645727,
          -0.3461122596719783,
          -0.2506768964970121,
          -0.3353578038745203,
          -0.3233096611432141,
          -0.3958695409429595,
          -0.4791177062036819,
          -0.02484819066396048,
          -0.2764077362206069,
          -0.28455042001173547,
          -0.2908593644101529,
          -0.2914812659351708,
          -0.3599369508447342,
          -0.33160353192888997,
          -0.33570057213645604,
          0.02066662611712245,
          -0.343186442700084,
          -0.3962409006068636,
          -0.2459429931819113,
          -0.32207400011363413,
          -0.39615259696063126,
          -0.3125443120457048,
          -0.3359760920904252,
          -0.3038587938503498,
          -0.3961170846919447,
          -0.24641037052527728,
          -0.2912622376235724,
          -0.3284067278407752,
          0.13114153514435964,
          -0.3315443462931785,
          -0.31229232401487883,
          -0.3835338797141576,
          -0.28453066811325234,
          -0.2915566310793155,
          -0.27918799605899697,
          -0.3372799889181908,
          -0.2915088375479284,
          -0.34363109349497734,
          -0.33701452787280406,
          -0.39622243862891654,
          -0.5586082862184657,
          -0.45945511379971626,
          -0.3609608184296729,
          -0.2829331258958234,
          -0.29103076340820233,
          -0.3056418414291875,
          -0.2416790886873521,
          -0.09508437764050447,
          -0.31305108822265965,
          -0.07388456502291689,
          -0.3131147361570523,
          -0.24046766035347758,
          -0.33689049824405404,
          -0.28280239398596546,
          -0.3933935413908599,
          0.8679106679776372,
          -0.31291493639970236,
          -0.01781810510507617,
          -0.34579571607877596,
          -0.39406659906744024,
          -0.31165934056080774,
          -0.3093291226018348,
          -0.3617664444547284,
          -0.3949584380599739,
          -0.32409692982621896,
          -0.3132012289054298,
          -0.33692858015737337,
          -0.33536842758331137,
          -0.2377531578252492,
          -0.33112890558007696,
          -0.3956966700119167,
          -0.33613325959288176,
          -0.313095711338144,
          -0.39621163949574273,
          -0.3371176181653733,
          -0.337274224866502,
          -0.28279168737145594,
          -0.2343294451842147,
          0.03419418464388875,
          -0.34475338150904866,
          -0.33688857248276327,
          -0.38238283130218814,
          -0.34408230793163674,
          -0.23918279504158652,
          -0.41516086028702237,
          -0.3438317151576361,
          -0.28015987051776325,
          3.7324172245639398,
          -0.3958044194266096,
          0.8400970259700262,
          -0.3961665727105503,
          -0.34521687065432655,
          -0.3368162139983867,
          -0.33697046835374195,
          -0.34579571607877596,
          -0.3957417623230332,
          -0.3129584508624233,
          -0.33681694217518265,
          -0.3845898899387164,
          -0.33696425336917163,
          -0.3325552899963473,
          -0.39619555375697013,
          -0.33617549976016586,
          0.3583600530148994,
          -0.3371634111669652,
          -0.33723393468844043,
          -0.35125792447023674,
          -0.37678898435516556,
          -0.333463219926009,
          -0.3130721366945314,
          -0.39610555553103255,
          -0.33701187807066346,
          -0.3371387709796159,
          -0.28443729704431275,
          -0.29027772437615046,
          -0.23895077975879922,
          -0.31800306484982416,
          -0.28417852854208003,
          -0.39537178372616877,
          -0.40997401450320153,
          -0.39411079134283805,
          -0.3440432557994424,
          -0.39526971943105865,
          -0.33844631768886313,
          -0.3912132401542398,
          -0.33708208460483624,
          -0.33708128475613247,
          -0.33020769163107355,
          0.2717199405387429,
          -0.3957478823034364,
          -0.2670905598484096,
          -0.34583000656990986,
          -0.33629327407517007,
          0.8920161779296533,
          -0.259272730164919,
          -0.32287597275898877,
          0.5730964242213754,
          -0.36330122857180774,
          -0.36180434269469597,
          -0.43903434972201855,
          -0.2911941138056132,
          0.12735308342395923,
          -0.29126483646275025,
          -0.3571716376432542,
          -0.43853948000173215,
          -0.39602009156061657,
          -0.28451141277833736,
          4.456174860344471,
          -0.3456963888431694,
          -0.33671749692302766,
          -0.33721687397205385,
          -0.3404954991432392,
          0.6782150912556979,
          -0.39596097170289507,
          -0.3549391893263321,
          -0.3371725263773909,
          -0.30328215455013147,
          0.4315306091631288,
          -0.3114193291880172,
          -0.34807717962118095,
          -0.41008609478289354,
          -0.3371228966450873,
          -0.4021360840092346,
          -0.31704172784818546,
          -0.3369933518246146,
          -0.08716281948394439,
          -0.3947543766449428,
          3.737270337902646,
          0.19587487107792467,
          -0.28793758720228085,
          -0.3344551379670185,
          -0.3106296017151445,
          -0.35114389129569723,
          0.07688086861626264,
          -0.33613248796474493,
          -0.3953351060678576,
          -0.3503091729856485,
          -0.32370538806177734,
          -0.3372389942596461,
          -0.34360303817982385,
          -0.32437869568507727,
          -0.29383299996547435,
          -0.3327867527266474,
          -0.23075162379839653,
          -0.3737865165794058,
          -0.39603734842359284,
          -0.32667855999855044,
          -0.28367195176113913,
          -0.29949726442334706,
          -0.3629004397869747,
          -0.33726633412863954,
          -0.3372480567950595,
          -0.27805665264777013,
          -0.35360336552373056,
          -0.3452910817366278,
          -0.33696474070350385,
          3.922517828996225,
          -0.40080477174325974,
          -0.34547964684046945,
          -0.3004487394709225,
          -0.28386762766730156,
          -0.2915507187124388,
          -0.2842057851626226,
          -0.14049046801862264,
          -0.284457741682806,
          -0.3454329642076878,
          -0.3364391028920892,
          -0.18858794047490132,
          2.2582692806933937,
          -0.3468547733548592,
          -0.25940026302442365,
          1.0288742634393389,
          -0.3522209722549159,
          -0.35125736828923915,
          -0.40381914601134933,
          -0.16527002006555977,
          -0.35564581549562246,
          -0.34997763816554456,
          -0.33014781261229265,
          -0.34318069920764704,
          -0.395510978319129,
          -0.28170486493076075,
          -0.344580057702565,
          -0.3527907117965543,
          -0.34304220390184026,
          -0.1968410209489017,
          -0.3617345398980092,
          -0.2724807419465047,
          -0.274236339937137,
          0.49509235867004975,
          -0.13365985145306844,
          -0.40311418772373697,
          -0.2796667188996638,
          -0.33696870121201083,
          -0.4035700352209993,
          -0.35137427715999475,
          0.5689984027377784,
          -0.34365732457767667,
          -0.33645195849091225,
          -0.3211374885160998,
          -0.3001814354982645,
          -0.3930773012689889,
          -0.3957380767199589,
          3.749505330963294,
          0.09770095131140757,
          -0.39327891463824616,
          -0.33583789807339587,
          -0.3366623012061148,
          -0.2606140475857179,
          -0.33718030832810364,
          -0.3873706671656815,
          -0.25093923910147986,
          -0.09284858914547882,
          -0.383121766339492,
          -0.33645900667262224,
          -0.32952726601210947,
          -0.3923086202072274,
          -0.3348991549035051,
          -0.34607119578218143,
          -0.33799238656288344,
          -0.31159606684718555,
          3.732808799967292,
          -0.09184855547621316,
          -0.33209550528718734,
          -0.35956306524244863,
          -0.2916637671470609,
          3.7426720792972956,
          3.7439155929107755,
          -0.24152159921505612,
          -0.3460070938786549,
          -0.3626772368479274,
          2.4794597353406695,
          -0.3353445644926205,
          -0.2848539595620746
         ]
        },
        {
         "customdata": [
          [
           "SHA-256"
          ],
          [
           "Ethash"
          ],
          [
           "Scrypt"
          ],
          [
           "CryptoNight-V7"
          ],
          [
           "Ethash"
          ],
          [
           "Equihash"
          ],
          [
           "Multiple"
          ],
          [
           "Scrypt"
          ],
          [
           "X11"
          ],
          [
           "Scrypt"
          ],
          [
           "Multiple"
          ],
          [
           "Scrypt"
          ],
          [
           "SHA-256"
          ],
          [
           "Scrypt"
          ],
          [
           "Scrypt"
          ],
          [
           "Quark"
          ],
          [
           "Groestl"
          ],
          [
           "Scrypt"
          ],
          [
           "Scrypt"
          ],
          [
           "Scrypt"
          ],
          [
           "X11"
          ],
          [
           "Multiple"
          ],
          [
           "SHA-256"
          ],
          [
           "Scrypt"
          ],
          [
           "Scrypt"
          ],
          [
           "Scrypt"
          ],
          [
           "Scrypt"
          ],
          [
           "Scrypt"
          ],
          [
           "NeoScrypt"
          ],
          [
           "Scrypt"
          ],
          [
           "Scrypt"
          ],
          [
           "Scrypt"
          ],
          [
           "Scrypt"
          ],
          [
           "SHA-256"
          ],
          [
           "Scrypt"
          ],
          [
           "Scrypt"
          ],
          [
           "Scrypt"
          ],
          [
           "Scrypt"
          ],
          [
           "HybridScryptHash256"
          ],
          [
           "Scrypt"
          ],
          [
           "Scrypt"
          ],
          [
           "SHA-256"
          ],
          [
           "Scrypt"
          ],
          [
           "Scrypt"
          ],
          [
           "Scrypt"
          ],
          [
           "Scrypt"
          ],
          [
           "SHA-256"
          ],
          [
           "SHA-256"
          ],
          [
           "SHA-256"
          ],
          [
           "SHA-256"
          ],
          [
           "SHA-256"
          ],
          [
           "X11"
          ],
          [
           "Scrypt"
          ],
          [
           "Lyra2REv2"
          ],
          [
           "Scrypt"
          ],
          [
           "SHA-256"
          ],
          [
           "CryptoNight"
          ],
          [
           "CryptoNight"
          ],
          [
           "Scrypt"
          ],
          [
           "Scrypt"
          ],
          [
           "Scrypt"
          ],
          [
           "Scrypt"
          ],
          [
           "Scrypt"
          ],
          [
           "Scrypt"
          ],
          [
           "Stanford Folding"
          ],
          [
           "Multiple"
          ],
          [
           "QuBit"
          ],
          [
           "Scrypt"
          ],
          [
           "Scrypt"
          ],
          [
           "M7 POW"
          ],
          [
           "Scrypt"
          ],
          [
           "SHA-256"
          ],
          [
           "Scrypt"
          ],
          [
           "X11"
          ],
          [
           "Lyra2RE"
          ],
          [
           "SHA-256"
          ],
          [
           "X11"
          ],
          [
           "Scrypt"
          ],
          [
           "Scrypt"
          ],
          [
           "Ethash"
          ],
          [
           "Blake2b"
          ],
          [
           "X11"
          ],
          [
           "SHA-256"
          ],
          [
           "Scrypt"
          ],
          [
           "1GB AES Pattern Search"
          ],
          [
           "Scrypt"
          ],
          [
           "SHA-256"
          ],
          [
           "X11"
          ],
          [
           "Dagger"
          ],
          [
           "Scrypt"
          ],
          [
           "X11GOST"
          ],
          [
           "Scrypt"
          ],
          [
           "X11"
          ],
          [
           "Scrypt"
          ],
          [
           "X11"
          ],
          [
           "Equihash"
          ],
          [
           "CryptoNight"
          ],
          [
           "SHA-256"
          ],
          [
           "Multiple"
          ],
          [
           "Scrypt"
          ],
          [
           "SHA-256"
          ],
          [
           "Scrypt"
          ],
          [
           "Lyra2Z"
          ],
          [
           "Ethash"
          ],
          [
           "Equihash"
          ],
          [
           "Scrypt"
          ],
          [
           "X11"
          ],
          [
           "X11"
          ],
          [
           "CryptoNight"
          ],
          [
           "Scrypt"
          ],
          [
           "CryptoNight"
          ],
          [
           "Lyra2RE"
          ],
          [
           "X11"
          ],
          [
           "CryptoNight-V7"
          ],
          [
           "Scrypt"
          ],
          [
           "X11"
          ],
          [
           "Equihash"
          ],
          [
           "Scrypt"
          ],
          [
           "Lyra2RE"
          ],
          [
           "Dagger-Hashimoto"
          ],
          [
           "Scrypt"
          ],
          [
           "NIST5"
          ],
          [
           "Scrypt"
          ],
          [
           "SHA-256"
          ],
          [
           "Scrypt"
          ],
          [
           "CryptoNight-V7"
          ],
          [
           "Argon2d"
          ],
          [
           "Blake2b"
          ],
          [
           "Cloverhash"
          ],
          [
           "CryptoNight"
          ],
          [
           "X11"
          ],
          [
           "Scrypt"
          ],
          [
           "Scrypt"
          ],
          [
           "X11"
          ],
          [
           "X11"
          ],
          [
           "CryptoNight"
          ],
          [
           "Time Travel"
          ],
          [
           "Scrypt"
          ],
          [
           "Keccak"
          ],
          [
           "X11"
          ],
          [
           "SHA-256"
          ],
          [
           "Scrypt"
          ],
          [
           "Scrypt"
          ],
          [
           "Scrypt"
          ],
          [
           "Scrypt"
          ],
          [
           "Scrypt"
          ],
          [
           "Scrypt"
          ],
          [
           "CryptoNight"
          ],
          [
           "Equihash"
          ],
          [
           "X11"
          ],
          [
           "NeoScrypt"
          ],
          [
           "Equihash"
          ],
          [
           "Dagger"
          ],
          [
           "Scrypt"
          ],
          [
           "X11"
          ],
          [
           "NeoScrypt"
          ],
          [
           "Ethash"
          ],
          [
           "NeoScrypt"
          ],
          [
           "Multiple"
          ],
          [
           "CryptoNight"
          ],
          [
           "CryptoNight"
          ],
          [
           "Ethash"
          ],
          [
           "X11"
          ],
          [
           "CryptoNight-V7"
          ],
          [
           "Scrypt"
          ],
          [
           "BLAKE256"
          ],
          [
           "X11"
          ],
          [
           "NeoScrypt"
          ],
          [
           "NeoScrypt"
          ],
          [
           "Scrypt"
          ],
          [
           "X11"
          ],
          [
           "SHA-256"
          ],
          [
           "C11"
          ],
          [
           "Ethash"
          ],
          [
           "CryptoNight"
          ],
          [
           "SkunkHash"
          ],
          [
           "CryptoNight"
          ],
          [
           "Scrypt"
          ],
          [
           "Dagger"
          ],
          [
           "Lyra2REv2"
          ],
          [
           "Scrypt"
          ],
          [
           "Scrypt"
          ],
          [
           "X11"
          ],
          [
           "Ethash"
          ],
          [
           "CryptoNight"
          ],
          [
           "Scrypt"
          ],
          [
           "IMesh"
          ],
          [
           "Equihash"
          ],
          [
           "Lyra2Z"
          ],
          [
           "X11"
          ],
          [
           "CryptoNight"
          ],
          [
           "NIST5"
          ],
          [
           "Lyra2RE"
          ],
          [
           "Tribus"
          ],
          [
           "Lyra2Z"
          ],
          [
           "CryptoNight"
          ],
          [
           "CryptoNight Heavy"
          ],
          [
           "CryptoNight"
          ],
          [
           "Jump Consistent Hash"
          ],
          [
           "CryptoNight"
          ],
          [
           "X16R"
          ],
          [
           "HMQ1725"
          ],
          [
           "X11"
          ],
          [
           "Scrypt"
          ],
          [
           "CryptoNight-V7"
          ],
          [
           "Cryptonight-GPU"
          ],
          [
           "XEVAN"
          ],
          [
           "CryptoNight Heavy"
          ],
          [
           "SHA-256"
          ],
          [
           "X11"
          ],
          [
           "X16R"
          ],
          [
           "Equihash"
          ],
          [
           "Lyra2Z"
          ],
          [
           "SHA-256"
          ],
          [
           "CryptoNight"
          ],
          [
           "Blake"
          ],
          [
           "Blake"
          ],
          [
           "Exosis"
          ],
          [
           "Scrypt"
          ],
          [
           "Equihash"
          ],
          [
           "Equihash"
          ],
          [
           "QuBit"
          ],
          [
           "SHA-256"
          ],
          [
           "X13"
          ],
          [
           "SHA-256"
          ],
          [
           "Scrypt"
          ],
          [
           "NeoScrypt"
          ],
          [
           "Blake"
          ],
          [
           "Scrypt"
          ],
          [
           "SHA-256"
          ],
          [
           "Scrypt"
          ],
          [
           "Groestl"
          ],
          [
           "Scrypt"
          ],
          [
           "Scrypt"
          ],
          [
           "Multiple"
          ],
          [
           "Equihash+Scrypt"
          ],
          [
           "Ethash"
          ],
          [
           "CryptoNight"
          ],
          [
           "Equihash"
          ]
         ],
         "hovertemplate": "<b>%{hovertext}</b><br><br>Class=%{marker.color}<br>PC3=%{x}<br>PC2=%{y}<br>PC1=%{z}<br>Algorithm=%{customdata[0]}<extra></extra>",
         "hovertext": [
          "Bitcoin",
          "Ethereum",
          "Litecoin",
          "Monero",
          "Ethereum Classic",
          "ZCash",
          "DigiByte",
          "ProsperCoin",
          "Spreadcoin",
          "Argentum",
          "MyriadCoin",
          "MoonCoin",
          "ZetaCoin",
          "SexCoin",
          "Quatloo",
          "QuarkCoin",
          "Riecoin",
          "Digitalcoin ",
          "Catcoin",
          "CannaCoin",
          "CryptCoin",
          "Verge",
          "DevCoin",
          "EarthCoin",
          "E-Gulden",
          "Einsteinium",
          "Emerald",
          "Franko",
          "FeatherCoin",
          "GrandCoin",
          "GlobalCoin",
          "GoldCoin",
          "Infinite Coin",
          "IXcoin",
          "KrugerCoin",
          "LuckyCoin",
          "Litebar ",
          "MegaCoin",
          "MediterraneanCoin",
          "MinCoin",
          "NobleCoin",
          "Namecoin",
          "NyanCoin",
          "RonPaulCoin",
          "StableCoin",
          "SmartCoin",
          "SysCoin",
          "TigerCoin",
          "TerraCoin",
          "UnbreakableCoin",
          "Unobtanium",
          "UroCoin",
          "ViaCoin",
          "Vertcoin",
          "WorldCoin",
          "JouleCoin",
          "ByteCoin",
          "DigitalNote ",
          "MonaCoin",
          "Gulden",
          "PesetaCoin",
          "Wild Beast Coin",
          "Flo",
          "ArtByte",
          "Folding Coin",
          "Unitus",
          "CypherPunkCoin",
          "OmniCron",
          "GreenCoin",
          "Cryptonite",
          "MasterCoin",
          "SoonCoin",
          "1Credit",
          "MarsCoin ",
          "Crypto",
          "Anarchists Prime",
          "BowsCoin",
          "Song Coin",
          "BitZeny",
          "Expanse",
          "Siacoin",
          "MindCoin",
          "I0coin",
          "Revolution VR",
          "HOdlcoin",
          "Gamecredits",
          "CarpeDiemCoin",
          "Adzcoin",
          "SoilCoin",
          "YoCoin",
          "SibCoin",
          "Francs",
          "BolivarCoin",
          "Omni",
          "PizzaCoin",
          "Komodo",
          "Karbo",
          "ZayedCoin",
          "Circuits of Value",
          "DopeCoin",
          "DollarCoin",
          "Shilling",
          "ZCoin",
          "Elementrem",
          "ZClassic",
          "KiloCoin",
          "ArtexCoin",
          "Kurrent",
          "Cannabis Industry Coin",
          "OsmiumCoin",
          "Bikercoins",
          "HexxCoin",
          "PacCoin",
          "Citadel",
          "BeaverCoin",
          "VaultCoin",
          "Zero",
          "Canada eCoin",
          "Zoin",
          "DubaiCoin",
          "EB3coin",
          "Coinonat",
          "BenjiRolls",
          "ILCoin",
          "EquiTrader",
          "Quantum Resistant Ledger",
          "Dynamic",
          "Nano",
          "ChanCoin",
          "Dinastycoin",
          "DigitalPrice",
          "Unify",
          "SocialCoin",
          "ArcticCoin",
          "DAS",
          "LeviarCoin",
          "Bitcore",
          "gCn Coin",
          "SmartCash",
          "Onix",
          "Bitcoin Cash",
          "Sojourn Coin",
          "NewYorkCoin",
          "FrazCoin",
          "Kronecoin",
          "AdCoin",
          "Linx",
          "Sumokoin",
          "BitcoinZ",
          "Elements",
          "VIVO Coin",
          "Bitcoin Gold",
          "Pirl",
          "eBoost",
          "Pura",
          "Innova",
          "Ellaism",
          "GoByte",
          "SHIELD",
          "UltraNote",
          "BitCoal",
          "DaxxCoin",
          "AC3",
          "Lethean",
          "PopularCoin",
          "Photon",
          "Sucre",
          "SparksPay",
          "GunCoin",
          "IrishCoin",
          "Pioneer Coin",
          "UnitedBitcoin",
          "Interzone",
          "1717 Masonic Commemorative Token",
          "TurtleCoin",
          "MUNcoin",
          "Niobio Cash",
          "ShareChain",
          "Travelflex",
          "KREDS",
          "BitFlip",
          "LottoCoin",
          "Crypto Improvement Fund",
          "Callisto Network",
          "BitTube",
          "Poseidon",
          "Aidos Kuneen",
          "Bitrolium",
          "Alpenschillling",
          "FuturoCoin",
          "Monero Classic",
          "Jumpcoin",
          "Infinex",
          "KEYCO",
          "GINcoin",
          "PlatinCoin",
          "Loki",
          "Newton Coin",
          "MassGrid",
          "PluraCoin",
          "Motion",
          "PlusOneCoin",
          "Axe",
          "HexCoin",
          "Webchain",
          "Ryo",
          "Urals Coin",
          "Qwertycoin",
          "Project Pai",
          "Azart",
          "Xchange",
          "CrypticCoin",
          "Actinium",
          "Bitcoin SV",
          "FREDEnergy",
          "Universal Molecule",
          "Lithium",
          "Exosis",
          "Block-Logic",
          "Beam",
          "Bithereum",
          "SLICE",
          "BLAST",
          "Bitcoin Rhodium",
          "GlobalToken",
          "SolarCoin",
          "UFO Coin",
          "BlakeCoin",
          "Crypto Escudo",
          "Crown Coin",
          "SmileyCoin",
          "Groestlcoin",
          "Bata",
          "Pakcoin",
          "JoinCoin",
          "Vollar",
          "Reality Clash",
          "Beldex",
          "Horizen"
         ],
         "legendgroup": "1",
         "marker": {
          "color": [
           1,
           1,
           1,
           1,
           1,
           1,
           1,
           1,
           1,
           1,
           1,
           1,
           1,
           1,
           1,
           1,
           1,
           1,
           1,
           1,
           1,
           1,
           1,
           1,
           1,
           1,
           1,
           1,
           1,
           1,
           1,
           1,
           1,
           1,
           1,
           1,
           1,
           1,
           1,
           1,
           1,
           1,
           1,
           1,
           1,
           1,
           1,
           1,
           1,
           1,
           1,
           1,
           1,
           1,
           1,
           1,
           1,
           1,
           1,
           1,
           1,
           1,
           1,
           1,
           1,
           1,
           1,
           1,
           1,
           1,
           1,
           1,
           1,
           1,
           1,
           1,
           1,
           1,
           1,
           1,
           1,
           1,
           1,
           1,
           1,
           1,
           1,
           1,
           1,
           1,
           1,
           1,
           1,
           1,
           1,
           1,
           1,
           1,
           1,
           1,
           1,
           1,
           1,
           1,
           1,
           1,
           1,
           1,
           1,
           1,
           1,
           1,
           1,
           1,
           1,
           1,
           1,
           1,
           1,
           1,
           1,
           1,
           1,
           1,
           1,
           1,
           1,
           1,
           1,
           1,
           1,
           1,
           1,
           1,
           1,
           1,
           1,
           1,
           1,
           1,
           1,
           1,
           1,
           1,
           1,
           1,
           1,
           1,
           1,
           1,
           1,
           1,
           1,
           1,
           1,
           1,
           1,
           1,
           1,
           1,
           1,
           1,
           1,
           1,
           1,
           1,
           1,
           1,
           1,
           1,
           1,
           1,
           1,
           1,
           1,
           1,
           1,
           1,
           1,
           1,
           1,
           1,
           1,
           1,
           1,
           1,
           1,
           1,
           1,
           1,
           1,
           1,
           1,
           1,
           1,
           1,
           1,
           1,
           1,
           1,
           1,
           1,
           1,
           1,
           1,
           1,
           1,
           1,
           1,
           1,
           1,
           1,
           1,
           1,
           1,
           1,
           1,
           1,
           1,
           1,
           1,
           1,
           1,
           1,
           1,
           1,
           1,
           1,
           1,
           1,
           1,
           1,
           1,
           1,
           1,
           1,
           1,
           1,
           1
          ],
          "coloraxis": "coloraxis",
          "symbol": "diamond"
         },
         "mode": "markers",
         "name": "1",
         "scene": "scene",
         "showlegend": true,
         "type": "scatter3d",
         "x": [
          0.2378996006498787,
          0.41245736796944193,
          0.008661251198177714,
          0.45663950629758937,
          0.41243762074842477,
          0.3504169886899445,
          0.34722901469370315,
          0.008688108877444785,
          -0.004170350540409512,
          0.00868207808041685,
          0.35248314695800215,
          -0.02350758554503107,
          0.2378297582654453,
          0.008622505280900972,
          0.008680885688978393,
          0.03798079218856944,
          0.07994210975479026,
          0.008675405402755514,
          0.008687562017638324,
          0.008689168952525295,
          -0.004167864990013444,
          0.34589773432161103,
          0.22907476869648885,
          0.0028363658560639675,
          0.008682404566740349,
          0.00858445151820271,
          0.00868201474339083,
          0.00869067016904946,
          0.22795183724233856,
          0.008239855033682651,
          0.008661433067637902,
          0.008670291265149701,
          -0.03303400710258928,
          0.2378984094055123,
          0.008612733544039736,
          0.008683085199636611,
          0.008691513587469555,
          0.008674148477366781,
          0.41391338487956003,
          0.008689017740420807,
          0.006542907698303176,
          0.2379008026686865,
          0.008537693669496416,
          0.008689865942487478,
          0.008661957246824746,
          0.00867810793763587,
          0.23762143500757762,
          0.23788777188491333,
          0.2378959530512574,
          0.23790054856312431,
          0.23790801838643869,
          -0.0041649279974104395,
          0.008681392858794112,
          0.1985131589619107,
          0.008624728476758402,
          0.23788957594571827,
          0.34017742165051995,
          0.4215463293129591,
          0.008657538080485019,
          0.008394819718957666,
          0.008626285593315368,
          0.008691753916151278,
          0.008621263371664186,
          0.008309627449499505,
          0.40490315273680894,
          0.3532623179616338,
          0.2185315907748371,
          0.008687940191034482,
          0.006116717649641272,
          0.4331946342019257,
          0.008691757501372934,
          0.2379016592400111,
          0.0009775152965755033,
          -0.004179378750284736,
          0.3943709121281045,
          0.23789805156935231,
          -0.004172210276007663,
          0.008662145619439881,
          0.008642594255618362,
          0.4124925630307303,
          0.4447086408480459,
          -0.00417179246319909,
          0.23789844401529672,
          0.008595323096267777,
          0.3255228076574483,
          0.008658690707477098,
          0.22790486771914792,
          -0.004188510672898001,
          0.39826299226252576,
          0.00867768625319278,
          0.35035760484861683,
          0.008687890416223953,
          -0.0041717132367762415,
          0.008691758896900206,
          -0.004167088597917528,
          0.26688369367218434,
          0.4249829041147835,
          0.2379049464818885,
          0.35280950651596626,
          0.008631254604030272,
          0.23790379232833203,
          0.008685338428029104,
          0.3517427785073219,
          0.4124858649473003,
          0.350417655292832,
          0.007779562066063885,
          -0.004516814498126837,
          -0.004206708874026281,
          0.4249845600883664,
          0.008691478418153379,
          0.42498106818624337,
          0.3943800605681175,
          -0.012752083275607567,
          0.4566263410893928,
          0.008690587497363175,
          -0.004259773128168573,
          0.35041749792079735,
          0.008646044796502144,
          0.39437285845885217,
          0.453701476542863,
          0.008332483954125256,
          0.04714754969870321,
          0.008681425966283919,
          0.23720206430281826,
          0.008680854380983306,
          0.45661117463943196,
          0.37858802525036966,
          0.45709859745366643,
          0.3090274570875194,
          0.4241373262613862,
          -0.004186095948517609,
          0.008683595312283902,
          0.008683807036387473,
          -0.004179314973723763,
          -0.004167046094252043,
          0.4249768264261984,
          0.3851476166805799,
          -0.06950420577963407,
          0.13722381370881384,
          -0.004302850343291347,
          0.23789957487690658,
          0.0078114014390541124,
          -0.04518098471957332,
          0.008686710073934008,
          0.00867842402355975,
          0.008671358919615277,
          0.008670955909796161,
          0.42497586551641436,
          0.34669733363197175,
          -0.005333620316380473,
          0.22805478766167908,
          0.3504132895919874,
          0.39824174562741255,
          0.008645989572376625,
          -0.00425982857597711,
          0.2280524460266967,
          0.4124696500001332,
          0.22805375742817002,
          0.35305002809121183,
          0.41059537984360406,
          0.42498394609830203,
          0.411463173716849,
          -0.004240848914192779,
          0.45639595012189377,
          0.00677939526428694,
          0.1307641479923703,
          -0.0041677266276566385,
          0.22805390391657643,
          0.22790375553723213,
          0.008669541976901151,
          -0.004169595651996247,
          0.23789882718024113,
          0.09040250539074648,
          0.13241801084901744,
          0.3211148173925327,
          0.4156269618010047,
          0.42490806019208405,
          0.0040863419505456425,
          0.39821883935620644,
          0.19820471332587045,
          0.00868400003040224,
          0.0016895488240617877,
          -0.004285999171465352,
          0.41185960885004963,
          0.4248726804491451,
          0.008688748579582043,
          0.3730000899310427,
          0.3503887803919669,
          0.3517119684768143,
          -0.004184838650701612,
          0.4249791127672679,
          0.04714571126792843,
          0.39437748182820503,
          0.42487126418660975,
          0.35174391171179303,
          0.42493634576935135,
          0.38894365053143126,
          0.39400135785970297,
          0.408238994488504,
          0.42469184245372477,
          0.16830984257750944,
          0.5057448169856991,
          -0.004168115059502894,
          0.008689655536495826,
          0.45649337383666466,
          0.3969890277136702,
          0.16583733776349568,
          0.3359917064801511,
          0.23694091785519203,
          -0.004168459080533485,
          0.16830269512256815,
          0.348188808593956,
          0.3517352439181808,
          0.23789957603531092,
          0.42360580454236924,
          0.34051234575652733,
          0.34051366972703795,
          0.40240665690756056,
          0.008668688081722574,
          0.3503860502169936,
          0.3504094663128051,
          0.21852073400177638,
          0.23788304846050612,
          -0.018449814456395874,
          0.23786215251552664,
          0.00044511171279064046,
          0.22628238485947166,
          0.33992598368147203,
          0.008314271069050624,
          0.2378959336378739,
          -0.006645405505022479,
          0.07993140195515999,
          0.00868972016527451,
          0.0086505302210651,
          0.35328535688495855,
          0.4034265376123591,
          0.4124866560201416,
          0.42450000993928405,
          0.35041702128301905
         ],
         "y": [
          -1.3762402553234379,
          -2.093325253173153,
          -1.1055792216501685,
          -2.1985243214695998,
          -2.0934325297716,
          -2.041378588028054,
          -1.8063418063424372,
          -1.105568076985081,
          -0.8953606103141614,
          -1.1055880458779714,
          -1.8001206669002061,
          -1.3056513899124653,
          -1.376260136109802,
          -1.105640769208733,
          -1.1056086399767038,
          -0.400481247907857,
          -1.1860654622893352,
          -1.1055717547440151,
          -1.1055675273874768,
          -1.105564384346939,
          -0.8953618976160025,
          -1.8023130976173776,
          -1.3800707986740626,
          -1.1078464979509217,
          -1.1055623441163283,
          -1.1056326666042378,
          -1.1055686111485161,
          -1.1055647403869682,
          -1.6291337249919124,
          -1.1059648272317146,
          -1.1055709295846723,
          -1.105581191555591,
          -1.118468728281834,
          -1.3762390581152444,
          -1.1056402834718762,
          -1.105562422810639,
          -1.1055596036894886,
          -1.1055667589618785,
          -2.337644090073142,
          -1.1055623315910388,
          -1.1124796153725933,
          -1.3762414633600462,
          -1.1056081981077435,
          -1.1055698428466907,
          -1.1056804186868925,
          -1.1055763074289409,
          -1.3764855321457694,
          -1.3762441135824812,
          -1.3762493017316952,
          -1.3762769234024874,
          -1.3762361542708867,
          -0.8953539530824809,
          -1.1055625380355785,
          -1.314175981860391,
          -1.1056523384559995,
          -1.376244708738142,
          -2.3602592478604447,
          -2.336422335057335,
          -1.1055882748528487,
          -1.1062775886915197,
          -1.1055939530377261,
          -1.1055606188536722,
          -1.105585039932613,
          -1.1057803345647115,
          -2.2937702539040425,
          -1.7996930465351257,
          -1.472161500357056,
          -1.1055572360116876,
          -1.109024561125246,
          -2.1969688435099473,
          -1.1055594066058747,
          -1.3762423242197077,
          -1.1534980104378108,
          -0.8953594064048326,
          -2.2308068333862754,
          -1.376258529625993,
          -0.8953593466140916,
          -1.1056565394414668,
          -1.1056609587568498,
          -2.0933708586564737,
          -2.2786298115102257,
          -0.8953567397881151,
          -1.3762390928982993,
          -1.1055892370950973,
          -2.0493204114864816,
          -1.1055766483406266,
          -1.379274156865283,
          -0.8953811014155043,
          -2.1292401168291533,
          -1.1056468007164526,
          -2.0555651535944968,
          -1.1055672520840525,
          -0.8953622675261164,
          -1.10555940617419,
          -0.8953669153177565,
          -1.4184953133869067,
          -2.333828707137179,
          -1.376238809300306,
          -1.7999643834604597,
          -1.1056192950292367,
          -1.3762381955711773,
          -1.105570740780633,
          -2.1838577023056076,
          -2.0933697562391576,
          -2.0413792579682184,
          -1.1106957304022878,
          -0.8953029779501397,
          -0.8954499819459694,
          -2.3338370302083726,
          -1.1055603942093155,
          -2.3338359422088155,
          -2.230782255912062,
          -0.9472584175243506,
          -2.1986230793804387,
          -1.1055598897086765,
          -0.8958639792236222,
          -2.041376678423899,
          -1.1055736246568606,
          -2.230781676553926,
          -2.141892853718372,
          -1.1076193438111508,
          -0.712111964190098,
          -1.1055701504841822,
          -1.377039879824656,
          -1.1055916588210466,
          -2.198559409312848,
          -2.2395688358083183,
          -2.2912877857725102,
          -2.1354984155173287,
          -2.3341835347323445,
          -0.8953932137666252,
          -1.105562497690811,
          -1.1055964422969315,
          -0.895375814845502,
          -0.8953632654229762,
          -2.333849234249858,
          -2.207238842313558,
          -1.148040809098807,
          -1.2643549398794671,
          -0.8958812209572603,
          -1.376240229421452,
          -1.111030402228021,
          -1.0514165810085105,
          -1.1055660658324993,
          -1.105596480449539,
          -1.1055990655125438,
          -1.1055986604850971,
          -2.333869388381814,
          -2.050339866820425,
          -0.8952690328126985,
          -1.6290501388757597,
          -2.0413748704109387,
          -2.1292952231135334,
          -1.1055735691562607,
          -0.8954704485303903,
          -1.6290586817474995,
          -2.0935070936017866,
          -1.6290520091457923,
          -1.7998792222860387,
          -2.3708175186051954,
          -2.333831267702543,
          -2.098379542632171,
          -0.8956105924327825,
          -2.1988845781968864,
          -1.1066638258452697,
          -1.334239093918757,
          -0.8953631262940445,
          -1.6290456186296516,
          -1.629184679331777,
          -1.105575447013735,
          -0.8953631850201593,
          -1.376238973122869,
          -1.2014419636150135,
          -0.12335141772985513,
          -2.834780666346736,
          -2.104438148706664,
          -2.3339508313460495,
          -1.1069840205577295,
          -2.129238117103127,
          -1.314481023664822,
          -1.1055754491434981,
          -1.1096643606269432,
          -0.8955349488301435,
          -2.0966592511121114,
          -2.3343172242913344,
          -1.1055687198898219,
          -2.1988118619779944,
          -2.041379900467226,
          -2.1839953874525038,
          -0.8953944773589744,
          -2.333829981715946,
          -0.7120936196633717,
          -2.2307895192971365,
          -2.2224105811393944,
          -2.183852242910814,
          -2.334139070217287,
          -2.1808491481335137,
          -2.414069684677195,
          -2.195770609026485,
          -2.334135480948972,
          -1.2926020554693083,
          -2.300177706624901,
          -0.8953634623328787,
          -1.105570300453974,
          -2.1994368130940622,
          -2.2597502298281094,
          -0.7932505486426514,
          -2.2392094995406993,
          -1.3765352875322892,
          -0.8953655379739599,
          -1.292642043402804,
          -2.0437271709010374,
          -2.183888024661448,
          -1.376240230585656,
          -2.337329856318633,
          -2.158012561370914,
          -2.1579655301421843,
          -2.273246846924555,
          -1.1056084882254613,
          -2.0414938673528304,
          -2.0413770124424877,
          -1.4722111238411058,
          -1.3762496501497241,
          -0.40556124625026463,
          -1.3762916055861851,
          -1.1566555526664524,
          -1.6296739027926679,
          -2.16159705248117,
          -1.1057850014320696,
          -1.3762492822211212,
          -1.1204123898794953,
          -1.1860674131503928,
          -1.1055600108019896,
          -1.1056277709178002,
          -1.7997178957695579,
          -2.201341310150706,
          -2.0933695115329827,
          -2.334184961242492,
          -2.0413786207843003
         ],
         "z": [
          -0.14120117164424373,
          -0.1509081584465136,
          -0.16425018494284108,
          -0.16123176592519595,
          -0.1493511924563891,
          -0.16108857821665143,
          0.15966086972368373,
          -0.16539580423525735,
          -0.2242801869551198,
          -0.16501258086541054,
          -0.09360078792966386,
          2.5546852835113976,
          -0.13828767025610372,
          -0.16226951369433154,
          -0.1648167503507918,
          -0.22732585170232614,
          -0.21130041876102007,
          -0.16486542907356252,
          -0.16537807856688738,
          -0.16546448285728738,
          -0.22436948474104504,
          0.183404922551369,
          0.23644012532707678,
          0.0831311069053141,
          -0.16521090726783474,
          -0.16081865549405877,
          -0.1651502442195645,
          -0.16552145655427483,
          -0.18339181250195719,
          -0.14475542024223886,
          -0.1643172058731721,
          -0.16459452648207443,
          1.5824463171401475,
          -0.14116255918454193,
          -0.16188544770025173,
          -0.16523733513248642,
          -0.16559195753834632,
          -0.16485160924878878,
          -0.1287364041345691,
          -0.16547329120107276,
          -0.030461874028190304,
          -0.1412401333431143,
          -0.15914061440277097,
          -0.16545275695308526,
          -0.16354829201410598,
          -0.16493978097170267,
          -0.12839939596685332,
          -0.14070418759159356,
          -0.14099125117706052,
          -0.14097429489216323,
          -0.14156461768944595,
          -0.2245432735381365,
          -0.16516938194970684,
          -0.18327769186874407,
          -0.16227424606678956,
          -0.1407714481336395,
          3.858832378650559,
          0.45962865390603924,
          -0.16403761683296064,
          -0.14864584247088242,
          -0.16275711708803609,
          -0.16559416752337633,
          -0.1626222111896302,
          -0.14885343053477576,
          -0.11128549264112098,
          -0.12758875795170263,
          -0.20595593378701477,
          -0.16546730563883638,
          -0.038478217928512165,
          -0.09839572385738245,
          -0.16560305321210278,
          -0.1412678978616562,
          0.48612468195798664,
          -0.22393079085162826,
          -0.14990347257926256,
          -0.14100792584885202,
          -0.22421554018460318,
          -0.16372799538214444,
          -0.162920668706095,
          -0.1519751397515257,
          0.3707499226480423,
          -0.2242509136583755,
          -0.14116368101056165,
          -0.16156308797448402,
          -0.16743375621914852,
          -0.16416719034623375,
          0.2770951938894895,
          -0.22341211990563864,
          -0.15694436189489544,
          -0.16441461424590678,
          -0.1614573740431026,
          -0.1653930892666559,
          -0.22421418644969676,
          -0.16560311167549066,
          -0.22436408741839878,
          -0.3155533315995014,
          0.3046193679844212,
          -0.14142362919364526,
          -0.10767216849313428,
          -0.1627714170969642,
          -0.14138227942296172,
          -0.16526670891270864,
          -0.14740177947505487,
          -0.15171742976805191,
          -0.16111018518350337,
          -0.09237691065739329,
          -0.2109543147206064,
          -0.2221935280861246,
          0.30461371948895694,
          -0.16558486091853794,
          0.30474436897894497,
          -0.15044358877614203,
          0.49041046202930094,
          -0.15999729972959256,
          -0.16555316373709994,
          -0.21710287065274408,
          -0.16112254873849927,
          -0.16368743329657737,
          -0.1501621153447705,
          -0.15142846537524957,
          -0.13649588488564057,
          -0.19127466455080558,
          -0.16511578931963883,
          -0.10776789190222308,
          -0.16493798733807025,
          -0.1598549920565831,
          -0.15159982351863346,
          -0.02936685201463722,
          -0.12627530490799935,
          0.3407161584815534,
          -0.2234205315320759,
          -0.16525702728403405,
          -0.16502059497923374,
          -0.22381497242125703,
          -0.2243920985389475,
          0.3050084774115499,
          -0.15524545007583093,
          3.242230181748381,
          -0.12097270730557702,
          -0.2152699715944535,
          -0.14120033625131853,
          -0.09122587011698442,
          1.5806011335507884,
          -0.16535483018133612,
          -0.1648068171986055,
          -0.16450795392370152,
          -0.1644948909442739,
          0.30519195351827033,
          0.05107580576507845,
          -0.17880276147013632,
          -0.1880779370282143,
          -0.16096867731538975,
          -0.1557042107044185,
          -0.16368564328655097,
          -0.2199390613879378,
          -0.18792344588588186,
          -0.1500837447720092,
          -0.18802358605175076,
          -0.11782604000547736,
          1.1420479692110097,
          0.30459650893668183,
          -0.0750214382996152,
          -0.21968103255251817,
          -0.14897337373318137,
          -0.08178862965301832,
          1.0813104970613743,
          -0.22436611051271185,
          -0.1880754885233047,
          -0.18111726748687054,
          -0.16460624123150186,
          -0.22429155716326662,
          -0.141179742104036,
          -0.20206956339982077,
          -0.2714394466446334,
          8.037444637677948,
          -0.1607199758704565,
          0.3084686854424942,
          0.02733346887089264,
          -0.15520757992620637,
          -0.16884387989021366,
          -0.16517966533884504,
          0.14172805783543035,
          -0.21843585914290928,
          -0.10315278263316584,
          0.31251458244466984,
          -0.16541653925327218,
          -0.15416488642300138,
          -0.15996030647067536,
          -0.14518671165562502,
          -0.22346128501928697,
          0.30477893455863553,
          -0.19133406040196502,
          -0.15028892196947843,
          -0.15600632572220807,
          -0.1474861015318896,
          0.30870451143522915,
          0.5813351930582625,
          2.112166553796802,
          -0.15594864795981186,
          0.31837618407896034,
          -0.18131808401871743,
          -0.15250095177574918,
          -0.22434828069469545,
          -0.16544111121980143,
          -0.14885435700112842,
          -0.14770254753266904,
          -0.1537580946462544,
          3.1024618187118995,
          -0.10104966228688105,
          -0.2243196652098767,
          -0.1807461815785815,
          -0.055774408430676485,
          -0.1468842366090609,
          -0.1412003737993198,
          0.38449076806374577,
          -0.13461034877408273,
          -0.13500207916107707,
          -0.15453202533260132,
          -0.1643340598752063,
          -0.1590300209033859,
          -0.1608015876452971,
          -0.20516741367911434,
          -0.140476912584936,
          -0.11995426308404042,
          -0.13934552272192918,
          0.5300151986165803,
          -0.11328141208970376,
          -0.08550029210995828,
          -0.14900394673512632,
          -0.14099062192035766,
          0.5498329302422933,
          -0.21086165210588978,
          -0.16551788996196315,
          -0.1634747987345891,
          -0.1283233060948011,
          -0.13505098343134253,
          -0.1517505705004422,
          0.3263415832156144,
          -0.16108963467393358
         ]
        },
        {
         "customdata": [
          [
           "Proof-of-BibleHash"
          ],
          [
           "SHA-256 + Hive"
          ],
          [
           "Proof-of-Authority"
          ],
          [
           "Leased POS"
          ]
         ],
         "hovertemplate": "<b>%{hovertext}</b><br><br>Class=%{marker.color}<br>PC3=%{x}<br>PC2=%{y}<br>PC1=%{z}<br>Algorithm=%{customdata[0]}<extra></extra>",
         "hovertext": [
          "BiblePay",
          "LitecoinCash",
          "Poa Network",
          "Waves"
         ],
         "legendgroup": "3",
         "marker": {
          "color": [
           3,
           3,
           3,
           3
          ],
          "coloraxis": "coloraxis",
          "symbol": "square"
         },
         "mode": "markers",
         "name": "3",
         "scene": "scene",
         "showlegend": true,
         "type": "scatter3d",
         "x": [
          14.538116254044859,
          15.829807109422996,
          14.264463958703123,
          17.466043976139233
         ],
         "y": [
          2.8504132929121613,
          3.378592515031832,
          3.421937324634577,
          3.2667327824496857
         ],
         "z": [
          -0.2965461822723153,
          -0.373755805994036,
          -0.28156904522846876,
          -0.45000121723517345
         ]
        },
        {
         "customdata": [
          [
           "TRC10"
          ]
         ],
         "hovertemplate": "<b>%{hovertext}</b><br><br>Class=%{marker.color}<br>PC3=%{x}<br>PC2=%{y}<br>PC1=%{z}<br>Algorithm=%{customdata[0]}<extra></extra>",
         "hovertext": [
          "BitTorrent"
         ],
         "legendgroup": "2",
         "marker": {
          "color": [
           2
          ],
          "coloraxis": "coloraxis",
          "symbol": "x"
         },
         "mode": "markers",
         "name": "2",
         "scene": "scene",
         "showlegend": true,
         "type": "scatter3d",
         "x": [
          -0.9638698195404887
         ],
         "y": [
          1.6844802370164966
         ],
         "z": [
          34.04292719681983
         ]
        }
       ],
       "layout": {
        "autosize": true,
        "coloraxis": {
         "colorbar": {
          "title": {
           "text": "Class"
          }
         },
         "colorscale": [
          [
           0,
           "#0d0887"
          ],
          [
           0.1111111111111111,
           "#46039f"
          ],
          [
           0.2222222222222222,
           "#7201a8"
          ],
          [
           0.3333333333333333,
           "#9c179e"
          ],
          [
           0.4444444444444444,
           "#bd3786"
          ],
          [
           0.5555555555555556,
           "#d8576b"
          ],
          [
           0.6666666666666666,
           "#ed7953"
          ],
          [
           0.7777777777777778,
           "#fb9f3a"
          ],
          [
           0.8888888888888888,
           "#fdca26"
          ],
          [
           1,
           "#f0f921"
          ]
         ]
        },
        "legend": {
         "title": {
          "text": "Class"
         },
         "tracegroupgap": 0,
         "x": 0,
         "y": 1
        },
        "margin": {
         "t": 60
        },
        "scene": {
         "aspectmode": "auto",
         "aspectratio": {
          "x": 1,
          "y": 1,
          "z": 1
         },
         "domain": {
          "x": [
           0,
           1
          ],
          "y": [
           0,
           1
          ]
         },
         "xaxis": {
          "title": {
           "text": "PC3"
          },
          "type": "linear"
         },
         "yaxis": {
          "title": {
           "text": "PC2"
          },
          "type": "linear"
         },
         "zaxis": {
          "title": {
           "text": "PC1"
          },
          "type": "linear"
         }
        },
        "template": {
         "data": {
          "bar": [
           {
            "error_x": {
             "color": "#2a3f5f"
            },
            "error_y": {
             "color": "#2a3f5f"
            },
            "marker": {
             "line": {
              "color": "#E5ECF6",
              "width": 0.5
             }
            },
            "type": "bar"
           }
          ],
          "barpolar": [
           {
            "marker": {
             "line": {
              "color": "#E5ECF6",
              "width": 0.5
             }
            },
            "type": "barpolar"
           }
          ],
          "carpet": [
           {
            "aaxis": {
             "endlinecolor": "#2a3f5f",
             "gridcolor": "white",
             "linecolor": "white",
             "minorgridcolor": "white",
             "startlinecolor": "#2a3f5f"
            },
            "baxis": {
             "endlinecolor": "#2a3f5f",
             "gridcolor": "white",
             "linecolor": "white",
             "minorgridcolor": "white",
             "startlinecolor": "#2a3f5f"
            },
            "type": "carpet"
           }
          ],
          "choropleth": [
           {
            "colorbar": {
             "outlinewidth": 0,
             "ticks": ""
            },
            "type": "choropleth"
           }
          ],
          "contour": [
           {
            "colorbar": {
             "outlinewidth": 0,
             "ticks": ""
            },
            "colorscale": [
             [
              0,
              "#0d0887"
             ],
             [
              0.1111111111111111,
              "#46039f"
             ],
             [
              0.2222222222222222,
              "#7201a8"
             ],
             [
              0.3333333333333333,
              "#9c179e"
             ],
             [
              0.4444444444444444,
              "#bd3786"
             ],
             [
              0.5555555555555556,
              "#d8576b"
             ],
             [
              0.6666666666666666,
              "#ed7953"
             ],
             [
              0.7777777777777778,
              "#fb9f3a"
             ],
             [
              0.8888888888888888,
              "#fdca26"
             ],
             [
              1,
              "#f0f921"
             ]
            ],
            "type": "contour"
           }
          ],
          "contourcarpet": [
           {
            "colorbar": {
             "outlinewidth": 0,
             "ticks": ""
            },
            "type": "contourcarpet"
           }
          ],
          "heatmap": [
           {
            "colorbar": {
             "outlinewidth": 0,
             "ticks": ""
            },
            "colorscale": [
             [
              0,
              "#0d0887"
             ],
             [
              0.1111111111111111,
              "#46039f"
             ],
             [
              0.2222222222222222,
              "#7201a8"
             ],
             [
              0.3333333333333333,
              "#9c179e"
             ],
             [
              0.4444444444444444,
              "#bd3786"
             ],
             [
              0.5555555555555556,
              "#d8576b"
             ],
             [
              0.6666666666666666,
              "#ed7953"
             ],
             [
              0.7777777777777778,
              "#fb9f3a"
             ],
             [
              0.8888888888888888,
              "#fdca26"
             ],
             [
              1,
              "#f0f921"
             ]
            ],
            "type": "heatmap"
           }
          ],
          "heatmapgl": [
           {
            "colorbar": {
             "outlinewidth": 0,
             "ticks": ""
            },
            "colorscale": [
             [
              0,
              "#0d0887"
             ],
             [
              0.1111111111111111,
              "#46039f"
             ],
             [
              0.2222222222222222,
              "#7201a8"
             ],
             [
              0.3333333333333333,
              "#9c179e"
             ],
             [
              0.4444444444444444,
              "#bd3786"
             ],
             [
              0.5555555555555556,
              "#d8576b"
             ],
             [
              0.6666666666666666,
              "#ed7953"
             ],
             [
              0.7777777777777778,
              "#fb9f3a"
             ],
             [
              0.8888888888888888,
              "#fdca26"
             ],
             [
              1,
              "#f0f921"
             ]
            ],
            "type": "heatmapgl"
           }
          ],
          "histogram": [
           {
            "marker": {
             "colorbar": {
              "outlinewidth": 0,
              "ticks": ""
             }
            },
            "type": "histogram"
           }
          ],
          "histogram2d": [
           {
            "colorbar": {
             "outlinewidth": 0,
             "ticks": ""
            },
            "colorscale": [
             [
              0,
              "#0d0887"
             ],
             [
              0.1111111111111111,
              "#46039f"
             ],
             [
              0.2222222222222222,
              "#7201a8"
             ],
             [
              0.3333333333333333,
              "#9c179e"
             ],
             [
              0.4444444444444444,
              "#bd3786"
             ],
             [
              0.5555555555555556,
              "#d8576b"
             ],
             [
              0.6666666666666666,
              "#ed7953"
             ],
             [
              0.7777777777777778,
              "#fb9f3a"
             ],
             [
              0.8888888888888888,
              "#fdca26"
             ],
             [
              1,
              "#f0f921"
             ]
            ],
            "type": "histogram2d"
           }
          ],
          "histogram2dcontour": [
           {
            "colorbar": {
             "outlinewidth": 0,
             "ticks": ""
            },
            "colorscale": [
             [
              0,
              "#0d0887"
             ],
             [
              0.1111111111111111,
              "#46039f"
             ],
             [
              0.2222222222222222,
              "#7201a8"
             ],
             [
              0.3333333333333333,
              "#9c179e"
             ],
             [
              0.4444444444444444,
              "#bd3786"
             ],
             [
              0.5555555555555556,
              "#d8576b"
             ],
             [
              0.6666666666666666,
              "#ed7953"
             ],
             [
              0.7777777777777778,
              "#fb9f3a"
             ],
             [
              0.8888888888888888,
              "#fdca26"
             ],
             [
              1,
              "#f0f921"
             ]
            ],
            "type": "histogram2dcontour"
           }
          ],
          "mesh3d": [
           {
            "colorbar": {
             "outlinewidth": 0,
             "ticks": ""
            },
            "type": "mesh3d"
           }
          ],
          "parcoords": [
           {
            "line": {
             "colorbar": {
              "outlinewidth": 0,
              "ticks": ""
             }
            },
            "type": "parcoords"
           }
          ],
          "pie": [
           {
            "automargin": true,
            "type": "pie"
           }
          ],
          "scatter": [
           {
            "marker": {
             "colorbar": {
              "outlinewidth": 0,
              "ticks": ""
             }
            },
            "type": "scatter"
           }
          ],
          "scatter3d": [
           {
            "line": {
             "colorbar": {
              "outlinewidth": 0,
              "ticks": ""
             }
            },
            "marker": {
             "colorbar": {
              "outlinewidth": 0,
              "ticks": ""
             }
            },
            "type": "scatter3d"
           }
          ],
          "scattercarpet": [
           {
            "marker": {
             "colorbar": {
              "outlinewidth": 0,
              "ticks": ""
             }
            },
            "type": "scattercarpet"
           }
          ],
          "scattergeo": [
           {
            "marker": {
             "colorbar": {
              "outlinewidth": 0,
              "ticks": ""
             }
            },
            "type": "scattergeo"
           }
          ],
          "scattergl": [
           {
            "marker": {
             "colorbar": {
              "outlinewidth": 0,
              "ticks": ""
             }
            },
            "type": "scattergl"
           }
          ],
          "scattermapbox": [
           {
            "marker": {
             "colorbar": {
              "outlinewidth": 0,
              "ticks": ""
             }
            },
            "type": "scattermapbox"
           }
          ],
          "scatterpolar": [
           {
            "marker": {
             "colorbar": {
              "outlinewidth": 0,
              "ticks": ""
             }
            },
            "type": "scatterpolar"
           }
          ],
          "scatterpolargl": [
           {
            "marker": {
             "colorbar": {
              "outlinewidth": 0,
              "ticks": ""
             }
            },
            "type": "scatterpolargl"
           }
          ],
          "scatterternary": [
           {
            "marker": {
             "colorbar": {
              "outlinewidth": 0,
              "ticks": ""
             }
            },
            "type": "scatterternary"
           }
          ],
          "surface": [
           {
            "colorbar": {
             "outlinewidth": 0,
             "ticks": ""
            },
            "colorscale": [
             [
              0,
              "#0d0887"
             ],
             [
              0.1111111111111111,
              "#46039f"
             ],
             [
              0.2222222222222222,
              "#7201a8"
             ],
             [
              0.3333333333333333,
              "#9c179e"
             ],
             [
              0.4444444444444444,
              "#bd3786"
             ],
             [
              0.5555555555555556,
              "#d8576b"
             ],
             [
              0.6666666666666666,
              "#ed7953"
             ],
             [
              0.7777777777777778,
              "#fb9f3a"
             ],
             [
              0.8888888888888888,
              "#fdca26"
             ],
             [
              1,
              "#f0f921"
             ]
            ],
            "type": "surface"
           }
          ],
          "table": [
           {
            "cells": {
             "fill": {
              "color": "#EBF0F8"
             },
             "line": {
              "color": "white"
             }
            },
            "header": {
             "fill": {
              "color": "#C8D4E3"
             },
             "line": {
              "color": "white"
             }
            },
            "type": "table"
           }
          ]
         },
         "layout": {
          "annotationdefaults": {
           "arrowcolor": "#2a3f5f",
           "arrowhead": 0,
           "arrowwidth": 1
          },
          "autotypenumbers": "strict",
          "coloraxis": {
           "colorbar": {
            "outlinewidth": 0,
            "ticks": ""
           }
          },
          "colorscale": {
           "diverging": [
            [
             0,
             "#8e0152"
            ],
            [
             0.1,
             "#c51b7d"
            ],
            [
             0.2,
             "#de77ae"
            ],
            [
             0.3,
             "#f1b6da"
            ],
            [
             0.4,
             "#fde0ef"
            ],
            [
             0.5,
             "#f7f7f7"
            ],
            [
             0.6,
             "#e6f5d0"
            ],
            [
             0.7,
             "#b8e186"
            ],
            [
             0.8,
             "#7fbc41"
            ],
            [
             0.9,
             "#4d9221"
            ],
            [
             1,
             "#276419"
            ]
           ],
           "sequential": [
            [
             0,
             "#0d0887"
            ],
            [
             0.1111111111111111,
             "#46039f"
            ],
            [
             0.2222222222222222,
             "#7201a8"
            ],
            [
             0.3333333333333333,
             "#9c179e"
            ],
            [
             0.4444444444444444,
             "#bd3786"
            ],
            [
             0.5555555555555556,
             "#d8576b"
            ],
            [
             0.6666666666666666,
             "#ed7953"
            ],
            [
             0.7777777777777778,
             "#fb9f3a"
            ],
            [
             0.8888888888888888,
             "#fdca26"
            ],
            [
             1,
             "#f0f921"
            ]
           ],
           "sequentialminus": [
            [
             0,
             "#0d0887"
            ],
            [
             0.1111111111111111,
             "#46039f"
            ],
            [
             0.2222222222222222,
             "#7201a8"
            ],
            [
             0.3333333333333333,
             "#9c179e"
            ],
            [
             0.4444444444444444,
             "#bd3786"
            ],
            [
             0.5555555555555556,
             "#d8576b"
            ],
            [
             0.6666666666666666,
             "#ed7953"
            ],
            [
             0.7777777777777778,
             "#fb9f3a"
            ],
            [
             0.8888888888888888,
             "#fdca26"
            ],
            [
             1,
             "#f0f921"
            ]
           ]
          },
          "colorway": [
           "#636efa",
           "#EF553B",
           "#00cc96",
           "#ab63fa",
           "#FFA15A",
           "#19d3f3",
           "#FF6692",
           "#B6E880",
           "#FF97FF",
           "#FECB52"
          ],
          "font": {
           "color": "#2a3f5f"
          },
          "geo": {
           "bgcolor": "white",
           "lakecolor": "white",
           "landcolor": "#E5ECF6",
           "showlakes": true,
           "showland": true,
           "subunitcolor": "white"
          },
          "hoverlabel": {
           "align": "left"
          },
          "hovermode": "closest",
          "mapbox": {
           "style": "light"
          },
          "paper_bgcolor": "white",
          "plot_bgcolor": "#E5ECF6",
          "polar": {
           "angularaxis": {
            "gridcolor": "white",
            "linecolor": "white",
            "ticks": ""
           },
           "bgcolor": "#E5ECF6",
           "radialaxis": {
            "gridcolor": "white",
            "linecolor": "white",
            "ticks": ""
           }
          },
          "scene": {
           "xaxis": {
            "backgroundcolor": "#E5ECF6",
            "gridcolor": "white",
            "gridwidth": 2,
            "linecolor": "white",
            "showbackground": true,
            "ticks": "",
            "zerolinecolor": "white"
           },
           "yaxis": {
            "backgroundcolor": "#E5ECF6",
            "gridcolor": "white",
            "gridwidth": 2,
            "linecolor": "white",
            "showbackground": true,
            "ticks": "",
            "zerolinecolor": "white"
           },
           "zaxis": {
            "backgroundcolor": "#E5ECF6",
            "gridcolor": "white",
            "gridwidth": 2,
            "linecolor": "white",
            "showbackground": true,
            "ticks": "",
            "zerolinecolor": "white"
           }
          },
          "shapedefaults": {
           "line": {
            "color": "#2a3f5f"
           }
          },
          "ternary": {
           "aaxis": {
            "gridcolor": "white",
            "linecolor": "white",
            "ticks": ""
           },
           "baxis": {
            "gridcolor": "white",
            "linecolor": "white",
            "ticks": ""
           },
           "bgcolor": "#E5ECF6",
           "caxis": {
            "gridcolor": "white",
            "linecolor": "white",
            "ticks": ""
           }
          },
          "title": {
           "x": 0.05
          },
          "xaxis": {
           "automargin": true,
           "gridcolor": "white",
           "linecolor": "white",
           "ticks": "",
           "title": {
            "standoff": 15
           },
           "zerolinecolor": "white",
           "zerolinewidth": 2
          },
          "yaxis": {
           "automargin": true,
           "gridcolor": "white",
           "linecolor": "white",
           "ticks": "",
           "title": {
            "standoff": 15
           },
           "zerolinecolor": "white",
           "zerolinewidth": 2
          }
         }
        }
       }
      },
      "image/png": "[encoded data removed]",
      "text/html": [
       "<div>                            <div id=\"692754cb-a941-460d-bbfe-907e42701101\" class=\"plotly-graph-div\" style=\"height:525px; width:800px;\"></div>            <script type=\"text/javascript\">                require([\"plotly\"], function(Plotly) {                    window.PLOTLYENV=window.PLOTLYENV || {};                                    if (document.getElementById(\"692754cb-a941-460d-bbfe-907e42701101\")) {                    Plotly.newPlot(                        \"692754cb-a941-460d-bbfe-907e42701101\",                        [{\"customdata\": [[\"Scrypt\"], [\"Scrypt\"], [\"X13\"], [\"X11\"], [\"SHA-512\"], [\"SHA-256\"], [\"SHA-256\"], [\"X15\"], [\"Scrypt\"], [\"Scrypt\"], [\"Scrypt\"], [\"Scrypt\"], [\"Scrypt\"], [\"Scrypt\"], [\"Groestl\"], [\"PoS\"], [\"Scrypt\"], [\"Scrypt\"], [\"X11\"], [\"X11\"], [\"SHA3\"], [\"Scrypt\"], [\"SHA-256\"], [\"Scrypt\"], [\"X13\"], [\"X13\"], [\"NeoScrypt\"], [\"Scrypt\"], [\"Scrypt\"], [\"Scrypt\"], [\"X11\"], [\"X11\"], [\"Multiple\"], [\"PHI1612\"], [\"X11\"], [\"Scrypt\"], [\"Scrypt\"], [\"Scrypt\"], [\"X11\"], [\"Multiple\"], [\"X13\"], [\"Scrypt\"], [\"Shabal256\"], [\"Counterparty\"], [\"SHA-256\"], [\"Groestl\"], [\"Scrypt\"], [\"X13\"], [\"Scrypt\"], [\"Scrypt\"], [\"X13\"], [\"X11\"], [\"Scrypt\"], [\"X11\"], [\"SHA3\"], [\"QUAIT\"], [\"X11\"], [\"Scrypt\"], [\"X13\"], [\"SHA-256\"], [\"X15\"], [\"BLAKE256\"], [\"SHA-256\"], [\"X11\"], [\"SHA-256\"], [\"NIST5\"], [\"Scrypt\"], [\"Scrypt\"], [\"X11\"], [\"Scrypt\"], [\"SHA-256\"], [\"Scrypt\"], [\"PoS\"], [\"X11\"], [\"SHA-256\"], [\"SHA-256\"], [\"NIST5\"], [\"X11\"], [\"POS 3.0\"], [\"Scrypt\"], [\"Scrypt\"], [\"Scrypt\"], [\"X13\"], [\"X11\"], [\"X11\"], [\"Scrypt\"], [\"SHA-256\"], [\"X11\"], [\"Scrypt\"], [\"Scrypt\"], [\"Scrypt\"], [\"Scrypt\"], [\"SHA-256D\"], [\"PoS\"], [\"Scrypt\"], [\"X11\"], [\"PoS\"], [\"X13\"], [\"X14\"], [\"PoS\"], [\"SHA-256D\"], [\"DPoS\"], [\"X11\"], [\"X13\"], [\"X11\"], [\"PoS\"], [\"Scrypt\"], [\"Scrypt\"], [\"PoS\"], [\"X11\"], [\"SHA-256\"], [\"Scrypt\"], [\"X11\"], [\"Scrypt\"], [\"Scrypt\"], [\"X11\"], [\"Scrypt\"], [\"Scrypt\"], [\"Scrypt\"], [\"Scrypt\"], [\"Quark\"], [\"QuBit\"], [\"Scrypt\"], [\"SHA-256\"], [\"X11\"], [\"Scrypt\"], [\"Scrypt\"], [\"Scrypt\"], [\"Scrypt\"], [\"X13\"], [\"Scrypt\"], [\"Scrypt\"], [\"X11\"], [\"Blake2S\"], [\"X11\"], [\"PoS\"], [\"X11\"], [\"PoS\"], [\"X11\"], [\"Scrypt\"], [\"Scrypt\"], [\"Scrypt\"], [\"SHA-256\"], [\"X11\"], [\"Scrypt\"], [\"PoS\"], [\"Scrypt\"], [\"X15\"], [\"SHA-256\"], [\"POS 3.0\"], [\"536\"], [\"NIST5\"], [\"NIST5\"], [\"Skein\"], [\"X13\"], [\"Scrypt\"], [\"X13\"], [\"SkunkHash v2 Raptor\"], [\"Skein\"], [\"X11\"], [\"Scrypt\"], [\"VeChainThor Authority\"], [\"PoS\"], [\"Scrypt\"], [\"Scrypt\"], [\"SHA-512\"], [\"Ouroboros\"], [\"X11\"], [\"NeoScrypt\"], [\"Scrypt\"], [\"Lyra2REv2\"], [\"Scrypt\"], [\"SHA-256\"], [\"NIST5\"], [\"PHI1612\"], [\"Scrypt\"], [\"Quark\"], [\"POS 2.0\"], [\"Scrypt\"], [\"SHA-256\"], [\"X11\"], [\"DPoS\"], [\"NIST5\"], [\"X13\"], [\"Scrypt\"], [\"NIST5\"], [\"Quark\"], [\"Scrypt\"], [\"Scrypt\"], [\"X11\"], [\"Quark\"], [\"Scrypt\"], [\"Scrypt\"], [\"X11\"], [\"POS 3.0\"], [\"Scrypt\"], [\"Scrypt\"], [\"X13\"], [\"C11\"], [\"X11\"], [\"XEVAN\"], [\"Scrypt\"], [\"VBFT\"], [\"NIST5\"], [\"Scrypt\"], [\"Scrypt\"], [\"Scrypt\"], [\"Green Protocol\"], [\"PoS\"], [\"Scrypt\"], [\"Semux BFT consensus\"], [\"Quark\"], [\"PoS\"], [\"X16R\"], [\"Scrypt\"], [\"XEVAN\"], [\"Scrypt\"], [\"Scrypt\"], [\"Scrypt\"], [\"SHA-256D\"], [\"Scrypt\"], [\"X15\"], [\"Scrypt\"], [\"Quark\"], [\"SHA-256\"], [\"DPoS\"], [\"X16R\"], [\"Quark\"], [\"Quark\"], [\"Scrypt\"], [\"Lyra2REv2\"], [\"Quark\"], [\"Scrypt\"], [\"X11\"], [\"X11\"], [\"Scrypt\"], [\"PoS\"], [\"Keccak\"], [\"X11\"], [\"Scrypt\"], [\"SHA-512\"], [\"ECC 256K1\"], [\"XEVAN\"], [\"XEVAN\"], [\"X11\"], [\"Quark\"], [\"Equihash\"], [\"Scrypt\"], [\"Quark\"], [\"Quark\"], [\"Scrypt\"], [\"X11\"], [\"Scrypt\"], [\"XEVAN\"], [\"SHA-256D\"], [\"X11\"], [\"X11\"], [\"DPoS\"], [\"Scrypt\"], [\"X11\"], [\"Scrypt\"], [\"Scrypt\"], [\"SHA-256\"], [\"Scrypt\"], [\"X11\"], [\"Scrypt\"], [\"SHA-256\"], [\"X11\"], [\"Scrypt\"], [\"Scrypt\"], [\"X11\"], [\"Scrypt\"], [\"PoS\"], [\"X11\"], [\"SHA-256\"], [\"DPoS\"], [\"Scrypt\"], [\"Scrypt\"], [\"NeoScrypt\"], [\"X13\"], [\"DPoS\"], [\"DPoS\"], [\"SHA-256\"], [\"PoS\"], [\"PoS\"], [\"SHA-256\"], [\"Scrypt\"], [\"Scrypt\"]], \"hovertemplate\": \"<b>%{hovertext}</b><br><br>Class=%{marker.color}<br>PC3=%{x}<br>PC2=%{y}<br>PC1=%{z}<br>Algorithm=%{customdata[0]}<extra></extra>\", \"hovertext\": [\"42 Coin\", \"404Coin\", \"EliteCoin\", \"Dash\", \"Bitshares\", \"BitcoinDark\", \"PayCoin\", \"KoboCoin\", \"Aurora Coin\", \"BlueCoin\", \"EnergyCoin\", \"BitBar\", \"CryptoBullion\", \"CasinoCoin\", \"Diamond\", \"Exclusive Coin\", \"FlutterCoin\", \"HoboNickels\", \"HyperStake\", \"IOCoin\", \"MaxCoin\", \"MintCoin\", \"MazaCoin\", \"Nautilus Coin\", \"NavCoin\", \"OpalCoin\", \"Orbitcoin\", \"PotCoin\", \"PhoenixCoin\", \"Reddcoin\", \"SuperCoin\", \"SyncCoin\", \"TeslaCoin\", \"TittieCoin\", \"TorCoin\", \"UnitaryStatus Dollar\", \"UltraCoin\", \"VeriCoin\", \"X11 Coin\", \"Crypti\", \"StealthCoin\", \"ZCC Coin\", \"BurstCoin\", \"StorjCoin\", \"Neutron\", \"FairCoin\", \"RubyCoin\", \"Kore\", \"Dnotes\", \"8BIT Coin\", \"Sativa Coin\", \"Ucoin\", \"Vtorrent\", \"IslaCoin\", \"Nexus\", \"Droidz\", \"Squall Coin\", \"Diggits\", \"Paycon\", \"Emercoin\", \"EverGreenCoin\", \"Decred\", \"EDRCoin\", \"Hitcoin\", \"DubaiCoin\", \"PWR Coin\", \"BillaryCoin\", \"GPU Coin\", \"EuropeCoin\", \"ZeitCoin\", \"SwingCoin\", \"SafeExchangeCoin\", \"Nebuchadnezzar\", \"Ratecoin\", \"Revenu\", \"Clockcoin\", \"VIP Tokens\", \"BitSend\", \"Let it Ride\", \"PutinCoin\", \"iBankCoin\", \"Frankywillcoin\", \"MudraCoin\", \"Lutetium Coin\", \"GoldBlocks\", \"CarterCoin\", \"BitTokens\", \"MustangCoin\", \"ZoneCoin\", \"RootCoin\", \"BitCurrency\", \"Swiscoin\", \"BuzzCoin\", \"Opair\", \"PesoBit\", \"Halloween Coin\", \"CoffeeCoin\", \"RoyalCoin\", \"GanjaCoin V2\", \"TeamUP\", \"LanaCoin\", \"ARK\", \"InsaneCoin\", \"EmberCoin\", \"XenixCoin\", \"FreeCoin\", \"PLNCoin\", \"AquariusCoin\", \"Creatio\", \"Eternity\", \"Eurocoin\", \"BitcoinFast\", \"Stakenet\", \"BitConnect Coin\", \"MoneyCoin\", \"Enigma\", \"Russiacoin\", \"PandaCoin\", \"GameUnits\", \"GAKHcoin\", \"Allsafe\", \"LiteCreed\", \"Klingon Empire Darsek\", \"Internet of People\", \"KushCoin\", \"Printerium\", \"Impeach\", \"Zilbercoin\", \"FirstCoin\", \"FindCoin\", \"OpenChat\", \"RenosCoin\", \"VirtacoinPlus\", \"TajCoin\", \"Impact\", \"Atmos\", \"HappyCoin\", \"MacronCoin\", \"Condensate\", \"Independent Money System\", \"ArgusCoin\", \"LomoCoin\", \"ProCurrency\", \"GoldReserve\", \"GrowthCoin\", \"Phreak\", \"Degas Coin\", \"HTML5 Coin\", \"Ultimate Secure Cash\", \"QTUM\", \"Espers\", \"Denarius\", \"Virta Unique Coin\", \"Bitcoin Planet\", \"BritCoin\", \"Linda\", \"DeepOnion\", \"Signatum\", \"Cream\", \"Monoeci\", \"Draftcoin\", \"Vechain\", \"Stakecoin\", \"CoinonatX\", \"Ethereum Dark\", \"Obsidian\", \"Cardano\", \"Regalcoin\", \"TrezarCoin\", \"TerraNovaCoin\", \"Rupee\", \"WomenCoin\", \"Theresa May Coin\", \"NamoCoin\", \"LUXCoin\", \"Xios\", \"Bitcloud 2.0\", \"KekCoin\", \"BlackholeCoin\", \"Infinity Economics\", \"Magnet\", \"Lamden Tau\", \"Electra\", \"Bitcoin Diamond\", \"Cash & Back Coin\", \"Bulwark\", \"Kalkulus\", \"GermanCoin\", \"LiteCoin Ultra\", \"PhantomX\", \"Digiwage\", \"Trollcoin\", \"Litecoin Plus\", \"Monkey Project\", \"TokenPay\", \"My Big Coin\", \"Unified Society USDEX\", \"Tokyo Coin\", \"Stipend\", \"Pushi\", \"Ellerium\", \"Velox\", \"Ontology\", \"Bitspace\", \"Briacoin\", \"Ignition\", \"MedicCoin\", \"Bitcoin Green\", \"Deviant Coin\", \"Abjcoin\", \"Semux\", \"Carebit\", \"Zealium\", \"Proton\", \"iDealCash\", \"Bitcoin Incognito\", \"HollyWoodCoin\", \"Swisscoin\", \"Xt3ch\", \"TheVig\", \"EmaratCoin\", \"Dekado\", \"Lynx\", \"Poseidon Quark\", \"BitcoinWSpectrum\", \"Muse\", \"Trivechain\", \"Dystem\", \"Giant\", \"Peony Coin\", \"Absolute Coin\", \"Vitae\", \"TPCash\", \"ARENON\", \"EUNO\", \"MMOCoin\", \"Ketan\", \"XDNA\", \"PAXEX\", \"ThunderStake\", \"Kcash\", \"Acute Angle Cloud\", \"Bettex coin\", \"BitMoney\", \"Junson Ming Chan Coin\", \"HerbCoin\", \"PirateCash\", \"Oduwa\", \"Galilel\", \"Crypto Sports\", \"Credit\", \"Dash Platinum\", \"Nasdacoin\", \"Beetle Coin\", \"Titan Coin\", \"Award\", \"Insane Coin\", \"ALAX\", \"LiteDoge\", \"TruckCoin\", \"OrangeCoin\", \"BitstarCoin\", \"NeosCoin\", \"HyperCoin\", \"PinkCoin\", \"AudioCoin\", \"IncaKoin\", \"Piggy Coin\", \"Genstake\", \"XiaoMiCoin\", \"CapriCoin\", \" ClubCoin\", \"Radium\", \"Creditbit \", \"OKCash\", \"Lisk\", \"HiCoin\", \"WhiteCoin\", \"FriendshipCoin\", \"Triangles Coin\", \"EOS\", \"Oxycoin\", \"TigerCash\", \"Particl\", \"Nxt\", \"ZEPHYR\", \"Gapcoin\", \"BitcoinPlus\"], \"legendgroup\": \"0\", \"marker\": {\"color\": [0, 0, 0, 0, 0, 0, 0, 0, 0, 0, 0, 0, 0, 0, 0, 0, 0, 0, 0, 0, 0, 0, 0, 0, 0, 0, 0, 0, 0, 0, 0, 0, 0, 0, 0, 0, 0, 0, 0, 0, 0, 0, 0, 0, 0, 0, 0, 0, 0, 0, 0, 0, 0, 0, 0, 0, 0, 0, 0, 0, 0, 0, 0, 0, 0, 0, 0, 0, 0, 0, 0, 0, 0, 0, 0, 0, 0, 0, 0, 0, 0, 0, 0, 0, 0, 0, 0, 0, 0, 0, 0, 0, 0, 0, 0, 0, 0, 0, 0, 0, 0, 0, 0, 0, 0, 0, 0, 0, 0, 0, 0, 0, 0, 0, 0, 0, 0, 0, 0, 0, 0, 0, 0, 0, 0, 0, 0, 0, 0, 0, 0, 0, 0, 0, 0, 0, 0, 0, 0, 0, 0, 0, 0, 0, 0, 0, 0, 0, 0, 0, 0, 0, 0, 0, 0, 0, 0, 0, 0, 0, 0, 0, 0, 0, 0, 0, 0, 0, 0, 0, 0, 0, 0, 0, 0, 0, 0, 0, 0, 0, 0, 0, 0, 0, 0, 0, 0, 0, 0, 0, 0, 0, 0, 0, 0, 0, 0, 0, 0, 0, 0, 0, 0, 0, 0, 0, 0, 0, 0, 0, 0, 0, 0, 0, 0, 0, 0, 0, 0, 0, 0, 0, 0, 0, 0, 0, 0, 0, 0, 0, 0, 0, 0, 0, 0, 0, 0, 0, 0, 0, 0, 0, 0, 0, 0, 0, 0, 0, 0, 0, 0, 0, 0, 0, 0, 0, 0, 0, 0, 0, 0, 0, 0, 0, 0, 0, 0, 0, 0, 0, 0, 0, 0, 0, 0, 0, 0, 0, 0, 0, 0, 0, 0, 0, 0, 0, 0, 0], \"coloraxis\": \"coloraxis\", \"symbol\": \"circle\"}, \"mode\": \"markers\", \"name\": \"0\", \"scene\": \"scene\", \"showlegend\": true, \"type\": \"scatter3d\", \"x\": [-0.5313138035565607, -0.531755919411133, -0.5958283568849043, -0.5441755665464644, -0.07339859238693086, -0.30210006162148867, -0.042176630341650485, -0.5223690115856707, -0.531322041435062, -0.5315531784511562, -0.531360163372652, -0.5313138615042364, -0.5313142788432185, -0.368387805921447, -0.4600396392727208, -0.1498818406167988, -0.3599167603268457, -0.5313574942825061, -0.28487597841579393, -0.544178813702732, -0.48925376653743213, -0.2794089168726754, -0.302908548286211, -0.2713945875776341, -0.5584799399725634, -0.5584607535057665, -0.3119487546503536, -0.5314329081522388, -0.5313498828584552, -0.5423574727599815, -0.2842627539839034, -0.5441703200622316, 0.07316904808208745, -0.31775463788691694, -0.5441716974694226, -0.5318619626555814, -0.5313411133094958, -0.30319992375877797, -0.5441733992230333, 0.07316999718529878, -0.5584675108126056, -0.5314534071578446, -0.3651785712404648, -0.20188010664649172, -0.3021181711353528, -0.4600580661538256, -0.27139737641024836, -0.5584568119824312, -0.2714948542934959, -0.5313143564977219, -0.5584585558765727, -0.28424634191297093, -0.5313198522959579, -0.5441708897728424, -0.1830195789166159, -0.5905511404586701, -0.30447242442248146, -0.271433192562275, -0.5584679170453681, -0.30219780586568135, -0.5223373430221163, -0.3903652886672011, -0.3021009585202978, -0.5505391206917642, -0.3021005439598123, -0.496643768487346, -0.5313207153501234, -0.2714209199092076, -0.5442064397575923, -0.2936162912065239, -0.3021027343635461, -0.350954070211996, -0.14988891237773674, -0.5442272976435347, -0.302116857893187, -0.3021480314100763, -0.4928894209519693, -0.5441911623972817, -0.23951159792773377, -0.5317878155498975, -0.5313192261717026, -0.5313598605458678, -0.29854703008796774, -0.28454624609814655, -0.5441803753687171, -0.5313376114979305, -0.3020997165403684, -0.5441708188372968, -0.5313165371261053, -0.5313145343261751, -0.27145102621640066, -0.3462586484357328, -0.7299604156165096, -0.14991379589799214, -0.5313264322012539, -0.544395808178159, -0.14993907923146668, -0.29852952734610305, -0.686871499656104, -0.14991165338732398, -0.7219451396083844, 0.017402508145901604, -0.5441797451783694, -0.5932569123034265, -0.5441720942620294, -0.14990272948032815, -0.531323473180432, -0.5313182481687571, -0.14988891237773674, -0.5441776372033064, -0.30210408590458765, -0.5313241969583669, -0.4603642490945077, -0.5313203257220408, -0.5313724750911141, -0.5441710457013001, -0.5313290344840929, -0.28685159764436335, -0.5313162019601594, -0.5313153306904552, -0.2419851148926471, -0.3214898555540418, -0.5313647582969626, -0.30210044384862966, -0.5441732357751967, -0.5313199340457826, -0.5313157588135944, -0.27139284847760486, -0.20457724967974025, -0.2985350655758785, -0.5317743736236151, -0.2714036031006275, -0.5441836634847278, -0.6943812718811017, -0.5442212197222344, -0.1499308158943926, -0.5441868123003044, -0.15006446447632396, -0.5442580795646402, -0.5313176048095338, -0.5313166343317568, -0.5313978450944391, -0.04849793051904049, -0.5441801424125169, -0.2716660244654833, -0.14988650746244994, -0.5313306543301971, -0.5451937680186454, -0.04219173745697258, -0.23954030842159957, -0.7900686786109632, -0.4928528469500232, -0.49288421071443766, -0.6273785696136446, -0.5584655714927553, -0.5389138417092233, -0.5584648850316769, -0.1517149761219816, -0.6273938369848844, -0.5441758518035301, -0.2713956258725807, 4.931557794547598, -0.14988637319766826, -0.5313252105145525, -0.5313157379315919, -0.07208095849300676, -0.10709658068214623, -0.5441753194408436, -0.3120495695123677, -0.5313155525616357, -0.08155075141354784, -0.551665635144964, -0.30214079372579017, -0.4931622344580636, -0.5768854458449085, -0.5313163742781758, -0.5019349030551298, -0.17420292062890952, -0.5313212076284979, -0.046316194105152135, -0.5441967844513625, 0.01730329616674393, -0.506064472428392, -0.5585417933857382, -0.5313732196104533, -0.23293108352580014, -0.24198795945901103, -0.5373567085705843, -0.5313295532480818, -0.5441915300842608, -0.2420002415063891, -0.5316119196662579, -0.5313150824322806, -0.28424707275482136, -0.2395040500442523, -0.2980648610453503, -0.5314217280336573, -0.29868221591703764, -0.44960278349862515, -0.5441732325220301, -0.37415053343154503, -0.2714071660060481, -0.2372287993096834, -0.4928598237656119, -0.5313143736628705, -0.53131466814041, -0.27152975770170795, -0.1731338009393967, -0.14989532133721098, -0.5313200412852936, -0.011692712933155009, -0.5019759757612736, -0.14989058146716136, -0.11176985590167067, -0.5322722653851777, -0.13445319416472534, -0.2714038972455963, -0.5360116184183694, -0.2713936994442404, -0.7209289752634847, -0.5313289840419415, -0.26242232803409093, -0.33576031024757275, -0.24203542271413214, -0.04220124901841422, -0.06109204572338989, -0.37171192286200877, -0.24198432384599317, -0.5019092247552358, -0.2728029700925007, -0.34147579063033673, -0.24201316380312582, -0.5313996924396528, -0.2842555226271335, -0.5441861041977275, -0.2714495338542356, -0.14990082383573583, -0.4015509911427906, -0.2842537338448516, -0.5332224637172248, 0.12595259560938957, 2.018440436237159, -0.11422542589800319, 0.13797679787818437, -0.29072692045450266, -0.5019243936250889, 0.07032847136853461, -0.5313211314068172, -0.5019150398232449, -0.24198174482411547, -0.5491985883348405, -0.2842455730604041, -0.5313285874300825, -0.37426221424945955, -0.7216650089417105, -0.5442113469412266, -0.5441817919367181, 0.016993181261679972, -0.5400195489570135, -0.5442617012969202, -0.5313319066811212, -0.5313261046134528, -0.04217447888647258, -0.5313174317729145, -0.5443766279136857, -0.5325637206301808, -0.3088718608066361, -0.5444403615391906, -0.5313376643484676, -0.5314996576610163, -0.5442636183430325, -0.5313662561597103, -0.1498818951826001, -0.633933597140211, -0.30213466763567226, 0.01739513107882683, -0.2759936694879794, -0.5314338942486645, -0.3119526926226272, -0.5584551069431094, 0.01706929499165688, 0.017030930987555457, -0.0426316334178285, -0.1498839220909532, -0.020881526926563216, 0.03544522301207673, -0.5313403916141568, -0.2713872677497819], \"y\": [1.0268223497496807, 1.0269446349099878, 1.574206404309499, 1.2370192135966618, 1.5923725161959854, 0.7561345923945766, 0.5937767635080687, 1.7609664891555283, 1.0268204780986916, 1.027062923075633, 1.0268689416868655, 1.0268221053398257, 1.0268222220951206, 0.36356875711795406, 0.9463401855069473, 1.6073003683349787, 0.42381561222248926, 1.02679361770167, 1.075295917892587, 1.237022477009481, 1.8667168175939028, 0.8725174587205246, 0.7554959909837987, 0.8644532120050099, 1.7268460937966115, 1.72682681127473, 0.5033432758440723, 1.0266878052919282, 1.026799285786099, 1.0379213079796543, 1.0746796234152538, 1.237027257855388, 0.17027541643554334, 1.7417660782894084, 1.2370225893027296, 1.0264046994096527, 1.02678926164108, 0.45439175210115523, 1.2370270236334653, 0.17033499719117912, 1.726833602411335, 1.0263573061831857, 0.5295502289219564, 1.6830576662015106, 0.756124946651071, 0.9463613560562864, 0.8644658092995984, 1.7268155858653085, 0.8642611021437291, 1.026822905484498, 1.726818549182286, 1.0746510222568784, 1.0268163218747983, 1.2370278310235425, 1.9208933115008133, 1.8752577975432028, 0.7725998200586263, 0.8644412701510945, 1.726803743372642, 0.7556407974952809, 1.7611306137912193, 0.8336400988012915, 0.7561354937836183, 1.2273560047691154, 0.756142038627878, 1.4241033364867537, 1.026803871635461, 0.8643556573170408, 1.2368311060815858, 0.8268666964909422, 0.7561263822875659, 0.3689616145067519, 1.6072953685778777, 1.2370391203366473, 0.7560299646582965, 0.7558783132485187, 1.420275712044765, 1.236964062032299, 1.649998610983763, 1.026088042652322, 1.0268009625275791, 1.0268081027335745, 1.5643519188428174, 1.0745668224132325, 1.2370070968028655, 1.0267917957590964, 0.7561348509319477, 1.2370259436945517, 1.026812384761783, 1.0268230842032313, 0.8645197276980219, 0.49376512390247557, 1.898520828774726, 1.6072876879852989, 1.026835041643805, 1.2363458563033374, 1.6073336797264919, 1.5644538842558104, 1.8146671613119363, 1.6071481211826824, 1.898028619334261, 1.9202867128366023, 1.237018570379622, 1.7612826292963413, 1.2370267089465279, 1.6072910944712504, 1.0268087377700865, 1.0268013921024033, 1.6072953685778777, 1.2369982914680662, 0.7561398475170465, 1.0268128187889598, 0.9766095388083972, 1.0268119549022063, 1.0264874406475222, 1.2370249610021182, 1.02675048711568, 0.8603146222352422, 1.0268168906866981, 1.0268218773544733, 1.5695601895422946, 0.6601881232430428, 1.0265708865630185, 0.7561355818814033, 1.2370245263634578, 1.0268164040338958, 1.0268110375632347, 0.8644279646625835, 0.3725346957810894, 1.5644521710902304, 1.0266798795347627, 0.8644512272622167, 1.2369801340752753, 1.809453817890705, 1.2370118248732027, 1.6072828251622835, 1.2369832986550757, 1.6072417680404505, 1.2368127842699448, 1.0268133293838386, 1.0268078818236916, 1.0263014659539884, 0.5547363196285446, 1.2370129161414374, 0.8635251101051581, 1.607286898161585, 1.0267757235694484, 1.7296362371435061, 0.5936783928909112, 1.6499872096978432, 1.9199925254104684, 1.4202873826271651, 1.4202523153395819, 1.8340094018438162, 1.726813492999347, 1.0041931315243444, 1.7268195235404462, 1.6581197633466498, 1.83402474564959, 1.2370270627066664, 0.8644535134096142, 2.7018692004168186, 1.6072676343089098, 1.0268046046806274, 1.0268217513807367, 1.5931725550870373, 1.3986174550443768, 1.2370159385234063, 0.5032047391384616, 1.026814583424543, 0.6558598299975298, 1.0321424181194416, 0.756128311423856, 1.4198779571879627, 1.9046890417281617, 1.026812221098572, 1.7318382690231724, 1.4748343111346562, 1.0268208388894984, 0.5924965034615909, 1.2369666855020973, 1.9201594167212617, 1.415410821088637, 1.7267811341906631, 1.0267549406074725, 1.2579147547733969, 1.5695600216191674, 1.0026282027577946, 1.0267473764001822, 1.2370183073633527, 1.5695118305449265, 1.0265771468787064, 1.0268212136689565, 1.0746511514115096, 1.6499961707544613, 0.37426647824171255, 1.026790374268844, 1.5641245738033123, 0.9309413594433803, 1.2370150518488556, 1.3392038562299915, 0.8644005849890689, 1.5343902069357647, 1.4202701805272935, 1.0268211066972688, 1.0268201919568716, 0.8642961802922869, 1.64209535317932, 1.6072606460880567, 1.0268104583492466, 2.0348458799585023, 1.7318795473556217, 1.6072607252571678, 0.677399425631901, 1.0246850568271813, 0.8748005854843087, 0.864456623782129, 1.0253691535024623, 0.8644354786966444, 1.901490560915266, 1.0267867571872566, 1.598736930786297, 0.3108418873175789, 1.5692263544484821, 0.5937483789268144, 1.7300448131223929, 0.8397590056182804, 1.5695557624587204, 1.731930413250582, 0.855660197701481, 0.8182077732949784, 1.569536924457907, 1.026303322547747, 1.0746390618196957, 1.2370128543126728, 0.8643608378773658, 1.6071923239095465, 0.8695946974889928, 1.0746100235073626, 1.01784433556942, 1.714814391446027, 3.5068742666274453, 1.1768446453708388, 0.81629285202252, 1.081176152074613, 1.7319160875099802, -0.07140521587104574, 1.0268170020432914, 1.7319278522010808, 1.5695577893160106, 0.9995167842948245, 1.074650431158961, 1.0267863585898012, 1.3390497438805908, 1.899264083559544, 1.2368142453727766, 1.2370206273848565, 1.9201684111327253, 1.014384565947757, 1.2371190971862338, 1.0267194743102261, 1.0268018686856955, 0.5937694558399634, 1.026825996155741, 1.2369319261191836, 1.0217223903350863, 0.7628385957546965, 1.2366933057683942, 1.026837249832051, 1.0267669958973862, 1.236995111840136, 1.0267782096001432, 1.607294975059019, 0.8752756484709687, 0.7561191279335724, 1.9202729891187993, 0.8630263035880976, 1.0267614378576668, 0.5033130931340335, 1.726821063801601, 1.9206972624514924, 1.9207358185210583, 0.5936362652325949, 1.6072972335868072, 1.6814499375885241, 0.7837573299535993, 1.0266977344169936, 0.8644550446850521], \"z\": [-0.3372979115210984, -0.3206445827689035, 2.29139734440412, -0.3959747928090921, -0.28246474364198, -0.3130801598981846, -0.26058142343373447, -0.23923927132519351, -0.3369576788999484, -0.3295389212885692, -0.33579522542959395, -0.33729385034722215, -0.33727813984104166, 0.7125403917520858, -0.38411203669645727, -0.3461122596719783, -0.2506768964970121, -0.3353578038745203, -0.3233096611432141, -0.3958695409429595, -0.4791177062036819, -0.02484819066396048, -0.2764077362206069, -0.28455042001173547, -0.2908593644101529, -0.2914812659351708, -0.3599369508447342, -0.33160353192888997, -0.33570057213645604, 0.02066662611712245, -0.343186442700084, -0.3962409006068636, -0.2459429931819113, -0.32207400011363413, -0.39615259696063126, -0.3125443120457048, -0.3359760920904252, -0.3038587938503498, -0.3961170846919447, -0.24641037052527728, -0.2912622376235724, -0.3284067278407752, 0.13114153514435964, -0.3315443462931785, -0.31229232401487883, -0.3835338797141576, -0.28453066811325234, -0.2915566310793155, -0.27918799605899697, -0.3372799889181908, -0.2915088375479284, -0.34363109349497734, -0.33701452787280406, -0.39622243862891654, -0.5586082862184657, -0.45945511379971626, -0.3609608184296729, -0.2829331258958234, -0.29103076340820233, -0.3056418414291875, -0.2416790886873521, -0.09508437764050447, -0.31305108822265965, -0.07388456502291689, -0.3131147361570523, -0.24046766035347758, -0.33689049824405404, -0.28280239398596546, -0.3933935413908599, 0.8679106679776372, -0.31291493639970236, -0.01781810510507617, -0.34579571607877596, -0.39406659906744024, -0.31165934056080774, -0.3093291226018348, -0.3617664444547284, -0.3949584380599739, -0.32409692982621896, -0.3132012289054298, -0.33692858015737337, -0.33536842758331137, -0.2377531578252492, -0.33112890558007696, -0.3956966700119167, -0.33613325959288176, -0.313095711338144, -0.39621163949574273, -0.3371176181653733, -0.337274224866502, -0.28279168737145594, -0.2343294451842147, 0.03419418464388875, -0.34475338150904866, -0.33688857248276327, -0.38238283130218814, -0.34408230793163674, -0.23918279504158652, -0.41516086028702237, -0.3438317151576361, -0.28015987051776325, 3.7324172245639398, -0.3958044194266096, 0.8400970259700262, -0.3961665727105503, -0.34521687065432655, -0.3368162139983867, -0.33697046835374195, -0.34579571607877596, -0.3957417623230332, -0.3129584508624233, -0.33681694217518265, -0.3845898899387164, -0.33696425336917163, -0.3325552899963473, -0.39619555375697013, -0.33617549976016586, 0.3583600530148994, -0.3371634111669652, -0.33723393468844043, -0.35125792447023674, -0.37678898435516556, -0.333463219926009, -0.3130721366945314, -0.39610555553103255, -0.33701187807066346, -0.3371387709796159, -0.28443729704431275, -0.29027772437615046, -0.23895077975879922, -0.31800306484982416, -0.28417852854208003, -0.39537178372616877, -0.40997401450320153, -0.39411079134283805, -0.3440432557994424, -0.39526971943105865, -0.33844631768886313, -0.3912132401542398, -0.33708208460483624, -0.33708128475613247, -0.33020769163107355, 0.2717199405387429, -0.3957478823034364, -0.2670905598484096, -0.34583000656990986, -0.33629327407517007, 0.8920161779296533, -0.259272730164919, -0.32287597275898877, 0.5730964242213754, -0.36330122857180774, -0.36180434269469597, -0.43903434972201855, -0.2911941138056132, 0.12735308342395923, -0.29126483646275025, -0.3571716376432542, -0.43853948000173215, -0.39602009156061657, -0.28451141277833736, 4.456174860344471, -0.3456963888431694, -0.33671749692302766, -0.33721687397205385, -0.3404954991432392, 0.6782150912556979, -0.39596097170289507, -0.3549391893263321, -0.3371725263773909, -0.30328215455013147, 0.4315306091631288, -0.3114193291880172, -0.34807717962118095, -0.41008609478289354, -0.3371228966450873, -0.4021360840092346, -0.31704172784818546, -0.3369933518246146, -0.08716281948394439, -0.3947543766449428, 3.737270337902646, 0.19587487107792467, -0.28793758720228085, -0.3344551379670185, -0.3106296017151445, -0.35114389129569723, 0.07688086861626264, -0.33613248796474493, -0.3953351060678576, -0.3503091729856485, -0.32370538806177734, -0.3372389942596461, -0.34360303817982385, -0.32437869568507727, -0.29383299996547435, -0.3327867527266474, -0.23075162379839653, -0.3737865165794058, -0.39603734842359284, -0.32667855999855044, -0.28367195176113913, -0.29949726442334706, -0.3629004397869747, -0.33726633412863954, -0.3372480567950595, -0.27805665264777013, -0.35360336552373056, -0.3452910817366278, -0.33696474070350385, 3.922517828996225, -0.40080477174325974, -0.34547964684046945, -0.3004487394709225, -0.28386762766730156, -0.2915507187124388, -0.2842057851626226, -0.14049046801862264, -0.284457741682806, -0.3454329642076878, -0.3364391028920892, -0.18858794047490132, 2.2582692806933937, -0.3468547733548592, -0.25940026302442365, 1.0288742634393389, -0.3522209722549159, -0.35125736828923915, -0.40381914601134933, -0.16527002006555977, -0.35564581549562246, -0.34997763816554456, -0.33014781261229265, -0.34318069920764704, -0.395510978319129, -0.28170486493076075, -0.344580057702565, -0.3527907117965543, -0.34304220390184026, -0.1968410209489017, -0.3617345398980092, -0.2724807419465047, -0.274236339937137, 0.49509235867004975, -0.13365985145306844, -0.40311418772373697, -0.2796667188996638, -0.33696870121201083, -0.4035700352209993, -0.35137427715999475, 0.5689984027377784, -0.34365732457767667, -0.33645195849091225, -0.3211374885160998, -0.3001814354982645, -0.3930773012689889, -0.3957380767199589, 3.749505330963294, 0.09770095131140757, -0.39327891463824616, -0.33583789807339587, -0.3366623012061148, -0.2606140475857179, -0.33718030832810364, -0.3873706671656815, -0.25093923910147986, -0.09284858914547882, -0.383121766339492, -0.33645900667262224, -0.32952726601210947, -0.3923086202072274, -0.3348991549035051, -0.34607119578218143, -0.33799238656288344, -0.31159606684718555, 3.732808799967292, -0.09184855547621316, -0.33209550528718734, -0.35956306524244863, -0.2916637671470609, 3.7426720792972956, 3.7439155929107755, -0.24152159921505612, -0.3460070938786549, -0.3626772368479274, 2.4794597353406695, -0.3353445644926205, -0.2848539595620746]}, {\"customdata\": [[\"SHA-256\"], [\"Ethash\"], [\"Scrypt\"], [\"CryptoNight-V7\"], [\"Ethash\"], [\"Equihash\"], [\"Multiple\"], [\"Scrypt\"], [\"X11\"], [\"Scrypt\"], [\"Multiple\"], [\"Scrypt\"], [\"SHA-256\"], [\"Scrypt\"], [\"Scrypt\"], [\"Quark\"], [\"Groestl\"], [\"Scrypt\"], [\"Scrypt\"], [\"Scrypt\"], [\"X11\"], [\"Multiple\"], [\"SHA-256\"], [\"Scrypt\"], [\"Scrypt\"], [\"Scrypt\"], [\"Scrypt\"], [\"Scrypt\"], [\"NeoScrypt\"], [\"Scrypt\"], [\"Scrypt\"], [\"Scrypt\"], [\"Scrypt\"], [\"SHA-256\"], [\"Scrypt\"], [\"Scrypt\"], [\"Scrypt\"], [\"Scrypt\"], [\"HybridScryptHash256\"], [\"Scrypt\"], [\"Scrypt\"], [\"SHA-256\"], [\"Scrypt\"], [\"Scrypt\"], [\"Scrypt\"], [\"Scrypt\"], [\"SHA-256\"], [\"SHA-256\"], [\"SHA-256\"], [\"SHA-256\"], [\"SHA-256\"], [\"X11\"], [\"Scrypt\"], [\"Lyra2REv2\"], [\"Scrypt\"], [\"SHA-256\"], [\"CryptoNight\"], [\"CryptoNight\"], [\"Scrypt\"], [\"Scrypt\"], [\"Scrypt\"], [\"Scrypt\"], [\"Scrypt\"], [\"Scrypt\"], [\"Stanford Folding\"], [\"Multiple\"], [\"QuBit\"], [\"Scrypt\"], [\"Scrypt\"], [\"M7 POW\"], [\"Scrypt\"], [\"SHA-256\"], [\"Scrypt\"], [\"X11\"], [\"Lyra2RE\"], [\"SHA-256\"], [\"X11\"], [\"Scrypt\"], [\"Scrypt\"], [\"Ethash\"], [\"Blake2b\"], [\"X11\"], [\"SHA-256\"], [\"Scrypt\"], [\"1GB AES Pattern Search\"], [\"Scrypt\"], [\"SHA-256\"], [\"X11\"], [\"Dagger\"], [\"Scrypt\"], [\"X11GOST\"], [\"Scrypt\"], [\"X11\"], [\"Scrypt\"], [\"X11\"], [\"Equihash\"], [\"CryptoNight\"], [\"SHA-256\"], [\"Multiple\"], [\"Scrypt\"], [\"SHA-256\"], [\"Scrypt\"], [\"Lyra2Z\"], [\"Ethash\"], [\"Equihash\"], [\"Scrypt\"], [\"X11\"], [\"X11\"], [\"CryptoNight\"], [\"Scrypt\"], [\"CryptoNight\"], [\"Lyra2RE\"], [\"X11\"], [\"CryptoNight-V7\"], [\"Scrypt\"], [\"X11\"], [\"Equihash\"], [\"Scrypt\"], [\"Lyra2RE\"], [\"Dagger-Hashimoto\"], [\"Scrypt\"], [\"NIST5\"], [\"Scrypt\"], [\"SHA-256\"], [\"Scrypt\"], [\"CryptoNight-V7\"], [\"Argon2d\"], [\"Blake2b\"], [\"Cloverhash\"], [\"CryptoNight\"], [\"X11\"], [\"Scrypt\"], [\"Scrypt\"], [\"X11\"], [\"X11\"], [\"CryptoNight\"], [\"Time Travel\"], [\"Scrypt\"], [\"Keccak\"], [\"X11\"], [\"SHA-256\"], [\"Scrypt\"], [\"Scrypt\"], [\"Scrypt\"], [\"Scrypt\"], [\"Scrypt\"], [\"Scrypt\"], [\"CryptoNight\"], [\"Equihash\"], [\"X11\"], [\"NeoScrypt\"], [\"Equihash\"], [\"Dagger\"], [\"Scrypt\"], [\"X11\"], [\"NeoScrypt\"], [\"Ethash\"], [\"NeoScrypt\"], [\"Multiple\"], [\"CryptoNight\"], [\"CryptoNight\"], [\"Ethash\"], [\"X11\"], [\"CryptoNight-V7\"], [\"Scrypt\"], [\"BLAKE256\"], [\"X11\"], [\"NeoScrypt\"], [\"NeoScrypt\"], [\"Scrypt\"], [\"X11\"], [\"SHA-256\"], [\"C11\"], [\"Ethash\"], [\"CryptoNight\"], [\"SkunkHash\"], [\"CryptoNight\"], [\"Scrypt\"], [\"Dagger\"], [\"Lyra2REv2\"], [\"Scrypt\"], [\"Scrypt\"], [\"X11\"], [\"Ethash\"], [\"CryptoNight\"], [\"Scrypt\"], [\"IMesh\"], [\"Equihash\"], [\"Lyra2Z\"], [\"X11\"], [\"CryptoNight\"], [\"NIST5\"], [\"Lyra2RE\"], [\"Tribus\"], [\"Lyra2Z\"], [\"CryptoNight\"], [\"CryptoNight Heavy\"], [\"CryptoNight\"], [\"Jump Consistent Hash\"], [\"CryptoNight\"], [\"X16R\"], [\"HMQ1725\"], [\"X11\"], [\"Scrypt\"], [\"CryptoNight-V7\"], [\"Cryptonight-GPU\"], [\"XEVAN\"], [\"CryptoNight Heavy\"], [\"SHA-256\"], [\"X11\"], [\"X16R\"], [\"Equihash\"], [\"Lyra2Z\"], [\"SHA-256\"], [\"CryptoNight\"], [\"Blake\"], [\"Blake\"], [\"Exosis\"], [\"Scrypt\"], [\"Equihash\"], [\"Equihash\"], [\"QuBit\"], [\"SHA-256\"], [\"X13\"], [\"SHA-256\"], [\"Scrypt\"], [\"NeoScrypt\"], [\"Blake\"], [\"Scrypt\"], [\"SHA-256\"], [\"Scrypt\"], [\"Groestl\"], [\"Scrypt\"], [\"Scrypt\"], [\"Multiple\"], [\"Equihash+Scrypt\"], [\"Ethash\"], [\"CryptoNight\"], [\"Equihash\"]], \"hovertemplate\": \"<b>%{hovertext}</b><br><br>Class=%{marker.color}<br>PC3=%{x}<br>PC2=%{y}<br>PC1=%{z}<br>Algorithm=%{customdata[0]}<extra></extra>\", \"hovertext\": [\"Bitcoin\", \"Ethereum\", \"Litecoin\", \"Monero\", \"Ethereum Classic\", \"ZCash\", \"DigiByte\", \"ProsperCoin\", \"Spreadcoin\", \"Argentum\", \"MyriadCoin\", \"MoonCoin\", \"ZetaCoin\", \"SexCoin\", \"Quatloo\", \"QuarkCoin\", \"Riecoin\", \"Digitalcoin \", \"Catcoin\", \"CannaCoin\", \"CryptCoin\", \"Verge\", \"DevCoin\", \"EarthCoin\", \"E-Gulden\", \"Einsteinium\", \"Emerald\", \"Franko\", \"FeatherCoin\", \"GrandCoin\", \"GlobalCoin\", \"GoldCoin\", \"Infinite Coin\", \"IXcoin\", \"KrugerCoin\", \"LuckyCoin\", \"Litebar \", \"MegaCoin\", \"MediterraneanCoin\", \"MinCoin\", \"NobleCoin\", \"Namecoin\", \"NyanCoin\", \"RonPaulCoin\", \"StableCoin\", \"SmartCoin\", \"SysCoin\", \"TigerCoin\", \"TerraCoin\", \"UnbreakableCoin\", \"Unobtanium\", \"UroCoin\", \"ViaCoin\", \"Vertcoin\", \"WorldCoin\", \"JouleCoin\", \"ByteCoin\", \"DigitalNote \", \"MonaCoin\", \"Gulden\", \"PesetaCoin\", \"Wild Beast Coin\", \"Flo\", \"ArtByte\", \"Folding Coin\", \"Unitus\", \"CypherPunkCoin\", \"OmniCron\", \"GreenCoin\", \"Cryptonite\", \"MasterCoin\", \"SoonCoin\", \"1Credit\", \"MarsCoin \", \"Crypto\", \"Anarchists Prime\", \"BowsCoin\", \"Song Coin\", \"BitZeny\", \"Expanse\", \"Siacoin\", \"MindCoin\", \"I0coin\", \"Revolution VR\", \"HOdlcoin\", \"Gamecredits\", \"CarpeDiemCoin\", \"Adzcoin\", \"SoilCoin\", \"YoCoin\", \"SibCoin\", \"Francs\", \"BolivarCoin\", \"Omni\", \"PizzaCoin\", \"Komodo\", \"Karbo\", \"ZayedCoin\", \"Circuits of Value\", \"DopeCoin\", \"DollarCoin\", \"Shilling\", \"ZCoin\", \"Elementrem\", \"ZClassic\", \"KiloCoin\", \"ArtexCoin\", \"Kurrent\", \"Cannabis Industry Coin\", \"OsmiumCoin\", \"Bikercoins\", \"HexxCoin\", \"PacCoin\", \"Citadel\", \"BeaverCoin\", \"VaultCoin\", \"Zero\", \"Canada eCoin\", \"Zoin\", \"DubaiCoin\", \"EB3coin\", \"Coinonat\", \"BenjiRolls\", \"ILCoin\", \"EquiTrader\", \"Quantum Resistant Ledger\", \"Dynamic\", \"Nano\", \"ChanCoin\", \"Dinastycoin\", \"DigitalPrice\", \"Unify\", \"SocialCoin\", \"ArcticCoin\", \"DAS\", \"LeviarCoin\", \"Bitcore\", \"gCn Coin\", \"SmartCash\", \"Onix\", \"Bitcoin Cash\", \"Sojourn Coin\", \"NewYorkCoin\", \"FrazCoin\", \"Kronecoin\", \"AdCoin\", \"Linx\", \"Sumokoin\", \"BitcoinZ\", \"Elements\", \"VIVO Coin\", \"Bitcoin Gold\", \"Pirl\", \"eBoost\", \"Pura\", \"Innova\", \"Ellaism\", \"GoByte\", \"SHIELD\", \"UltraNote\", \"BitCoal\", \"DaxxCoin\", \"AC3\", \"Lethean\", \"PopularCoin\", \"Photon\", \"Sucre\", \"SparksPay\", \"GunCoin\", \"IrishCoin\", \"Pioneer Coin\", \"UnitedBitcoin\", \"Interzone\", \"1717 Masonic Commemorative Token\", \"TurtleCoin\", \"MUNcoin\", \"Niobio Cash\", \"ShareChain\", \"Travelflex\", \"KREDS\", \"BitFlip\", \"LottoCoin\", \"Crypto Improvement Fund\", \"Callisto Network\", \"BitTube\", \"Poseidon\", \"Aidos Kuneen\", \"Bitrolium\", \"Alpenschillling\", \"FuturoCoin\", \"Monero Classic\", \"Jumpcoin\", \"Infinex\", \"KEYCO\", \"GINcoin\", \"PlatinCoin\", \"Loki\", \"Newton Coin\", \"MassGrid\", \"PluraCoin\", \"Motion\", \"PlusOneCoin\", \"Axe\", \"HexCoin\", \"Webchain\", \"Ryo\", \"Urals Coin\", \"Qwertycoin\", \"Project Pai\", \"Azart\", \"Xchange\", \"CrypticCoin\", \"Actinium\", \"Bitcoin SV\", \"FREDEnergy\", \"Universal Molecule\", \"Lithium\", \"Exosis\", \"Block-Logic\", \"Beam\", \"Bithereum\", \"SLICE\", \"BLAST\", \"Bitcoin Rhodium\", \"GlobalToken\", \"SolarCoin\", \"UFO Coin\", \"BlakeCoin\", \"Crypto Escudo\", \"Crown Coin\", \"SmileyCoin\", \"Groestlcoin\", \"Bata\", \"Pakcoin\", \"JoinCoin\", \"Vollar\", \"Reality Clash\", \"Beldex\", \"Horizen\"], \"legendgroup\": \"1\", \"marker\": {\"color\": [1, 1, 1, 1, 1, 1, 1, 1, 1, 1, 1, 1, 1, 1, 1, 1, 1, 1, 1, 1, 1, 1, 1, 1, 1, 1, 1, 1, 1, 1, 1, 1, 1, 1, 1, 1, 1, 1, 1, 1, 1, 1, 1, 1, 1, 1, 1, 1, 1, 1, 1, 1, 1, 1, 1, 1, 1, 1, 1, 1, 1, 1, 1, 1, 1, 1, 1, 1, 1, 1, 1, 1, 1, 1, 1, 1, 1, 1, 1, 1, 1, 1, 1, 1, 1, 1, 1, 1, 1, 1, 1, 1, 1, 1, 1, 1, 1, 1, 1, 1, 1, 1, 1, 1, 1, 1, 1, 1, 1, 1, 1, 1, 1, 1, 1, 1, 1, 1, 1, 1, 1, 1, 1, 1, 1, 1, 1, 1, 1, 1, 1, 1, 1, 1, 1, 1, 1, 1, 1, 1, 1, 1, 1, 1, 1, 1, 1, 1, 1, 1, 1, 1, 1, 1, 1, 1, 1, 1, 1, 1, 1, 1, 1, 1, 1, 1, 1, 1, 1, 1, 1, 1, 1, 1, 1, 1, 1, 1, 1, 1, 1, 1, 1, 1, 1, 1, 1, 1, 1, 1, 1, 1, 1, 1, 1, 1, 1, 1, 1, 1, 1, 1, 1, 1, 1, 1, 1, 1, 1, 1, 1, 1, 1, 1, 1, 1, 1, 1, 1, 1, 1, 1, 1, 1, 1, 1, 1, 1, 1, 1, 1, 1, 1, 1, 1, 1, 1, 1, 1], \"coloraxis\": \"coloraxis\", \"symbol\": \"diamond\"}, \"mode\": \"markers\", \"name\": \"1\", \"scene\": \"scene\", \"showlegend\": true, \"type\": \"scatter3d\", \"x\": [0.2378996006498787, 0.41245736796944193, 0.008661251198177714, 0.45663950629758937, 0.41243762074842477, 0.3504169886899445, 0.34722901469370315, 0.008688108877444785, -0.004170350540409512, 0.00868207808041685, 0.35248314695800215, -0.02350758554503107, 0.2378297582654453, 0.008622505280900972, 0.008680885688978393, 0.03798079218856944, 0.07994210975479026, 0.008675405402755514, 0.008687562017638324, 0.008689168952525295, -0.004167864990013444, 0.34589773432161103, 0.22907476869648885, 0.0028363658560639675, 0.008682404566740349, 0.00858445151820271, 0.00868201474339083, 0.00869067016904946, 0.22795183724233856, 0.008239855033682651, 0.008661433067637902, 0.008670291265149701, -0.03303400710258928, 0.2378984094055123, 0.008612733544039736, 0.008683085199636611, 0.008691513587469555, 0.008674148477366781, 0.41391338487956003, 0.008689017740420807, 0.006542907698303176, 0.2379008026686865, 0.008537693669496416, 0.008689865942487478, 0.008661957246824746, 0.00867810793763587, 0.23762143500757762, 0.23788777188491333, 0.2378959530512574, 0.23790054856312431, 0.23790801838643869, -0.0041649279974104395, 0.008681392858794112, 0.1985131589619107, 0.008624728476758402, 0.23788957594571827, 0.34017742165051995, 0.4215463293129591, 0.008657538080485019, 0.008394819718957666, 0.008626285593315368, 0.008691753916151278, 0.008621263371664186, 0.008309627449499505, 0.40490315273680894, 0.3532623179616338, 0.2185315907748371, 0.008687940191034482, 0.006116717649641272, 0.4331946342019257, 0.008691757501372934, 0.2379016592400111, 0.0009775152965755033, -0.004179378750284736, 0.3943709121281045, 0.23789805156935231, -0.004172210276007663, 0.008662145619439881, 0.008642594255618362, 0.4124925630307303, 0.4447086408480459, -0.00417179246319909, 0.23789844401529672, 0.008595323096267777, 0.3255228076574483, 0.008658690707477098, 0.22790486771914792, -0.004188510672898001, 0.39826299226252576, 0.00867768625319278, 0.35035760484861683, 0.008687890416223953, -0.0041717132367762415, 0.008691758896900206, -0.004167088597917528, 0.26688369367218434, 0.4249829041147835, 0.2379049464818885, 0.35280950651596626, 0.008631254604030272, 0.23790379232833203, 0.008685338428029104, 0.3517427785073219, 0.4124858649473003, 0.350417655292832, 0.007779562066063885, -0.004516814498126837, -0.004206708874026281, 0.4249845600883664, 0.008691478418153379, 0.42498106818624337, 0.3943800605681175, -0.012752083275607567, 0.4566263410893928, 0.008690587497363175, -0.004259773128168573, 0.35041749792079735, 0.008646044796502144, 0.39437285845885217, 0.453701476542863, 0.008332483954125256, 0.04714754969870321, 0.008681425966283919, 0.23720206430281826, 0.008680854380983306, 0.45661117463943196, 0.37858802525036966, 0.45709859745366643, 0.3090274570875194, 0.4241373262613862, -0.004186095948517609, 0.008683595312283902, 0.008683807036387473, -0.004179314973723763, -0.004167046094252043, 0.4249768264261984, 0.3851476166805799, -0.06950420577963407, 0.13722381370881384, -0.004302850343291347, 0.23789957487690658, 0.0078114014390541124, -0.04518098471957332, 0.008686710073934008, 0.00867842402355975, 0.008671358919615277, 0.008670955909796161, 0.42497586551641436, 0.34669733363197175, -0.005333620316380473, 0.22805478766167908, 0.3504132895919874, 0.39824174562741255, 0.008645989572376625, -0.00425982857597711, 0.2280524460266967, 0.4124696500001332, 0.22805375742817002, 0.35305002809121183, 0.41059537984360406, 0.42498394609830203, 0.411463173716849, -0.004240848914192779, 0.45639595012189377, 0.00677939526428694, 0.1307641479923703, -0.0041677266276566385, 0.22805390391657643, 0.22790375553723213, 0.008669541976901151, -0.004169595651996247, 0.23789882718024113, 0.09040250539074648, 0.13241801084901744, 0.3211148173925327, 0.4156269618010047, 0.42490806019208405, 0.0040863419505456425, 0.39821883935620644, 0.19820471332587045, 0.00868400003040224, 0.0016895488240617877, -0.004285999171465352, 0.41185960885004963, 0.4248726804491451, 0.008688748579582043, 0.3730000899310427, 0.3503887803919669, 0.3517119684768143, -0.004184838650701612, 0.4249791127672679, 0.04714571126792843, 0.39437748182820503, 0.42487126418660975, 0.35174391171179303, 0.42493634576935135, 0.38894365053143126, 0.39400135785970297, 0.408238994488504, 0.42469184245372477, 0.16830984257750944, 0.5057448169856991, -0.004168115059502894, 0.008689655536495826, 0.45649337383666466, 0.3969890277136702, 0.16583733776349568, 0.3359917064801511, 0.23694091785519203, -0.004168459080533485, 0.16830269512256815, 0.348188808593956, 0.3517352439181808, 0.23789957603531092, 0.42360580454236924, 0.34051234575652733, 0.34051366972703795, 0.40240665690756056, 0.008668688081722574, 0.3503860502169936, 0.3504094663128051, 0.21852073400177638, 0.23788304846050612, -0.018449814456395874, 0.23786215251552664, 0.00044511171279064046, 0.22628238485947166, 0.33992598368147203, 0.008314271069050624, 0.2378959336378739, -0.006645405505022479, 0.07993140195515999, 0.00868972016527451, 0.0086505302210651, 0.35328535688495855, 0.4034265376123591, 0.4124866560201416, 0.42450000993928405, 0.35041702128301905], \"y\": [-1.3762402553234379, -2.093325253173153, -1.1055792216501685, -2.1985243214695998, -2.0934325297716, -2.041378588028054, -1.8063418063424372, -1.105568076985081, -0.8953606103141614, -1.1055880458779714, -1.8001206669002061, -1.3056513899124653, -1.376260136109802, -1.105640769208733, -1.1056086399767038, -0.400481247907857, -1.1860654622893352, -1.1055717547440151, -1.1055675273874768, -1.105564384346939, -0.8953618976160025, -1.8023130976173776, -1.3800707986740626, -1.1078464979509217, -1.1055623441163283, -1.1056326666042378, -1.1055686111485161, -1.1055647403869682, -1.6291337249919124, -1.1059648272317146, -1.1055709295846723, -1.105581191555591, -1.118468728281834, -1.3762390581152444, -1.1056402834718762, -1.105562422810639, -1.1055596036894886, -1.1055667589618785, -2.337644090073142, -1.1055623315910388, -1.1124796153725933, -1.3762414633600462, -1.1056081981077435, -1.1055698428466907, -1.1056804186868925, -1.1055763074289409, -1.3764855321457694, -1.3762441135824812, -1.3762493017316952, -1.3762769234024874, -1.3762361542708867, -0.8953539530824809, -1.1055625380355785, -1.314175981860391, -1.1056523384559995, -1.376244708738142, -2.3602592478604447, -2.336422335057335, -1.1055882748528487, -1.1062775886915197, -1.1055939530377261, -1.1055606188536722, -1.105585039932613, -1.1057803345647115, -2.2937702539040425, -1.7996930465351257, -1.472161500357056, -1.1055572360116876, -1.109024561125246, -2.1969688435099473, -1.1055594066058747, -1.3762423242197077, -1.1534980104378108, -0.8953594064048326, -2.2308068333862754, -1.376258529625993, -0.8953593466140916, -1.1056565394414668, -1.1056609587568498, -2.0933708586564737, -2.2786298115102257, -0.8953567397881151, -1.3762390928982993, -1.1055892370950973, -2.0493204114864816, -1.1055766483406266, -1.379274156865283, -0.8953811014155043, -2.1292401168291533, -1.1056468007164526, -2.0555651535944968, -1.1055672520840525, -0.8953622675261164, -1.10555940617419, -0.8953669153177565, -1.4184953133869067, -2.333828707137179, -1.376238809300306, -1.7999643834604597, -1.1056192950292367, -1.3762381955711773, -1.105570740780633, -2.1838577023056076, -2.0933697562391576, -2.0413792579682184, -1.1106957304022878, -0.8953029779501397, -0.8954499819459694, -2.3338370302083726, -1.1055603942093155, -2.3338359422088155, -2.230782255912062, -0.9472584175243506, -2.1986230793804387, -1.1055598897086765, -0.8958639792236222, -2.041376678423899, -1.1055736246568606, -2.230781676553926, -2.141892853718372, -1.1076193438111508, -0.712111964190098, -1.1055701504841822, -1.377039879824656, -1.1055916588210466, -2.198559409312848, -2.2395688358083183, -2.2912877857725102, -2.1354984155173287, -2.3341835347323445, -0.8953932137666252, -1.105562497690811, -1.1055964422969315, -0.895375814845502, -0.8953632654229762, -2.333849234249858, -2.207238842313558, -1.148040809098807, -1.2643549398794671, -0.8958812209572603, -1.376240229421452, -1.111030402228021, -1.0514165810085105, -1.1055660658324993, -1.105596480449539, -1.1055990655125438, -1.1055986604850971, -2.333869388381814, -2.050339866820425, -0.8952690328126985, -1.6290501388757597, -2.0413748704109387, -2.1292952231135334, -1.1055735691562607, -0.8954704485303903, -1.6290586817474995, -2.0935070936017866, -1.6290520091457923, -1.7998792222860387, -2.3708175186051954, -2.333831267702543, -2.098379542632171, -0.8956105924327825, -2.1988845781968864, -1.1066638258452697, -1.334239093918757, -0.8953631262940445, -1.6290456186296516, -1.629184679331777, -1.105575447013735, -0.8953631850201593, -1.376238973122869, -1.2014419636150135, -0.12335141772985513, -2.834780666346736, -2.104438148706664, -2.3339508313460495, -1.1069840205577295, -2.129238117103127, -1.314481023664822, -1.1055754491434981, -1.1096643606269432, -0.8955349488301435, -2.0966592511121114, -2.3343172242913344, -1.1055687198898219, -2.1988118619779944, -2.041379900467226, -2.1839953874525038, -0.8953944773589744, -2.333829981715946, -0.7120936196633717, -2.2307895192971365, -2.2224105811393944, -2.183852242910814, -2.334139070217287, -2.1808491481335137, -2.414069684677195, -2.195770609026485, -2.334135480948972, -1.2926020554693083, -2.300177706624901, -0.8953634623328787, -1.105570300453974, -2.1994368130940622, -2.2597502298281094, -0.7932505486426514, -2.2392094995406993, -1.3765352875322892, -0.8953655379739599, -1.292642043402804, -2.0437271709010374, -2.183888024661448, -1.376240230585656, -2.337329856318633, -2.158012561370914, -2.1579655301421843, -2.273246846924555, -1.1056084882254613, -2.0414938673528304, -2.0413770124424877, -1.4722111238411058, -1.3762496501497241, -0.40556124625026463, -1.3762916055861851, -1.1566555526664524, -1.6296739027926679, -2.16159705248117, -1.1057850014320696, -1.3762492822211212, -1.1204123898794953, -1.1860674131503928, -1.1055600108019896, -1.1056277709178002, -1.7997178957695579, -2.201341310150706, -2.0933695115329827, -2.334184961242492, -2.0413786207843003], \"z\": [-0.14120117164424373, -0.1509081584465136, -0.16425018494284108, -0.16123176592519595, -0.1493511924563891, -0.16108857821665143, 0.15966086972368373, -0.16539580423525735, -0.2242801869551198, -0.16501258086541054, -0.09360078792966386, 2.5546852835113976, -0.13828767025610372, -0.16226951369433154, -0.1648167503507918, -0.22732585170232614, -0.21130041876102007, -0.16486542907356252, -0.16537807856688738, -0.16546448285728738, -0.22436948474104504, 0.183404922551369, 0.23644012532707678, 0.0831311069053141, -0.16521090726783474, -0.16081865549405877, -0.1651502442195645, -0.16552145655427483, -0.18339181250195719, -0.14475542024223886, -0.1643172058731721, -0.16459452648207443, 1.5824463171401475, -0.14116255918454193, -0.16188544770025173, -0.16523733513248642, -0.16559195753834632, -0.16485160924878878, -0.1287364041345691, -0.16547329120107276, -0.030461874028190304, -0.1412401333431143, -0.15914061440277097, -0.16545275695308526, -0.16354829201410598, -0.16493978097170267, -0.12839939596685332, -0.14070418759159356, -0.14099125117706052, -0.14097429489216323, -0.14156461768944595, -0.2245432735381365, -0.16516938194970684, -0.18327769186874407, -0.16227424606678956, -0.1407714481336395, 3.858832378650559, 0.45962865390603924, -0.16403761683296064, -0.14864584247088242, -0.16275711708803609, -0.16559416752337633, -0.1626222111896302, -0.14885343053477576, -0.11128549264112098, -0.12758875795170263, -0.20595593378701477, -0.16546730563883638, -0.038478217928512165, -0.09839572385738245, -0.16560305321210278, -0.1412678978616562, 0.48612468195798664, -0.22393079085162826, -0.14990347257926256, -0.14100792584885202, -0.22421554018460318, -0.16372799538214444, -0.162920668706095, -0.1519751397515257, 0.3707499226480423, -0.2242509136583755, -0.14116368101056165, -0.16156308797448402, -0.16743375621914852, -0.16416719034623375, 0.2770951938894895, -0.22341211990563864, -0.15694436189489544, -0.16441461424590678, -0.1614573740431026, -0.1653930892666559, -0.22421418644969676, -0.16560311167549066, -0.22436408741839878, -0.3155533315995014, 0.3046193679844212, -0.14142362919364526, -0.10767216849313428, -0.1627714170969642, -0.14138227942296172, -0.16526670891270864, -0.14740177947505487, -0.15171742976805191, -0.16111018518350337, -0.09237691065739329, -0.2109543147206064, -0.2221935280861246, 0.30461371948895694, -0.16558486091853794, 0.30474436897894497, -0.15044358877614203, 0.49041046202930094, -0.15999729972959256, -0.16555316373709994, -0.21710287065274408, -0.16112254873849927, -0.16368743329657737, -0.1501621153447705, -0.15142846537524957, -0.13649588488564057, -0.19127466455080558, -0.16511578931963883, -0.10776789190222308, -0.16493798733807025, -0.1598549920565831, -0.15159982351863346, -0.02936685201463722, -0.12627530490799935, 0.3407161584815534, -0.2234205315320759, -0.16525702728403405, -0.16502059497923374, -0.22381497242125703, -0.2243920985389475, 0.3050084774115499, -0.15524545007583093, 3.242230181748381, -0.12097270730557702, -0.2152699715944535, -0.14120033625131853, -0.09122587011698442, 1.5806011335507884, -0.16535483018133612, -0.1648068171986055, -0.16450795392370152, -0.1644948909442739, 0.30519195351827033, 0.05107580576507845, -0.17880276147013632, -0.1880779370282143, -0.16096867731538975, -0.1557042107044185, -0.16368564328655097, -0.2199390613879378, -0.18792344588588186, -0.1500837447720092, -0.18802358605175076, -0.11782604000547736, 1.1420479692110097, 0.30459650893668183, -0.0750214382996152, -0.21968103255251817, -0.14897337373318137, -0.08178862965301832, 1.0813104970613743, -0.22436611051271185, -0.1880754885233047, -0.18111726748687054, -0.16460624123150186, -0.22429155716326662, -0.141179742104036, -0.20206956339982077, -0.2714394466446334, 8.037444637677948, -0.1607199758704565, 0.3084686854424942, 0.02733346887089264, -0.15520757992620637, -0.16884387989021366, -0.16517966533884504, 0.14172805783543035, -0.21843585914290928, -0.10315278263316584, 0.31251458244466984, -0.16541653925327218, -0.15416488642300138, -0.15996030647067536, -0.14518671165562502, -0.22346128501928697, 0.30477893455863553, -0.19133406040196502, -0.15028892196947843, -0.15600632572220807, -0.1474861015318896, 0.30870451143522915, 0.5813351930582625, 2.112166553796802, -0.15594864795981186, 0.31837618407896034, -0.18131808401871743, -0.15250095177574918, -0.22434828069469545, -0.16544111121980143, -0.14885435700112842, -0.14770254753266904, -0.1537580946462544, 3.1024618187118995, -0.10104966228688105, -0.2243196652098767, -0.1807461815785815, -0.055774408430676485, -0.1468842366090609, -0.1412003737993198, 0.38449076806374577, -0.13461034877408273, -0.13500207916107707, -0.15453202533260132, -0.1643340598752063, -0.1590300209033859, -0.1608015876452971, -0.20516741367911434, -0.140476912584936, -0.11995426308404042, -0.13934552272192918, 0.5300151986165803, -0.11328141208970376, -0.08550029210995828, -0.14900394673512632, -0.14099062192035766, 0.5498329302422933, -0.21086165210588978, -0.16551788996196315, -0.1634747987345891, -0.1283233060948011, -0.13505098343134253, -0.1517505705004422, 0.3263415832156144, -0.16108963467393358]}, {\"customdata\": [[\"Proof-of-BibleHash\"], [\"SHA-256 + Hive\"], [\"Proof-of-Authority\"], [\"Leased POS\"]], \"hovertemplate\": \"<b>%{hovertext}</b><br><br>Class=%{marker.color}<br>PC3=%{x}<br>PC2=%{y}<br>PC1=%{z}<br>Algorithm=%{customdata[0]}<extra></extra>\", \"hovertext\": [\"BiblePay\", \"LitecoinCash\", \"Poa Network\", \"Waves\"], \"legendgroup\": \"3\", \"marker\": {\"color\": [3, 3, 3, 3], \"coloraxis\": \"coloraxis\", \"symbol\": \"square\"}, \"mode\": \"markers\", \"name\": \"3\", \"scene\": \"scene\", \"showlegend\": true, \"type\": \"scatter3d\", \"x\": [14.538116254044859, 15.829807109422996, 14.264463958703123, 17.466043976139233], \"y\": [2.8504132929121613, 3.378592515031832, 3.421937324634577, 3.2667327824496857], \"z\": [-0.2965461822723153, -0.373755805994036, -0.28156904522846876, -0.45000121723517345]}, {\"customdata\": [[\"TRC10\"]], \"hovertemplate\": \"<b>%{hovertext}</b><br><br>Class=%{marker.color}<br>PC3=%{x}<br>PC2=%{y}<br>PC1=%{z}<br>Algorithm=%{customdata[0]}<extra></extra>\", \"hovertext\": [\"BitTorrent\"], \"legendgroup\": \"2\", \"marker\": {\"color\": [2], \"coloraxis\": \"coloraxis\", \"symbol\": \"x\"}, \"mode\": \"markers\", \"name\": \"2\", \"scene\": \"scene\", \"showlegend\": true, \"type\": \"scatter3d\", \"x\": [-0.9638698195404887], \"y\": [1.6844802370164966], \"z\": [34.04292719681983]}],                        {\"coloraxis\": {\"colorbar\": {\"title\": {\"text\": \"Class\"}}, \"colorscale\": [[0.0, \"#0d0887\"], [0.1111111111111111, \"#46039f\"], [0.2222222222222222, \"#7201a8\"], [0.3333333333333333, \"#9c179e\"], [0.4444444444444444, \"#bd3786\"], [0.5555555555555556, \"#d8576b\"], [0.6666666666666666, \"#ed7953\"], [0.7777777777777778, \"#fb9f3a\"], [0.8888888888888888, \"#fdca26\"], [1.0, \"#f0f921\"]]}, \"legend\": {\"title\": {\"text\": \"Class\"}, \"tracegroupgap\": 0, \"x\": 0, \"y\": 1}, \"margin\": {\"t\": 60}, \"scene\": {\"domain\": {\"x\": [0.0, 1.0], \"y\": [0.0, 1.0]}, \"xaxis\": {\"title\": {\"text\": \"PC3\"}}, \"yaxis\": {\"title\": {\"text\": \"PC2\"}}, \"zaxis\": {\"title\": {\"text\": \"PC1\"}}}, \"template\": {\"data\": {\"bar\": [{\"error_x\": {\"color\": \"#2a3f5f\"}, \"error_y\": {\"color\": \"#2a3f5f\"}, \"marker\": {\"line\": {\"color\": \"#E5ECF6\", \"width\": 0.5}}, \"type\": \"bar\"}], \"barpolar\": [{\"marker\": {\"line\": {\"color\": \"#E5ECF6\", \"width\": 0.5}}, \"type\": \"barpolar\"}], \"carpet\": [{\"aaxis\": {\"endlinecolor\": \"#2a3f5f\", \"gridcolor\": \"white\", \"linecolor\": \"white\", \"minorgridcolor\": \"white\", \"startlinecolor\": \"#2a3f5f\"}, \"baxis\": {\"endlinecolor\": \"#2a3f5f\", \"gridcolor\": \"white\", \"linecolor\": \"white\", \"minorgridcolor\": \"white\", \"startlinecolor\": \"#2a3f5f\"}, \"type\": \"carpet\"}], \"choropleth\": [{\"colorbar\": {\"outlinewidth\": 0, \"ticks\": \"\"}, \"type\": \"choropleth\"}], \"contour\": [{\"colorbar\": {\"outlinewidth\": 0, \"ticks\": \"\"}, \"colorscale\": [[0.0, \"#0d0887\"], [0.1111111111111111, \"#46039f\"], [0.2222222222222222, \"#7201a8\"], [0.3333333333333333, \"#9c179e\"], [0.4444444444444444, \"#bd3786\"], [0.5555555555555556, \"#d8576b\"], [0.6666666666666666, \"#ed7953\"], [0.7777777777777778, \"#fb9f3a\"], [0.8888888888888888, \"#fdca26\"], [1.0, \"#f0f921\"]], \"type\": \"contour\"}], \"contourcarpet\": [{\"colorbar\": {\"outlinewidth\": 0, \"ticks\": \"\"}, \"type\": \"contourcarpet\"}], \"heatmap\": [{\"colorbar\": {\"outlinewidth\": 0, \"ticks\": \"\"}, \"colorscale\": [[0.0, \"#0d0887\"], [0.1111111111111111, \"#46039f\"], [0.2222222222222222, \"#7201a8\"], [0.3333333333333333, \"#9c179e\"], [0.4444444444444444, \"#bd3786\"], [0.5555555555555556, \"#d8576b\"], [0.6666666666666666, \"#ed7953\"], [0.7777777777777778, \"#fb9f3a\"], [0.8888888888888888, \"#fdca26\"], [1.0, \"#f0f921\"]], \"type\": \"heatmap\"}], \"heatmapgl\": [{\"colorbar\": {\"outlinewidth\": 0, \"ticks\": \"\"}, \"colorscale\": [[0.0, \"#0d0887\"], [0.1111111111111111, \"#46039f\"], [0.2222222222222222, \"#7201a8\"], [0.3333333333333333, \"#9c179e\"], [0.4444444444444444, \"#bd3786\"], [0.5555555555555556, \"#d8576b\"], [0.6666666666666666, \"#ed7953\"], [0.7777777777777778, \"#fb9f3a\"], [0.8888888888888888, \"#fdca26\"], [1.0, \"#f0f921\"]], \"type\": \"heatmapgl\"}], \"histogram\": [{\"marker\": {\"colorbar\": {\"outlinewidth\": 0, \"ticks\": \"\"}}, \"type\": \"histogram\"}], \"histogram2d\": [{\"colorbar\": {\"outlinewidth\": 0, \"ticks\": \"\"}, \"colorscale\": [[0.0, \"#0d0887\"], [0.1111111111111111, \"#46039f\"], [0.2222222222222222, \"#7201a8\"], [0.3333333333333333, \"#9c179e\"], [0.4444444444444444, \"#bd3786\"], [0.5555555555555556, \"#d8576b\"], [0.6666666666666666, \"#ed7953\"], [0.7777777777777778, \"#fb9f3a\"], [0.8888888888888888, \"#fdca26\"], [1.0, \"#f0f921\"]], \"type\": \"histogram2d\"}], \"histogram2dcontour\": [{\"colorbar\": {\"outlinewidth\": 0, \"ticks\": \"\"}, \"colorscale\": [[0.0, \"#0d0887\"], [0.1111111111111111, \"#46039f\"], [0.2222222222222222, \"#7201a8\"], [0.3333333333333333, \"#9c179e\"], [0.4444444444444444, \"#bd3786\"], [0.5555555555555556, \"#d8576b\"], [0.6666666666666666, \"#ed7953\"], [0.7777777777777778, \"#fb9f3a\"], [0.8888888888888888, \"#fdca26\"], [1.0, \"#f0f921\"]], \"type\": \"histogram2dcontour\"}], \"mesh3d\": [{\"colorbar\": {\"outlinewidth\": 0, \"ticks\": \"\"}, \"type\": \"mesh3d\"}], \"parcoords\": [{\"line\": {\"colorbar\": {\"outlinewidth\": 0, \"ticks\": \"\"}}, \"type\": \"parcoords\"}], \"pie\": [{\"automargin\": true, \"type\": \"pie\"}], \"scatter\": [{\"marker\": {\"colorbar\": {\"outlinewidth\": 0, \"ticks\": \"\"}}, \"type\": \"scatter\"}], \"scatter3d\": [{\"line\": {\"colorbar\": {\"outlinewidth\": 0, \"ticks\": \"\"}}, \"marker\": {\"colorbar\": {\"outlinewidth\": 0, \"ticks\": \"\"}}, \"type\": \"scatter3d\"}], \"scattercarpet\": [{\"marker\": {\"colorbar\": {\"outlinewidth\": 0, \"ticks\": \"\"}}, \"type\": \"scattercarpet\"}], \"scattergeo\": [{\"marker\": {\"colorbar\": {\"outlinewidth\": 0, \"ticks\": \"\"}}, \"type\": \"scattergeo\"}], \"scattergl\": [{\"marker\": {\"colorbar\": {\"outlinewidth\": 0, \"ticks\": \"\"}}, \"type\": \"scattergl\"}], \"scattermapbox\": [{\"marker\": {\"colorbar\": {\"outlinewidth\": 0, \"ticks\": \"\"}}, \"type\": \"scattermapbox\"}], \"scatterpolar\": [{\"marker\": {\"colorbar\": {\"outlinewidth\": 0, \"ticks\": \"\"}}, \"type\": \"scatterpolar\"}], \"scatterpolargl\": [{\"marker\": {\"colorbar\": {\"outlinewidth\": 0, \"ticks\": \"\"}}, \"type\": \"scatterpolargl\"}], \"scatterternary\": [{\"marker\": {\"colorbar\": {\"outlinewidth\": 0, \"ticks\": \"\"}}, \"type\": \"scatterternary\"}], \"surface\": [{\"colorbar\": {\"outlinewidth\": 0, \"ticks\": \"\"}, \"colorscale\": [[0.0, \"#0d0887\"], [0.1111111111111111, \"#46039f\"], [0.2222222222222222, \"#7201a8\"], [0.3333333333333333, \"#9c179e\"], [0.4444444444444444, \"#bd3786\"], [0.5555555555555556, \"#d8576b\"], [0.6666666666666666, \"#ed7953\"], [0.7777777777777778, \"#fb9f3a\"], [0.8888888888888888, \"#fdca26\"], [1.0, \"#f0f921\"]], \"type\": \"surface\"}], \"table\": [{\"cells\": {\"fill\": {\"color\": \"#EBF0F8\"}, \"line\": {\"color\": \"white\"}}, \"header\": {\"fill\": {\"color\": \"#C8D4E3\"}, \"line\": {\"color\": \"white\"}}, \"type\": \"table\"}]}, \"layout\": {\"annotationdefaults\": {\"arrowcolor\": \"#2a3f5f\", \"arrowhead\": 0, \"arrowwidth\": 1}, \"autotypenumbers\": \"strict\", \"coloraxis\": {\"colorbar\": {\"outlinewidth\": 0, \"ticks\": \"\"}}, \"colorscale\": {\"diverging\": [[0, \"#8e0152\"], [0.1, \"#c51b7d\"], [0.2, \"#de77ae\"], [0.3, \"#f1b6da\"], [0.4, \"#fde0ef\"], [0.5, \"#f7f7f7\"], [0.6, \"#e6f5d0\"], [0.7, \"#b8e186\"], [0.8, \"#7fbc41\"], [0.9, \"#4d9221\"], [1, \"#276419\"]], \"sequential\": [[0.0, \"#0d0887\"], [0.1111111111111111, \"#46039f\"], [0.2222222222222222, \"#7201a8\"], [0.3333333333333333, \"#9c179e\"], [0.4444444444444444, \"#bd3786\"], [0.5555555555555556, \"#d8576b\"], [0.6666666666666666, \"#ed7953\"], [0.7777777777777778, \"#fb9f3a\"], [0.8888888888888888, \"#fdca26\"], [1.0, \"#f0f921\"]], \"sequentialminus\": [[0.0, \"#0d0887\"], [0.1111111111111111, \"#46039f\"], [0.2222222222222222, \"#7201a8\"], [0.3333333333333333, \"#9c179e\"], [0.4444444444444444, \"#bd3786\"], [0.5555555555555556, \"#d8576b\"], [0.6666666666666666, \"#ed7953\"], [0.7777777777777778, \"#fb9f3a\"], [0.8888888888888888, \"#fdca26\"], [1.0, \"#f0f921\"]]}, \"colorway\": [\"#636efa\", \"#EF553B\", \"#00cc96\", \"#ab63fa\", \"#FFA15A\", \"#19d3f3\", \"#FF6692\", \"#B6E880\", \"#FF97FF\", \"#FECB52\"], \"font\": {\"color\": \"#2a3f5f\"}, \"geo\": {\"bgcolor\": \"white\", \"lakecolor\": \"white\", \"landcolor\": \"#E5ECF6\", \"showlakes\": true, \"showland\": true, \"subunitcolor\": \"white\"}, \"hoverlabel\": {\"align\": \"left\"}, \"hovermode\": \"closest\", \"mapbox\": {\"style\": \"light\"}, \"paper_bgcolor\": \"white\", \"plot_bgcolor\": \"#E5ECF6\", \"polar\": {\"angularaxis\": {\"gridcolor\": \"white\", \"linecolor\": \"white\", \"ticks\": \"\"}, \"bgcolor\": \"#E5ECF6\", \"radialaxis\": {\"gridcolor\": \"white\", \"linecolor\": \"white\", \"ticks\": \"\"}}, \"scene\": {\"xaxis\": {\"backgroundcolor\": \"#E5ECF6\", \"gridcolor\": \"white\", \"gridwidth\": 2, \"linecolor\": \"white\", \"showbackground\": true, \"ticks\": \"\", \"zerolinecolor\": \"white\"}, \"yaxis\": {\"backgroundcolor\": \"#E5ECF6\", \"gridcolor\": \"white\", \"gridwidth\": 2, \"linecolor\": \"white\", \"showbackground\": true, \"ticks\": \"\", \"zerolinecolor\": \"white\"}, \"zaxis\": {\"backgroundcolor\": \"#E5ECF6\", \"gridcolor\": \"white\", \"gridwidth\": 2, \"linecolor\": \"white\", \"showbackground\": true, \"ticks\": \"\", \"zerolinecolor\": \"white\"}}, \"shapedefaults\": {\"line\": {\"color\": \"#2a3f5f\"}}, \"ternary\": {\"aaxis\": {\"gridcolor\": \"white\", \"linecolor\": \"white\", \"ticks\": \"\"}, \"baxis\": {\"gridcolor\": \"white\", \"linecolor\": \"white\", \"ticks\": \"\"}, \"bgcolor\": \"#E5ECF6\", \"caxis\": {\"gridcolor\": \"white\", \"linecolor\": \"white\", \"ticks\": \"\"}}, \"title\": {\"x\": 0.05}, \"xaxis\": {\"automargin\": true, \"gridcolor\": \"white\", \"linecolor\": \"white\", \"ticks\": \"\", \"title\": {\"standoff\": 15}, \"zerolinecolor\": \"white\", \"zerolinewidth\": 2}, \"yaxis\": {\"automargin\": true, \"gridcolor\": \"white\", \"linecolor\": \"white\", \"ticks\": \"\", \"title\": {\"standoff\": 15}, \"zerolinecolor\": \"white\", \"zerolinewidth\": 2}}}, \"width\": 800},                        {\"responsive\": true}                    ).then(function(){\n",
       "                            \n",
       "var gd = document.getElementById('692754cb-a941-460d-bbfe-907e42701101');\n",
       "var x = new MutationObserver(function (mutations, observer) {{\n",
       "        var display = window.getComputedStyle(gd).display;\n",
       "        if (!display || display === 'none') {{\n",
       "            console.log([gd, 'removed!']);\n",
       "            Plotly.purge(gd);\n",
       "            observer.disconnect();\n",
       "        }}\n",
       "}});\n",
       "\n",
       "// Listen for the removal of the full notebook cells\n",
       "var notebookContainer = gd.closest('#notebook-container');\n",
       "if (notebookContainer) {{\n",
       "    x.observe(notebookContainer, {childList: true});\n",
       "}}\n",
       "\n",
       "// Listen for the clearing of the current output cell\n",
       "var outputEl = gd.closest('.output');\n",
       "if (outputEl) {{\n",
       "    x.observe(outputEl, {childList: true});\n",
       "}}\n",
       "\n",
       "                        })                };                });            </script>        </div>"
      ]
     },
     "metadata": {},
     "output_type": "display_data"
    }
   ],
   "source": [
    "# Create a 3D-Scatter with the PCA data and the clusters\n",
    "fig = px.scatter_3d(\n",
    "    clustered_df,\n",
    "    x=\"PC3\",\n",
    "    y=\"PC2\",\n",
    "    z=\"PC1\",\n",
    "    color=\"Class\",\n",
    "    symbol=\"Class\",\n",
    "    width=800,\n",
    "    hover_name=\"CoinName\",\n",
    "    hover_data=[\"Algorithm\"]\n",
    ")\n",
    "fig.update_layout(legend=dict(x=0, y=1))\n",
    "fig.show()"
   ]
  },
  {
   "cell_type": "markdown",
   "metadata": {},
   "source": [
    "#### Table of Tradable Cryptocurrencies"
   ]
  },
  {
   "cell_type": "code",
   "execution_count": 78,
   "metadata": {},
   "outputs": [
    {
     "data": {},
     "metadata": {},
     "output_type": "display_data"
    },
    {
     "data": {
      "application/vnd.holoviews_exec.v0+json": "",
      "text/html": [
       "<div id='2692'>\n",
       "\n",
       "\n",
       "\n",
       "\n",
       "\n",
       "  <div class=\"bk-root\" id=\"dd003cba-ec75-407d-836d-db11e4ac39dc\" data-root-id=\"2692\"></div>\n",
       "</div>\n",
       "<script type=\"application/javascript\">(function(root) {\n",
       "  function embed_document(root) {\n",
       "    var docs_json = {\"4360b690-d3c4-4b0d-8586-90d249c3dac5\":{\"roots\":{\"references\":[{\"attributes\":{},\"id\":\"2717\",\"type\":\"NumberEditor\"},{\"attributes\":{\"margin\":[5,5,5,5],\"name\":\"HSpacer05467\",\"sizing_mode\":\"stretch_width\"},\"id\":\"2693\",\"type\":\"Spacer\"},{\"attributes\":{},\"id\":\"2706\",\"type\":\"StringFormatter\"},{\"attributes\":{},\"id\":\"2701\",\"type\":\"StringFormatter\"},{\"attributes\":{\"editor\":{\"id\":\"2702\"},\"field\":\"Algorithm\",\"formatter\":{\"id\":\"2701\"},\"title\":\"Algorithm\"},\"id\":\"2703\",\"type\":\"TableColumn\"},{\"attributes\":{\"data\":{\"Algorithm\":[\"Scrypt\",\"Scrypt\",\"X13\",\"SHA-256\",\"Ethash\",\"Scrypt\",\"X11\",\"CryptoNight-V7\",\"Ethash\",\"Equihash\",\"SHA-512\",\"Multiple\",\"SHA-256\",\"SHA-256\",\"Scrypt\",\"X15\",\"X11\",\"Scrypt\",\"Scrypt\",\"Scrypt\",\"Multiple\",\"Scrypt\",\"SHA-256\",\"Scrypt\",\"Scrypt\",\"Scrypt\",\"Quark\",\"Groestl\",\"Scrypt\",\"Scrypt\",\"Scrypt\",\"Scrypt\",\"Scrypt\",\"X11\",\"Scrypt\",\"Groestl\",\"Multiple\",\"SHA-256\",\"Scrypt\",\"Scrypt\",\"Scrypt\",\"Scrypt\",\"PoS\",\"Scrypt\",\"Scrypt\",\"NeoScrypt\",\"Scrypt\",\"Scrypt\",\"Scrypt\",\"Scrypt\",\"X11\",\"Scrypt\",\"X11\",\"SHA-256\",\"Scrypt\",\"Scrypt\",\"Scrypt\",\"SHA3\",\"Scrypt\",\"HybridScryptHash256\",\"Scrypt\",\"Scrypt\",\"SHA-256\",\"Scrypt\",\"X13\",\"Scrypt\",\"SHA-256\",\"Scrypt\",\"X13\",\"NeoScrypt\",\"Scrypt\",\"Scrypt\",\"Scrypt\",\"Scrypt\",\"Scrypt\",\"Scrypt\",\"X11\",\"X11\",\"SHA-256\",\"Multiple\",\"SHA-256\",\"PHI1612\",\"X11\",\"SHA-256\",\"SHA-256\",\"SHA-256\",\"X11\",\"Scrypt\",\"Scrypt\",\"Scrypt\",\"Scrypt\",\"Lyra2REv2\",\"Scrypt\",\"X11\",\"Multiple\",\"SHA-256\",\"X13\",\"Scrypt\",\"CryptoNight\",\"CryptoNight\",\"Shabal256\",\"Counterparty\",\"Scrypt\",\"SHA-256\",\"Groestl\",\"Scrypt\",\"Scrypt\",\"Scrypt\",\"X13\",\"Scrypt\",\"Scrypt\",\"Scrypt\",\"Scrypt\",\"X13\",\"Scrypt\",\"Stanford Folding\",\"X11\",\"Multiple\",\"QuBit\",\"Scrypt\",\"Scrypt\",\"Scrypt\",\"M7 POW\",\"Scrypt\",\"SHA-256\",\"Scrypt\",\"X11\",\"SHA3\",\"X11\",\"Lyra2RE\",\"SHA-256\",\"QUAIT\",\"X11\",\"X11\",\"Scrypt\",\"Scrypt\",\"Scrypt\",\"Ethash\",\"X13\",\"Blake2b\",\"SHA-256\",\"X15\",\"X11\",\"SHA-256\",\"BLAKE256\",\"Scrypt\",\"1GB AES Pattern Search\",\"SHA-256\",\"X11\",\"Scrypt\",\"SHA-256\",\"SHA-256\",\"NIST5\",\"Scrypt\",\"Scrypt\",\"X11\",\"Dagger\",\"Scrypt\",\"X11GOST\",\"X11\",\"Scrypt\",\"SHA-256\",\"Scrypt\",\"PoS\",\"Scrypt\",\"X11\",\"X11\",\"SHA-256\",\"SHA-256\",\"NIST5\",\"X11\",\"Scrypt\",\"POS 3.0\",\"Scrypt\",\"Scrypt\",\"Scrypt\",\"X13\",\"X11\",\"X11\",\"Equihash\",\"X11\",\"Scrypt\",\"CryptoNight\",\"SHA-256\",\"SHA-256\",\"X11\",\"Scrypt\",\"Multiple\",\"Scrypt\",\"Scrypt\",\"Scrypt\",\"SHA-256\",\"Scrypt\",\"Scrypt\",\"SHA-256D\",\"PoS\",\"Scrypt\",\"X11\",\"Lyra2Z\",\"PoS\",\"X13\",\"X14\",\"PoS\",\"SHA-256D\",\"Ethash\",\"Equihash\",\"DPoS\",\"X11\",\"Scrypt\",\"X11\",\"X13\",\"X11\",\"PoS\",\"Scrypt\",\"Scrypt\",\"X11\",\"PoS\",\"X11\",\"SHA-256\",\"Scrypt\",\"X11\",\"Scrypt\",\"Scrypt\",\"X11\",\"CryptoNight\",\"Scrypt\",\"Scrypt\",\"Scrypt\",\"Scrypt\",\"Quark\",\"QuBit\",\"Scrypt\",\"CryptoNight\",\"Lyra2RE\",\"Scrypt\",\"SHA-256\",\"X11\",\"Scrypt\",\"X11\",\"Scrypt\",\"CryptoNight-V7\",\"Scrypt\",\"Scrypt\",\"Scrypt\",\"X13\",\"X11\",\"Equihash\",\"Scrypt\",\"Scrypt\",\"Lyra2RE\",\"Scrypt\",\"Dagger-Hashimoto\",\"X11\",\"Blake2S\",\"X11\",\"Scrypt\",\"PoS\",\"X11\",\"NIST5\",\"PoS\",\"X11\",\"Scrypt\",\"Scrypt\",\"Scrypt\",\"SHA-256\",\"X11\",\"Scrypt\",\"Scrypt\",\"SHA-256\",\"PoS\",\"Scrypt\",\"X15\",\"SHA-256\",\"Scrypt\",\"POS 3.0\",\"CryptoNight-V7\",\"536\",\"Argon2d\",\"Blake2b\",\"Cloverhash\",\"CryptoNight\",\"NIST5\",\"X11\",\"NIST5\",\"Skein\",\"Scrypt\",\"X13\",\"Scrypt\",\"X11\",\"X11\",\"Scrypt\",\"CryptoNight\",\"X13\",\"Time Travel\",\"Scrypt\",\"Keccak\",\"SkunkHash v2 Raptor\",\"X11\",\"Skein\",\"SHA-256\",\"X11\",\"Scrypt\",\"VeChainThor Authority\",\"Scrypt\",\"PoS\",\"Scrypt\",\"Scrypt\",\"Scrypt\",\"Scrypt\",\"Scrypt\",\"Scrypt\",\"Scrypt\",\"CryptoNight\",\"SHA-512\",\"Ouroboros\",\"X11\",\"Equihash\",\"NeoScrypt\",\"X11\",\"Scrypt\",\"NeoScrypt\",\"Lyra2REv2\",\"Equihash\",\"Scrypt\",\"SHA-256\",\"NIST5\",\"PHI1612\",\"Dagger\",\"Scrypt\",\"Quark\",\"Scrypt\",\"POS 2.0\",\"Scrypt\",\"SHA-256\",\"X11\",\"NeoScrypt\",\"Ethash\",\"NeoScrypt\",\"X11\",\"DPoS\",\"NIST5\",\"X13\",\"Multiple\",\"Scrypt\",\"CryptoNight\",\"CryptoNight\",\"Ethash\",\"NIST5\",\"Quark\",\"X11\",\"CryptoNight-V7\",\"Scrypt\",\"Scrypt\",\"Scrypt\",\"X11\",\"BLAKE256\",\"X11\",\"NeoScrypt\",\"Quark\",\"NeoScrypt\",\"Scrypt\",\"Scrypt\",\"Scrypt\",\"X11\",\"X11\",\"SHA-256\",\"C11\",\"POS 3.0\",\"Ethash\",\"Scrypt\",\"CryptoNight\",\"SkunkHash\",\"Scrypt\",\"CryptoNight\",\"Scrypt\",\"Dagger\",\"Lyra2REv2\",\"X13\",\"Proof-of-BibleHash\",\"SHA-256 + Hive\",\"Scrypt\",\"Scrypt\",\"X11\",\"C11\",\"Proof-of-Authority\",\"X11\",\"XEVAN\",\"Scrypt\",\"VBFT\",\"Ethash\",\"CryptoNight\",\"Scrypt\",\"IMesh\",\"NIST5\",\"Scrypt\",\"Scrypt\",\"Equihash\",\"Scrypt\",\"Lyra2Z\",\"Green Protocol\",\"PoS\",\"Scrypt\",\"Semux BFT consensus\",\"X11\",\"Quark\",\"PoS\",\"CryptoNight\",\"X16R\",\"Scrypt\",\"NIST5\",\"Lyra2RE\",\"XEVAN\",\"Tribus\",\"Scrypt\",\"Lyra2Z\",\"CryptoNight\",\"CryptoNight Heavy\",\"CryptoNight\",\"Scrypt\",\"Scrypt\",\"Jump Consistent Hash\",\"SHA-256D\",\"CryptoNight\",\"Scrypt\",\"X15\",\"Scrypt\",\"Quark\",\"SHA-256\",\"DPoS\",\"X16R\",\"HMQ1725\",\"X11\",\"X16R\",\"Quark\",\"Quark\",\"Scrypt\",\"Lyra2REv2\",\"Quark\",\"Scrypt\",\"Scrypt\",\"CryptoNight-V7\",\"Cryptonight-GPU\",\"XEVAN\",\"CryptoNight Heavy\",\"X11\",\"X11\",\"Scrypt\",\"PoS\",\"SHA-256\",\"Keccak\",\"X11\",\"X11\",\"Scrypt\",\"SHA-512\",\"X16R\",\"ECC 256K1\",\"Equihash\",\"XEVAN\",\"Lyra2Z\",\"SHA-256\",\"XEVAN\",\"X11\",\"CryptoNight\",\"Quark\",\"Blake\",\"Blake\",\"Equihash\",\"Exosis\",\"Scrypt\",\"Scrypt\",\"Equihash\",\"Quark\",\"Equihash\",\"Quark\",\"Scrypt\",\"QuBit\",\"X11\",\"Scrypt\",\"XEVAN\",\"SHA-256D\",\"X11\",\"SHA-256\",\"X13\",\"SHA-256\",\"X11\",\"DPoS\",\"Scrypt\",\"Scrypt\",\"X11\",\"NeoScrypt\",\"Scrypt\",\"Blake\",\"Scrypt\",\"SHA-256\",\"Scrypt\",\"X11\",\"Scrypt\",\"Scrypt\",\"SHA-256\",\"X11\",\"SHA-256\",\"Scrypt\",\"Scrypt\",\"Scrypt\",\"Groestl\",\"X11\",\"Scrypt\",\"PoS\",\"Scrypt\",\"Scrypt\",\"X11\",\"SHA-256\",\"DPoS\",\"Scrypt\",\"Scrypt\",\"NeoScrypt\",\"Multiple\",\"X13\",\"Equihash+Scrypt\",\"DPoS\",\"Ethash\",\"DPoS\",\"SHA-256\",\"Leased POS\",\"PoS\",\"TRC10\",\"PoS\",\"SHA-256\",\"Scrypt\",\"CryptoNight\",\"Equihash\",\"Scrypt\"],\"Class\":{\"__ndarray__\":\"AAAAAAAAAAAAAAAAAQAAAAEAAAABAAAAAAAAAAEAAAABAAAAAQAAAAAAAAABAAAAAAAAAAAAAAABAAAAAAAAAAEAAAABAAAAAAAAAAAAAAABAAAAAQAAAAEAAAABAAAAAQAAAAAAAAABAAAAAQAAAAEAAAAAAAAAAQAAAAAAAAABAAAAAQAAAAAAAAAAAAAAAQAAAAEAAAABAAAAAQAAAAEAAAABAAAAAAAAAAAAAAABAAAAAQAAAAEAAAABAAAAAQAAAAAAAAAAAAAAAQAAAAAAAAABAAAAAQAAAAEAAAABAAAAAAAAAAEAAAABAAAAAAAAAAEAAAAAAAAAAAAAAAAAAAABAAAAAQAAAAEAAAAAAAAAAAAAAAAAAAAAAAAAAAAAAAEAAAABAAAAAQAAAAAAAAAAAAAAAQAAAAAAAAABAAAAAAAAAAAAAAABAAAAAQAAAAEAAAABAAAAAAAAAAAAAAABAAAAAAAAAAEAAAABAAAAAAAAAAAAAAABAAAAAAAAAAAAAAABAAAAAQAAAAAAAAAAAAAAAQAAAAAAAAAAAAAAAQAAAAAAAAABAAAAAAAAAAEAAAAAAAAAAQAAAAAAAAAAAAAAAQAAAAEAAAAAAAAAAQAAAAEAAAABAAAAAAAAAAEAAAABAAAAAQAAAAEAAAABAAAAAAAAAAAAAAABAAAAAQAAAAEAAAAAAAAAAQAAAAAAAAABAAAAAQAAAAAAAAABAAAAAAAAAAEAAAAAAAAAAAAAAAEAAAABAAAAAAAAAAEAAAABAAAAAAAAAAAAAAABAAAAAAAAAAEAAAAAAAAAAAAAAAAAAAABAAAAAQAAAAEAAAABAAAAAAAAAAAAAAAAAAAAAAAAAAAAAAABAAAAAQAAAAAAAAAAAAAAAAAAAAAAAAAAAAAAAQAAAAAAAAAAAAAAAAAAAAAAAAAAAAAAAQAAAAAAAAABAAAAAAAAAAAAAAABAAAAAAAAAAEAAAAAAAAAAAAAAAEAAAAAAAAAAQAAAAAAAAABAAAAAAAAAAEAAAAAAAAAAAAAAAAAAAAAAAAAAQAAAAAAAAAAAAAAAAAAAAAAAAAAAAAAAQAAAAEAAAAAAAAAAAAAAAEAAAABAAAAAAAAAAAAAAAAAAAAAAAAAAAAAAABAAAAAAAAAAAAAAAAAAAAAAAAAAAAAAAAAAAAAAAAAAAAAAABAAAAAAAAAAAAAAAAAAAAAAAAAAAAAAAAAAAAAQAAAAEAAAABAAAAAAAAAAAAAAAAAAAAAAAAAAEAAAAAAAAAAQAAAAAAAAAAAAAAAQAAAAAAAAABAAAAAQAAAAAAAAABAAAAAQAAAAAAAAABAAAAAAAAAAAAAAAAAAAAAQAAAAAAAAAAAAAAAQAAAAAAAAAAAAAAAAAAAAAAAAAAAAAAAAAAAAAAAAABAAAAAAAAAAEAAAAAAAAAAAAAAAAAAAAAAAAAAQAAAAAAAAABAAAAAAAAAAEAAAABAAAAAQAAAAEAAAAAAAAAAQAAAAAAAAAAAAAAAQAAAAAAAAABAAAAAQAAAAEAAAAAAAAAAQAAAAAAAAABAAAAAQAAAAEAAAAAAAAAAQAAAAAAAAABAAAAAAAAAAAAAAAAAAAAAQAAAAAAAAABAAAAAQAAAAEAAAABAAAAAQAAAAAAAAAAAAAAAQAAAAAAAAAAAAAAAAAAAAEAAAAAAAAAAQAAAAAAAAABAAAAAAAAAAEAAAAAAAAAAAAAAAAAAAAAAAAAAQAAAAAAAAAAAAAAAQAAAAAAAAAAAAAAAAAAAAEAAAABAAAAAQAAAAEAAAAAAAAAAAAAAAAAAAAAAAAAAQAAAAAAAAABAAAAAQAAAAEAAAAAAAAAAAAAAAEAAAABAAAAAAAAAAAAAAABAAAAAAAAAAEAAAABAAAAAQAAAAAAAAABAAAAAQAAAAAAAAAAAAAAAAAAAAEAAAABAAAAAQAAAAAAAAABAAAAAAAAAAEAAAABAAAAAAAAAAEAAAABAAAAAQAAAAEAAAAAAAAAAwAAAAMAAAABAAAAAQAAAAEAAAAAAAAAAwAAAAAAAAAAAAAAAAAAAAAAAAABAAAAAQAAAAEAAAABAAAAAAAAAAAAAAAAAAAAAQAAAAAAAAABAAAAAAAAAAAAAAAAAAAAAAAAAAEAAAAAAAAAAAAAAAEAAAAAAAAAAAAAAAEAAAABAAAAAAAAAAEAAAAAAAAAAQAAAAEAAAABAAAAAQAAAAAAAAAAAAAAAQAAAAAAAAABAAAAAAAAAAAAAAAAAAAAAAAAAAAAAAAAAAAAAQAAAAEAAAABAAAAAAAAAAAAAAAAAAAAAAAAAAAAAAAAAAAAAQAAAAAAAAABAAAAAQAAAAEAAAABAAAAAAAAAAAAAAAAAAAAAAAAAAEAAAAAAAAAAAAAAAEAAAAAAAAAAAAAAAEAAAAAAAAAAQAAAAAAAAABAAAAAQAAAAAAAAAAAAAAAQAAAAAAAAABAAAAAQAAAAAAAAABAAAAAQAAAAAAAAABAAAAAAAAAAEAAAAAAAAAAAAAAAEAAAAAAAAAAAAAAAAAAAAAAAAAAAAAAAEAAAABAAAAAQAAAAAAAAAAAAAAAAAAAAEAAAAAAAAAAQAAAAAAAAABAAAAAAAAAAAAAAAAAAAAAAAAAAEAAAAAAAAAAAAAAAAAAAABAAAAAAAAAAEAAAAAAAAAAQAAAAAAAAAAAAAAAAAAAAEAAAABAAAAAAAAAAAAAAAAAAAAAAAAAAAAAAAAAAAAAQAAAAAAAAABAAAAAAAAAAEAAAAAAAAAAAAAAAMAAAAAAAAAAgAAAAAAAAAAAAAAAAAAAAEAAAABAAAAAAAAAA==\",\"dtype\":\"int32\",\"order\":\"little\",\"shape\":[532]},\"CoinName\":[\"42 Coin\",\"404Coin\",\"EliteCoin\",\"Bitcoin\",\"Ethereum\",\"Litecoin\",\"Dash\",\"Monero\",\"Ethereum Classic\",\"ZCash\",\"Bitshares\",\"DigiByte\",\"BitcoinDark\",\"PayCoin\",\"ProsperCoin\",\"KoboCoin\",\"Spreadcoin\",\"Argentum\",\"Aurora Coin\",\"BlueCoin\",\"MyriadCoin\",\"MoonCoin\",\"ZetaCoin\",\"SexCoin\",\"Quatloo\",\"EnergyCoin\",\"QuarkCoin\",\"Riecoin\",\"Digitalcoin \",\"BitBar\",\"Catcoin\",\"CryptoBullion\",\"CannaCoin\",\"CryptCoin\",\"CasinoCoin\",\"Diamond\",\"Verge\",\"DevCoin\",\"EarthCoin\",\"E-Gulden\",\"Einsteinium\",\"Emerald\",\"Exclusive Coin\",\"FlutterCoin\",\"Franko\",\"FeatherCoin\",\"GrandCoin\",\"GlobalCoin\",\"GoldCoin\",\"HoboNickels\",\"HyperStake\",\"Infinite Coin\",\"IOCoin\",\"IXcoin\",\"KrugerCoin\",\"LuckyCoin\",\"Litebar \",\"MaxCoin\",\"MegaCoin\",\"MediterraneanCoin\",\"MintCoin\",\"MinCoin\",\"MazaCoin\",\"Nautilus Coin\",\"NavCoin\",\"NobleCoin\",\"Namecoin\",\"NyanCoin\",\"OpalCoin\",\"Orbitcoin\",\"PotCoin\",\"PhoenixCoin\",\"Reddcoin\",\"RonPaulCoin\",\"StableCoin\",\"SmartCoin\",\"SuperCoin\",\"SyncCoin\",\"SysCoin\",\"TeslaCoin\",\"TigerCoin\",\"TittieCoin\",\"TorCoin\",\"TerraCoin\",\"UnbreakableCoin\",\"Unobtanium\",\"UroCoin\",\"UnitaryStatus Dollar\",\"UltraCoin\",\"ViaCoin\",\"VeriCoin\",\"Vertcoin\",\"WorldCoin\",\"X11 Coin\",\"Crypti\",\"JouleCoin\",\"StealthCoin\",\"ZCC Coin\",\"ByteCoin\",\"DigitalNote \",\"BurstCoin\",\"StorjCoin\",\"MonaCoin\",\"Neutron\",\"FairCoin\",\"Gulden\",\"RubyCoin\",\"PesetaCoin\",\"Kore\",\"Wild Beast Coin\",\"Dnotes\",\"Flo\",\"8BIT Coin\",\"Sativa Coin\",\"ArtByte\",\"Folding Coin\",\"Ucoin\",\"Unitus\",\"CypherPunkCoin\",\"OmniCron\",\"Vtorrent\",\"GreenCoin\",\"Cryptonite\",\"MasterCoin\",\"SoonCoin\",\"1Credit\",\"IslaCoin\",\"Nexus\",\"MarsCoin \",\"Crypto\",\"Anarchists Prime\",\"Droidz\",\"BowsCoin\",\"Squall Coin\",\"Song Coin\",\"BitZeny\",\"Diggits\",\"Expanse\",\"Paycon\",\"Siacoin\",\"Emercoin\",\"EverGreenCoin\",\"MindCoin\",\"I0coin\",\"Decred\",\"Revolution VR\",\"HOdlcoin\",\"EDRCoin\",\"Hitcoin\",\"Gamecredits\",\"DubaiCoin\",\"CarpeDiemCoin\",\"PWR Coin\",\"BillaryCoin\",\"GPU Coin\",\"Adzcoin\",\"SoilCoin\",\"YoCoin\",\"SibCoin\",\"EuropeCoin\",\"ZeitCoin\",\"SwingCoin\",\"SafeExchangeCoin\",\"Nebuchadnezzar\",\"Francs\",\"BolivarCoin\",\"Ratecoin\",\"Revenu\",\"Clockcoin\",\"VIP Tokens\",\"BitSend\",\"Omni\",\"Let it Ride\",\"PutinCoin\",\"iBankCoin\",\"Frankywillcoin\",\"MudraCoin\",\"PizzaCoin\",\"Lutetium Coin\",\"Komodo\",\"GoldBlocks\",\"CarterCoin\",\"Karbo\",\"BitTokens\",\"ZayedCoin\",\"MustangCoin\",\"ZoneCoin\",\"Circuits of Value\",\"RootCoin\",\"DopeCoin\",\"BitCurrency\",\"DollarCoin\",\"Swiscoin\",\"Shilling\",\"BuzzCoin\",\"Opair\",\"PesoBit\",\"Halloween Coin\",\"ZCoin\",\"CoffeeCoin\",\"RoyalCoin\",\"GanjaCoin V2\",\"TeamUP\",\"LanaCoin\",\"Elementrem\",\"ZClassic\",\"ARK\",\"InsaneCoin\",\"KiloCoin\",\"ArtexCoin\",\"EmberCoin\",\"XenixCoin\",\"FreeCoin\",\"PLNCoin\",\"AquariusCoin\",\"Kurrent\",\"Creatio\",\"Eternity\",\"Eurocoin\",\"BitcoinFast\",\"Stakenet\",\"BitConnect Coin\",\"MoneyCoin\",\"Enigma\",\"Cannabis Industry Coin\",\"Russiacoin\",\"PandaCoin\",\"GameUnits\",\"GAKHcoin\",\"Allsafe\",\"LiteCreed\",\"OsmiumCoin\",\"Bikercoins\",\"HexxCoin\",\"Klingon Empire Darsek\",\"Internet of People\",\"KushCoin\",\"Printerium\",\"PacCoin\",\"Impeach\",\"Citadel\",\"Zilbercoin\",\"FirstCoin\",\"BeaverCoin\",\"FindCoin\",\"VaultCoin\",\"Zero\",\"OpenChat\",\"Canada eCoin\",\"Zoin\",\"RenosCoin\",\"DubaiCoin\",\"VirtacoinPlus\",\"TajCoin\",\"Impact\",\"EB3coin\",\"Atmos\",\"HappyCoin\",\"Coinonat\",\"MacronCoin\",\"Condensate\",\"Independent Money System\",\"ArgusCoin\",\"LomoCoin\",\"ProCurrency\",\"GoldReserve\",\"BenjiRolls\",\"GrowthCoin\",\"ILCoin\",\"Phreak\",\"Degas Coin\",\"HTML5 Coin\",\"Ultimate Secure Cash\",\"EquiTrader\",\"QTUM\",\"Quantum Resistant Ledger\",\"Espers\",\"Dynamic\",\"Nano\",\"ChanCoin\",\"Dinastycoin\",\"Denarius\",\"DigitalPrice\",\"Virta Unique Coin\",\"Bitcoin Planet\",\"Unify\",\"BritCoin\",\"SocialCoin\",\"ArcticCoin\",\"DAS\",\"Linda\",\"LeviarCoin\",\"DeepOnion\",\"Bitcore\",\"gCn Coin\",\"SmartCash\",\"Signatum\",\"Onix\",\"Cream\",\"Bitcoin Cash\",\"Monoeci\",\"Draftcoin\",\"Vechain\",\"Sojourn Coin\",\"Stakecoin\",\"NewYorkCoin\",\"FrazCoin\",\"Kronecoin\",\"AdCoin\",\"Linx\",\"CoinonatX\",\"Ethereum Dark\",\"Sumokoin\",\"Obsidian\",\"Cardano\",\"Regalcoin\",\"BitcoinZ\",\"TrezarCoin\",\"Elements\",\"TerraNovaCoin\",\"VIVO Coin\",\"Rupee\",\"Bitcoin Gold\",\"WomenCoin\",\"Theresa May Coin\",\"NamoCoin\",\"LUXCoin\",\"Pirl\",\"Xios\",\"Bitcloud 2.0\",\"eBoost\",\"KekCoin\",\"BlackholeCoin\",\"Infinity Economics\",\"Pura\",\"Innova\",\"Ellaism\",\"GoByte\",\"Magnet\",\"Lamden Tau\",\"Electra\",\"Bitcoin Diamond\",\"SHIELD\",\"Cash & Back Coin\",\"UltraNote\",\"BitCoal\",\"DaxxCoin\",\"Bulwark\",\"Kalkulus\",\"AC3\",\"Lethean\",\"GermanCoin\",\"LiteCoin Ultra\",\"PopularCoin\",\"PhantomX\",\"Photon\",\"Sucre\",\"SparksPay\",\"Digiwage\",\"GunCoin\",\"IrishCoin\",\"Trollcoin\",\"Litecoin Plus\",\"Monkey Project\",\"Pioneer Coin\",\"UnitedBitcoin\",\"Interzone\",\"TokenPay\",\"1717 Masonic Commemorative Token\",\"My Big Coin\",\"TurtleCoin\",\"MUNcoin\",\"Unified Society USDEX\",\"Niobio Cash\",\"ShareChain\",\"Travelflex\",\"KREDS\",\"Tokyo Coin\",\"BiblePay\",\"LitecoinCash\",\"BitFlip\",\"LottoCoin\",\"Crypto Improvement Fund\",\"Stipend\",\"Poa Network\",\"Pushi\",\"Ellerium\",\"Velox\",\"Ontology\",\"Callisto Network\",\"BitTube\",\"Poseidon\",\"Aidos Kuneen\",\"Bitspace\",\"Briacoin\",\"Ignition\",\"Bitrolium\",\"MedicCoin\",\"Alpenschillling\",\"Bitcoin Green\",\"Deviant Coin\",\"Abjcoin\",\"Semux\",\"FuturoCoin\",\"Carebit\",\"Zealium\",\"Monero Classic\",\"Proton\",\"iDealCash\",\"Jumpcoin\",\"Infinex\",\"Bitcoin Incognito\",\"KEYCO\",\"HollyWoodCoin\",\"GINcoin\",\"PlatinCoin\",\"Loki\",\"Newton Coin\",\"Swisscoin\",\"Xt3ch\",\"MassGrid\",\"TheVig\",\"PluraCoin\",\"EmaratCoin\",\"Dekado\",\"Lynx\",\"Poseidon Quark\",\"BitcoinWSpectrum\",\"Muse\",\"Motion\",\"PlusOneCoin\",\"Axe\",\"Trivechain\",\"Dystem\",\"Giant\",\"Peony Coin\",\"Absolute Coin\",\"Vitae\",\"HexCoin\",\"TPCash\",\"Webchain\",\"Ryo\",\"Urals Coin\",\"Qwertycoin\",\"ARENON\",\"EUNO\",\"MMOCoin\",\"Ketan\",\"Project Pai\",\"XDNA\",\"PAXEX\",\"Azart\",\"ThunderStake\",\"Kcash\",\"Xchange\",\"Acute Angle Cloud\",\"CrypticCoin\",\"Bettex coin\",\"Actinium\",\"Bitcoin SV\",\"BitMoney\",\"Junson Ming Chan Coin\",\"FREDEnergy\",\"HerbCoin\",\"Universal Molecule\",\"Lithium\",\"PirateCash\",\"Exosis\",\"Block-Logic\",\"Oduwa\",\"Beam\",\"Galilel\",\"Bithereum\",\"Crypto Sports\",\"Credit\",\"SLICE\",\"Dash Platinum\",\"Nasdacoin\",\"Beetle Coin\",\"Titan Coin\",\"Award\",\"BLAST\",\"Bitcoin Rhodium\",\"GlobalToken\",\"Insane Coin\",\"ALAX\",\"LiteDoge\",\"SolarCoin\",\"TruckCoin\",\"UFO Coin\",\"OrangeCoin\",\"BlakeCoin\",\"BitstarCoin\",\"NeosCoin\",\"HyperCoin\",\"PinkCoin\",\"Crypto Escudo\",\"AudioCoin\",\"IncaKoin\",\"Piggy Coin\",\"Crown Coin\",\"Genstake\",\"SmileyCoin\",\"XiaoMiCoin\",\"Groestlcoin\",\"CapriCoin\",\" ClubCoin\",\"Radium\",\"Bata\",\"Pakcoin\",\"Creditbit \",\"OKCash\",\"Lisk\",\"HiCoin\",\"WhiteCoin\",\"FriendshipCoin\",\"JoinCoin\",\"Triangles Coin\",\"Vollar\",\"EOS\",\"Reality Clash\",\"Oxycoin\",\"TigerCash\",\"Waves\",\"Particl\",\"BitTorrent\",\"Nxt\",\"ZEPHYR\",\"Gapcoin\",\"Beldex\",\"Horizen\",\"BitcoinPlus\"],\"ProofType\":[\"PoW/PoS\",\"PoW/PoS\",\"PoW/PoS\",\"PoW\",\"PoW\",\"PoW\",\"PoW/PoS\",\"PoW\",\"PoW\",\"PoW\",\"PoS\",\"PoW\",\"PoW/PoS\",\"PoS\",\"PoW\",\"PoW/PoS\",\"PoW\",\"PoW\",\"PoW/PoS\",\"PoW/PoS\",\"PoW\",\"PoW\",\"PoW\",\"PoW\",\"PoW\",\"PoW/PoS\",\"PoW\",\"PoW\",\"PoW\",\"PoW/PoS\",\"PoW\",\"PoW/PoS\",\"PoW\",\"PoW\",\"PoC\",\"PoW/PoS\",\"PoW\",\"PoW\",\"PoW\",\"PoW\",\"PoW\",\"PoW\",\"PoS\",\"PoS/PoW/PoT\",\"PoW\",\"PoW\",\"PoW\",\"PoW\",\"PoW\",\"PoW/PoS\",\"PoS\",\"PoW\",\"PoW/PoS\",\"PoW\",\"PoW\",\"PoW\",\"PoW\",\"PoW/PoS\",\"PoW\",\"PoW\",\"PoS\",\"PoW\",\"PoW/PoS\",\"PoS\",\"PoW/PoS\",\"PoW\",\"PoW\",\"PoW\",\"PoW/PoS\",\"PoW/PoS\",\"PoW/PoS\",\"PoW/PoS\",\"PoW/PoS\",\"PoW\",\"PoW\",\"PoW\",\"PoS\",\"PoW/PoS\",\"PoW\",\"PoS\",\"PoW\",\"PoS\",\"PoW/PoS\",\"PoW\",\"PoW\",\"PoW\",\"PoW\",\"PoW/PoS\",\"PoW/PoS\",\"PoW\",\"PoST\",\"PoW\",\"PoW\",\"PoW/PoS\",\"PoS\",\"PoW\",\"PoW/PoS\",\"PoW/PoS\",\"PoW\",\"PoW\",\"PoC\",\"PoS\",\"PoW\",\"PoW/PoS\",\"PoW/PoS\",\"PoW\",\"PoS\",\"PoW\",\"PoW/PoS\",\"PoW\",\"PoS\",\"PoW\",\"PoW/PoS\",\"PoW/PoS\",\"PoW\",\"PoW\",\"PoS\",\"PoW\",\"PoW\",\"PoW\",\"PoW/PoS\",\"PoW\",\"PoW\",\"PoW\",\"PoW\",\"PoW\",\"PoW/PoS\",\"PoW/nPoS\",\"PoW\",\"PoW\",\"PoW\",\"PoW/PoS\",\"PoW\",\"PoS/PoW\",\"PoW\",\"PoW\",\"PoS\",\"PoW\",\"PoW/PoS\",\"PoW\",\"PoW/PoS\",\"PoW/PoS\",\"PoW\",\"PoW\",\"PoW/PoS\",\"PoW\",\"PoW\",\"PoW/PoS\",\"PoW/PoS\",\"PoW\",\"PoW/PoS\",\"PoW\",\"PoW/PoS\",\"PoW/PoS\",\"PoS\",\"PoW\",\"PoW\",\"PoW\",\"PoW\",\"PoW/PoS\",\"PoS\",\"PoW/PoS\",\"PoC\",\"PoS\",\"PoW\",\"PoW\",\"PoW/PoS\",\"PoW/PoS\",\"PoW/PoS\",\"PoW/PoS\",\"PoW/PoS\",\"PoW\",\"PoS\",\"PoW/PoS\",\"PoW/PoS\",\"PoW/PoS\",\"PoS\",\"PoW\",\"PoS\",\"dPoW/PoW\",\"PoW/PoS\",\"PoW/PoS\",\"PoW\",\"PoW/PoS\",\"PoW\",\"PoW/PoS\",\"PoW/PoS\",\"PoW\",\"PoW/PoS\",\"PoW\",\"PoS\",\"PoW\",\"PoW/PoW\",\"PoW\",\"PoW/PoS\",\"PoS\",\"PoW/PoS\",\"PoW/PoS\",\"PoW\",\"PoS\",\"PoS\",\"PoW/PoS\",\"PoS\",\"PoW/PoS\",\"PoW\",\"PoW\",\"DPoS\",\"PoW/PoS\",\"PoW\",\"PoW\",\"PoW/PoS\",\"PoW/PoS\",\"PoS\",\"PoW/PoS\",\"PoW/PoS\",\"PoW\",\"PoS\",\"PoW/PoS\",\"PoW/PoS\",\"PoW/PoS\",\"TPoS\",\"PoW/PoS\",\"PoW/PoS\",\"PoW/PoS\",\"PoW\",\"PoW/PoS\",\"PoS\",\"PoW/PoS\",\"PoW/PoS\",\"PoS\",\"PoW/PoS\",\"PoW\",\"PoW\",\"PoW\",\"PoW/PoS\",\"PoW/PoS\",\"PoW/PoS\",\"PoW/PoS\",\"PoW\",\"PoW/PoS\",\"PoW\",\"PoS\",\"PoW/PoS \",\"PoW\",\"PoS\",\"PoW\",\"PoW\",\"PoW/PoS\",\"PoW\",\"PoW\",\"PoS\",\"PoW\",\"PoW/PoS\",\"PoW/PoS\",\"PoW/PoS\",\"PoW\",\"PoS\",\"PoW/PoS\",\"PoW\",\"PoS\",\"PoW/PoS\",\"PoW/PoS\",\"PoW/PoS\",\"PoW/PoS\",\"PoS\",\"PoW/PoS\",\"PoW\",\"PoS\",\"PoW\",\"PoS\",\"PoW/PoS\",\"PoW/PoS\",\"PoS\",\"PoW\",\"PoS\",\"PoW\",\"PoW/PoS\",\"PoW\",\"PoW\",\"PoW\",\"PoW\",\"PoW/PoS\",\"PoW\",\"PoW/PoS\",\"PoW/PoS\",\"PoW\",\"PoW/PoS\",\"PoW\",\"PoW\",\"PoW\",\"PoW/PoS\",\"PoW\",\"PoW/PoS\",\"PoW\",\"PoW\",\"PoW\",\"PoS\",\"PoW\",\"PoW/PoS\",\"PoW\",\"PoW/PoS\",\"PoS\",\"Proof of Authority\",\"PoW\",\"PoS\",\"PoW\",\"PoW\",\"PoW\",\"PoW\",\"PoW\",\"PoW/PoS\",\"PoW/PoS\",\"PoW\",\"PoS\",\"PoS\",\"PoW/PoS\",\"PoW\",\"PoW/PoS\",\"PoW\",\"PoW/PoS\",\"PoW\",\"PoS\",\"PoW\",\"PoW/PoS\",\"PoW/PoS\",\"PoW/PoS\",\"PoW/PoS\",\"PoW\",\"PoW/PoS\",\"PoW/PoS\",\"PoW\",\"PoS\",\"PoW/PoS\",\"PoS\",\"PoW\",\"PoW\",\"PoW\",\"PoW\",\"PoW/PoS\",\"DPoS\",\"PoW/PoS\",\"PoW/PoS\",\"PoW\",\"PoW/PoS\",\"PoW\",\"PoW\",\"PoW\",\"PoS\",\"PoS\",\"PoW\",\"PoW\",\"PoW/PoS\",\"PoW/PoS\",\"PoW\",\"PoW/PoS\",\"PoW\",\"PoW\",\"PoW\",\"PoS\",\"PoW\",\"PoW\",\"PoW/PoS\",\"PoW/PoS\",\"PoS\",\"PoW\",\"PoW\",\"PoW\",\"PoS\",\"PoS\",\"PoW and PoS\",\"PoW\",\"PoW\",\"PoW/PoS\",\"PoW\",\"PoW\",\"PoW\",\"PoW\",\"PoS\",\"POBh\",\"PoW + Hive\",\"PoW\",\"PoW\",\"PoW\",\"PoW/PoS\",\"PoA\",\"PoW/PoS\",\"PoW/PoS\",\"PoS\",\"PoS\",\"PoW\",\"PoW\",\"PoW\",\"PoW\",\"PoW/PoS\",\"PoW/PoS\",\"PoW/PoS\",\"PoW\",\"PoS\",\"PoW\",\"PoS\",\"PoS\",\"PoW/PoS\",\"DPoS\",\"PoW\",\"PoW/PoS\",\"PoS\",\"PoW\",\"PoS\",\"PoW/PoS\",\"PoW\",\"PoW\",\"PoS/PoW\",\"PoW\",\"PoS\",\"PoW\",\"PoW\",\"PoW\",\"PoW\",\"PoW/PoS\",\"PoS\",\"PoW\",\"PoW/PoS\",\"PoW\",\"PoW/PoS\",\"PoS\",\"HPoW\",\"PoS\",\"PoS\",\"PoS\",\"PoW\",\"PoW\",\"PoW\",\"PoW/PoS\",\"PoS\",\"PoW/PoS\",\"PoS\",\"PoW/PoS\",\"PoS\",\"PoW\",\"PoW/PoS\",\"PoW\",\"PoW\",\"PoW\",\"PoW\",\"PoS\",\"PoW/PoS\",\"PoS\",\"PoS\",\"PoW\",\"PoW/PoS\",\"PoS\",\"PoW\",\"PoW/PoS\",\"Zero-Knowledge Proof\",\"PoW\",\"DPOS\",\"PoW\",\"PoS\",\"PoW\",\"PoW\",\"Pos\",\"PoS\",\"PoW\",\"PoW/PoS\",\"PoW\",\"PoW\",\"PoS\",\"PoW\",\"PoW\",\"PoW/PoS\",\"PoW\",\"PoW/PoS\",\"PoW\",\"PoS\",\"PoW/PoS\",\"PoW\",\"PoS\",\"PoW/PoS\",\"PoW/PoS\",\"PoW/PoS\",\"PoW/PoS\",\"PoW\",\"PoW\",\"PoW\",\"PoW/PoS\",\"DPoS\",\"PoW/PoS\",\"PoW\",\"PoW/PoS\",\"PoW\",\"PoW/PoS\",\"PoW\",\"PoW/PoS\",\"PoS\",\"PoW/PoS\",\"PoW/PoS\",\"PoW\",\"PoW/PoS\",\"PoW/PoS\",\"PoW/PoS\",\"PoW\",\"PoW/PoS\",\"PoW\",\"PoW/PoS\",\"PoW\",\"PoW/PoS\",\"PoW/PoS\",\"PoS\",\"PoW\",\"PoW\",\"Proof of Trust\",\"PoW/PoS\",\"DPoS\",\"PoS\",\"PoW/PoS\",\"PoW/PoS\",\"PoW\",\"PoW/PoS\",\"PoW\",\"DPoS\",\"PoW\",\"DPoS\",\"PoS\",\"LPoS\",\"PoS\",\"DPoS\",\"PoS/LPoS\",\"DPoS\",\"PoW/PoS\",\"PoW\",\"PoW\",\"PoS\"],\"TotalCoinSupply\":[\"42\",\"532000000\",\"314159265359\",\"21000000\",\"0\",\"84000000\",\"22000000\",\"0\",\"210000000\",\"21000000\",\"3600570502\",\"21000000000\",\"22000000\",\"12500000\",\"21000000\",\"350000000\",\"20000000\",\"64000000\",\"16768584\",\"0\",\"2000000000\",\"384000000000\",\"169795588\",\"250000000\",\"100000000\",\"0\",\"247000000\",\"84000000\",\"48166000\",\"500000\",\"21000000 \",\"1000000\",\"13140000\",\"18000000\",\"40000000000\",\"4380000\",\"16555000000\",\"21000000000\",\"13500000000\",\"21000000 \",\"299792458\",\"32000000\",\"0\",\"0\",\"11235813\",\"336000000\",\"1420609614\",\"70000000\",\"72245700\",\"120000000\",\"0\",\"90600000000\",\"22000000\",\"21000000\",\"265420800\",\"20000000\",\"1350000\",\"100000000\",\"42000000\",\"200000000\",\"0\",\"10000000\",\"2419200000\",\"16180000\",\"0\",\"15000000000\",\"21000000\",\"337000000\",\"0\",\"3770000\",\"420000000\",\"98000000\",\"0\",\"21000000\",\"250000000\",\"51200000\",\"0\",\"1000\",\"888000000\",\"100000000\",\"47011968\",\"2300000000\",\"10000000\",\"42000000\",\"80000000\",\"250000\",\"0\",\"1600000000\",\"100000000\",\"23000000\",\"0\",\"84000000\",\"265420800\",\"5500000\",\"0\",\"45000000\",\"0\",\"1000000000\",\"184467440735\",\"10000000000\",\"2158812800\",\"500000000\",\"105120000\",\"68000000\",\"0\",\"1680000000\",\"0\",\"166386000\",\"12000000\",\"2628000\",\"500000000\",\"160000000\",\"0\",\"10000000\",\"1000000000\",\"1000000000\",\"20000000\",\"0\",\"0\",\"3371337\",\"20000000\",\"10000000000\",\"1840000000\",\"619478\",\"21000000\",\"92000000000\",\"0\",\"78000000\",\"33000000\",\"65789100\",\"53760000\",\"5060000\",\"21000000\",\"0\",\"210240000\",\"250000000\",\"100000000\",\"16906397\",\"50000000\",\"0\",\"1000000000\",\"26298000\",\"16000000\",\"21000000\",\"21000000\",\"210000000\",\"81962100\",\"22000000\",\"26550000000\",\"84000000\",\"10500000\",\"21626280000 \",\"0\",\"42000000\",\"221052632\",\"84000000\",\"30000000\",\"168351300\",\"24000000\",\"384000000\",\" 99000000000\",\"40000000\",\"2147483647\",\"20000000\",\"20000000\",\"25000000\",\"75000000\",\"222725000\",\"525000000\",\"90000000\",\"139000000\",\"616448\",\"33500000\",\"2000000000\",\"44333333\",\"100000000\",\"200000000\",\"25000000\",\"657000000\",\"200000000\",\"50000000\",\"90000000\",\"10000000\",\"21000000\",\"9736000\",\"3000000\",\"21000000\",\"1200000000\",\"0\",\"200000000\",\"0\",\"10638298\",\"3100000000\",\"30000000\",\"20000000000\",\"74000000\",\"0\",\"1500000000\",\"21400000\",\"39999898\",\"2500124\",\"100000000\",\"301000000\",\"7506000000\",\"26205539\",\"21000000\",\"125000000\",\"30000000\",\"10000000000\",\"500000000\",\"850000000\",\"3853326.77707314\",\"50000000\",\"38540000 \",\"42000000\",\"228000000\",\"20000000\",\"60000000\",\"20000000\",\"33000000\",\"76500000\",\"28000000\",\"650659833\",\"5000000\",\"21000000\",\"144000000\",\"32514916898\",\"13000000\",\"3315789\",\"15000000\",\"78835200\",\"2714286\",\"25000000\",\"9999999\",\"500000000\",\"21000000\",\"9354000\",\"20000000\",\"100000000000\",\"21933333\",\"185000000\",\"55000000\",\"110000000\",\"3360000\",\"14524851.4827\",\"1000000000\",\"17000000\",\"1000000000\",\"100000000 \",\"21000000\",\"34426423\",\"2232901\",\"100000000\",\"36900000\",\"110000000\",\"4000000000\",\"110290030\",\"100000000\",\"48252000\",\"400000000\",\"500000000\",\"21212121\",\"28600000\",\"1000000000\",\"75000000000\",\"40000000\",\"35520400\",\"2000000000\",\"2500000000\",\"30000000\",\"105000000\",\"90000000000\",\"200084200\",\"72000000\",\"100000000\",\"105000000\",\"50000000000\",\"0\",\"340282367\",\"30000000\",\"2000000000\",\"10000000\",\"100000000\",\"120000000\",\"100000000\",\"19276800\",\"30000000\",\" 75000000\",\"60000000\",\"18900000\",\"50000000000\",\"54000000\",\"18898187.6216583\",\"21000000\",\"200000000000\",\"5000000000\",\"137500000\",\"1100000000\",\"100000000\",\"21000000\",\"9507271\",\"17405891.19707116\",\"86712634466\",\"10500000000\",\"61599965\",\"0\",\"20000000\",\"84000000\",\"100000000\",\"100000000\",\"48252000\",\"4200000\",\"88888888\",\"91388946\",\"45000000000\",\"27000000\",\"21000000000\",\"400000000\",\"1800000000\",\"15733333\",\"27000000\",\"24000000\",\"21000000\",\"25000000000\",\"100000000\",\"1200000000\",\"60000000\",\"156306732.71\",\"21000000\",\"200000000\",\"100000000\",\"21000000\",\"14788275.991\",\"9000000000\",\"350000000\",\"45000000\",\"280000000\",\"31800000\",\"144000000\",\"500000000\",\"30000000000\",\"210000000\",\"660000000\",\"210000000\",\"85000000000\",\"12500000\",\"10000000000\",\"27716121\",\"20000000\",\"550000000\",\"999481516\",\"50000000000\",\"150000000\",\"4999999999\",\"50000000\",\" 90000000000\",\"19800000\",\"21000000\",\"120000000\",\"500000000\",\"64000000\",\"900000000\",\"4000000\",\"21000000\",\"23000000\",\"20166000\",\"23000000\",\"25000000\",\"1618033\",\"30000000\",\"1000000000000\",\"16600000\",\"232000000\",\"336000000\",\"10000000000\",\"100000000\",\"1100000000\",\"800000000\",\"5200000000\",\"840000000\",\"40000000\",\"18406979840\",\"500000000\",\"19340594\",\"252460800\",\"25000000\",\"60000000\",\"124000000\",\"1000000000\",\"6500000000\",\"1000000000\",\"21000000\",\"25000000\",\"50000000\",\"3000000\",\"5000000\",\"70000000\",\"500000000\",\"300000000\",\"21000000\",\"88000000\",\"30000000\",\"100000000\",\"100000000\",\"200000000\",\"80000000\",\"18400000\",\"45000000\",\"5121951220\",\"21000000\",\"26280000\",\"21000000\",\"18000000\",\"26000000\",\"10500000\",\"600000518\",\"150000000\",\"184000000000\",\"10200000000\",\"44000000\",\"168000000\",\"100000000\",\"1000000000\",\"84000000\",\"90000000\",\"92000000000\",\"650000000 \",\"100262205\",\"18081806 \",\"22075700\",\"21000000\",\"21000000\",\"82546564\",\"21000000\",\"5151000\",\"16880000000\",\"52500000\",\"100000000\",\"22105263\",\"1000000000\",\"1750000000\",\"88188888\",\"210000000\",\"184470000000\",\"55000000\",\"50000000\",\"260000000\",\"210000000\",\"2100000000\",\"366000000\",\"100000000\",\"25000000\",\"18000000000\",\"1000000000\",\"100000000\",\"1000000000\",\"7600000000\",\"50000000\",\"84000000\",\"21000000\",\"70000000000\",\"0\",\"8080000000\",\"54000000\",\"105120001.44\",\"25228800\",\"105000000\",\"21000000\",\"120000000\",\"21000000\",\"262800000\",\"19035999\",\"30886000\",\"13370000\",\"74800000000\",\"100000000\",\"19700000\",\"84000000\",\"500000000\",\"5000000000\",\"420000000\",\"64000000\",\"2100000\",\"168000000\",\"30000000\",\"1000000000\",\"35000000000\",\"98100000000\",\"0\",\"4000000000\",\"200000000\",\"7000000000\",\"54256119\",\"21000000\",\"0\",\"500000000\",\"1000000000\",\"10500000000\",\"190000000\",\"1000000000\",\"42000000\",\"15000000\",\"50000000000\",\"400000000\",\"105000000\",\"208000000\",\"160000000\",\"9000000\",\"5000000\",\"182000000\",\"16504333\",\"105000000\",\"159918400\",\"10008835635\",\"300000000\",\"60168145\",\"2800000\",\"120000\",\"2100000000\",\"0\",\"24487944\",\"0\",\"1000000000\",\"100000000\",\"8634140\",\"990000000000\",\"1000000000\",\"2000000000\",\"250000000\",\"1400222610\",\"21000000\",\"1000000\"],\"TotalCoinsMined\":{\"__ndarray__\":\"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\",\"dtype\":\"float64\",\"order\":\"little\",\"shape\":[532]}},\"selected\":{\"id\":\"2695\"},\"selection_policy\":{\"id\":\"2728\"}},\"id\":\"2694\",\"type\":\"ColumnDataSource\"},{\"attributes\":{},\"id\":\"2722\",\"type\":\"IntEditor\"},{\"attributes\":{},\"id\":\"2712\",\"type\":\"StringEditor\"},{\"attributes\":{},\"id\":\"2702\",\"type\":\"StringEditor\"},{\"attributes\":{},\"id\":\"2721\",\"type\":\"NumberFormatter\"},{\"attributes\":{\"editor\":{\"id\":\"2707\"},\"field\":\"ProofType\",\"formatter\":{\"id\":\"2706\"},\"title\":\"ProofType\"},\"id\":\"2708\",\"type\":\"TableColumn\"},{\"attributes\":{\"format\":\"0,0.0[00000]\"},\"id\":\"2716\",\"type\":\"NumberFormatter\"},{\"attributes\":{\"editor\":{\"id\":\"2712\"},\"field\":\"TotalCoinSupply\",\"formatter\":{\"id\":\"2711\"},\"title\":\"TotalCoinSupply\"},\"id\":\"2713\",\"type\":\"TableColumn\"},{\"attributes\":{},\"id\":\"2697\",\"type\":\"StringEditor\"},{\"attributes\":{},\"id\":\"2695\",\"type\":\"Selection\"},{\"attributes\":{\"editor\":{\"id\":\"2717\"},\"field\":\"TotalCoinsMined\",\"formatter\":{\"id\":\"2716\"},\"title\":\"TotalCoinsMined\"},\"id\":\"2718\",\"type\":\"TableColumn\"},{\"attributes\":{\"editor\":{\"id\":\"2697\"},\"field\":\"CoinName\",\"formatter\":{\"id\":\"2696\"},\"title\":\"CoinName\"},\"id\":\"2698\",\"type\":\"TableColumn\"},{\"attributes\":{\"source\":{\"id\":\"2694\"}},\"id\":\"2727\",\"type\":\"CDSView\"},{\"attributes\":{},\"id\":\"2711\",\"type\":\"StringFormatter\"},{\"attributes\":{},\"id\":\"2696\",\"type\":\"StringFormatter\"},{\"attributes\":{\"columns\":[{\"id\":\"2698\"},{\"id\":\"2703\"},{\"id\":\"2708\"},{\"id\":\"2713\"},{\"id\":\"2718\"},{\"id\":\"2723\"}],\"height\":300,\"reorderable\":false,\"source\":{\"id\":\"2694\"},\"view\":{\"id\":\"2727\"},\"width\":700},\"id\":\"2726\",\"type\":\"DataTable\"},{\"attributes\":{\"editor\":{\"id\":\"2722\"},\"field\":\"Class\",\"formatter\":{\"id\":\"2721\"},\"title\":\"Class\"},\"id\":\"2723\",\"type\":\"TableColumn\"},{\"attributes\":{\"children\":[{\"id\":\"2693\"},{\"id\":\"2726\"},{\"id\":\"2732\"}],\"margin\":[0,0,0,0],\"name\":\"Row05463\",\"tags\":[\"embedded\"]},\"id\":\"2692\",\"type\":\"Row\"},{\"attributes\":{},\"id\":\"2707\",\"type\":\"StringEditor\"},{\"attributes\":{},\"id\":\"2728\",\"type\":\"UnionRenderers\"},{\"attributes\":{\"margin\":[5,5,5,5],\"name\":\"HSpacer05468\",\"sizing_mode\":\"stretch_width\"},\"id\":\"2732\",\"type\":\"Spacer\"}],\"root_ids\":[\"2692\"]},\"title\":\"Bokeh Application\",\"version\":\"2.2.3\"}};\n",
       "    var render_items = [{\"docid\":\"4360b690-d3c4-4b0d-8586-90d249c3dac5\",\"root_ids\":[\"2692\"],\"roots\":{\"2692\":\"dd003cba-ec75-407d-836d-db11e4ac39dc\"}}];\n",
       "    root.Bokeh.embed.embed_items_notebook(docs_json, render_items);\n",
       "  }\n",
       "  if (root.Bokeh !== undefined && root.Bokeh.Panel !== undefined) {\n",
       "    embed_document(root);\n",
       "  } else {\n",
       "    var attempts = 0;\n",
       "    var timer = setInterval(function(root) {\n",
       "      if (root.Bokeh !== undefined && root.Bokeh.Panel !== undefined) {\n",
       "        clearInterval(timer);\n",
       "        embed_document(root);\n",
       "      } else if (document.readyState == \"complete\") {\n",
       "        attempts++;\n",
       "        if (attempts > 100) {\n",
       "          clearInterval(timer);\n",
       "          console.log(\"Bokeh: ERROR: Unable to run BokehJS code because BokehJS library is missing\");\n",
       "        }\n",
       "      }\n",
       "    }, 10, root)\n",
       "  }\n",
       "})(window);</script>"
      ],
      "text/plain": [
       ":Table   [CoinName,Algorithm,ProofType,TotalCoinSupply,TotalCoinsMined,Class]"
      ]
     },
     "execution_count": 78,
     "metadata": {
      "application/vnd.holoviews_exec.v0+json": {
       "id": "2692"
      }
     },
     "output_type": "execute_result"
    }
   ],
   "source": [
    "# Table with tradable cryptos\n",
    "columns = ['CoinName', 'Algorithm', 'ProofType', 'TotalCoinSupply', 'TotalCoinsMined', 'Class']\n",
    "table = clustered_df.hvplot.table(columns)\n",
    "table"
   ]
  },
  {
   "cell_type": "code",
   "execution_count": 79,
   "metadata": {},
   "outputs": [
    {
     "name": "stdout",
     "output_type": "stream",
     "text": [
      "The total number of tradable cryptocurrencies is 532\n"
     ]
    }
   ],
   "source": [
    "# Print the total number of tradable cryptocurrencies\n",
    "print(f\"The total number of tradable cryptocurrencies is {coin_name_column.count()}\")"
   ]
  },
  {
   "cell_type": "markdown",
   "metadata": {},
   "source": [
    "#### Scatter Plot with Tradable Cryptocurrencies"
   ]
  },
  {
   "cell_type": "code",
   "execution_count": 80,
   "metadata": {},
   "outputs": [],
   "source": [
    "# Scale data to create the scatter plot\n",
    "clustered_df[\"TotalCoinSupply\"]= clustered_df[\"TotalCoinSupply\"].astype(float)/10000000\n",
    "clustered_df[\"TotalCoinsMined\"]= clustered_df[\"TotalCoinsMined\"].astype(float)/10000000"
   ]
  },
  {
   "cell_type": "code",
   "execution_count": 81,
   "metadata": {},
   "outputs": [
    {
     "data": {
      "text/html": [
       "<div>\n",
       "<style scoped>\n",
       "    .dataframe tbody tr th:only-of-type {\n",
       "        vertical-align: middle;\n",
       "    }\n",
       "\n",
       "    .dataframe tbody tr th {\n",
       "        vertical-align: top;\n",
       "    }\n",
       "\n",
       "    .dataframe thead th {\n",
       "        text-align: right;\n",
       "    }\n",
       "</style>\n",
       "<table border=\"1\" class=\"dataframe\">\n",
       "  <thead>\n",
       "    <tr style=\"text-align: right;\">\n",
       "      <th></th>\n",
       "      <th>Algorithm</th>\n",
       "      <th>ProofType</th>\n",
       "      <th>TotalCoinsMined</th>\n",
       "      <th>TotalCoinSupply</th>\n",
       "      <th>PC1</th>\n",
       "      <th>PC2</th>\n",
       "      <th>PC3</th>\n",
       "      <th>CoinName</th>\n",
       "      <th>Class</th>\n",
       "    </tr>\n",
       "  </thead>\n",
       "  <tbody>\n",
       "    <tr>\n",
       "      <th>0</th>\n",
       "      <td>Scrypt</td>\n",
       "      <td>PoW/PoS</td>\n",
       "      <td>0.000004</td>\n",
       "      <td>0.000004</td>\n",
       "      <td>-0.337298</td>\n",
       "      <td>1.026822</td>\n",
       "      <td>-0.531314</td>\n",
       "      <td>42 Coin</td>\n",
       "      <td>0</td>\n",
       "    </tr>\n",
       "    <tr>\n",
       "      <th>1</th>\n",
       "      <td>Scrypt</td>\n",
       "      <td>PoW/PoS</td>\n",
       "      <td>105.518490</td>\n",
       "      <td>53.200000</td>\n",
       "      <td>-0.320645</td>\n",
       "      <td>1.026945</td>\n",
       "      <td>-0.531756</td>\n",
       "      <td>404Coin</td>\n",
       "      <td>0</td>\n",
       "    </tr>\n",
       "    <tr>\n",
       "      <th>2</th>\n",
       "      <td>X13</td>\n",
       "      <td>PoW/PoS</td>\n",
       "      <td>2927.942462</td>\n",
       "      <td>31415.926536</td>\n",
       "      <td>2.291397</td>\n",
       "      <td>1.574206</td>\n",
       "      <td>-0.595828</td>\n",
       "      <td>EliteCoin</td>\n",
       "      <td>0</td>\n",
       "    </tr>\n",
       "    <tr>\n",
       "      <th>3</th>\n",
       "      <td>SHA-256</td>\n",
       "      <td>PoW</td>\n",
       "      <td>1.792717</td>\n",
       "      <td>2.100000</td>\n",
       "      <td>-0.141201</td>\n",
       "      <td>-1.376240</td>\n",
       "      <td>0.237900</td>\n",
       "      <td>Bitcoin</td>\n",
       "      <td>1</td>\n",
       "    </tr>\n",
       "    <tr>\n",
       "      <th>4</th>\n",
       "      <td>Ethash</td>\n",
       "      <td>PoW</td>\n",
       "      <td>10.768422</td>\n",
       "      <td>0.000000</td>\n",
       "      <td>-0.150908</td>\n",
       "      <td>-2.093325</td>\n",
       "      <td>0.412457</td>\n",
       "      <td>Ethereum</td>\n",
       "      <td>1</td>\n",
       "    </tr>\n",
       "    <tr>\n",
       "      <th>...</th>\n",
       "      <td>...</td>\n",
       "      <td>...</td>\n",
       "      <td>...</td>\n",
       "      <td>...</td>\n",
       "      <td>...</td>\n",
       "      <td>...</td>\n",
       "      <td>...</td>\n",
       "      <td>...</td>\n",
       "      <td>...</td>\n",
       "    </tr>\n",
       "    <tr>\n",
       "      <th>527</th>\n",
       "      <td>SHA-256</td>\n",
       "      <td>DPoS</td>\n",
       "      <td>200.000000</td>\n",
       "      <td>200.000000</td>\n",
       "      <td>2.479460</td>\n",
       "      <td>0.783757</td>\n",
       "      <td>0.035445</td>\n",
       "      <td>ZEPHYR</td>\n",
       "      <td>0</td>\n",
       "    </tr>\n",
       "    <tr>\n",
       "      <th>528</th>\n",
       "      <td>Scrypt</td>\n",
       "      <td>PoW/PoS</td>\n",
       "      <td>1.493105</td>\n",
       "      <td>25.000000</td>\n",
       "      <td>-0.335345</td>\n",
       "      <td>1.026698</td>\n",
       "      <td>-0.531340</td>\n",
       "      <td>Gapcoin</td>\n",
       "      <td>0</td>\n",
       "    </tr>\n",
       "    <tr>\n",
       "      <th>529</th>\n",
       "      <td>CryptoNight</td>\n",
       "      <td>PoW</td>\n",
       "      <td>98.022260</td>\n",
       "      <td>140.022261</td>\n",
       "      <td>0.326342</td>\n",
       "      <td>-2.334185</td>\n",
       "      <td>0.424500</td>\n",
       "      <td>Beldex</td>\n",
       "      <td>1</td>\n",
       "    </tr>\n",
       "    <tr>\n",
       "      <th>530</th>\n",
       "      <td>Equihash</td>\n",
       "      <td>PoW</td>\n",
       "      <td>0.729654</td>\n",
       "      <td>2.100000</td>\n",
       "      <td>-0.161090</td>\n",
       "      <td>-2.041379</td>\n",
       "      <td>0.350417</td>\n",
       "      <td>Horizen</td>\n",
       "      <td>1</td>\n",
       "    </tr>\n",
       "    <tr>\n",
       "      <th>531</th>\n",
       "      <td>Scrypt</td>\n",
       "      <td>PoS</td>\n",
       "      <td>0.012833</td>\n",
       "      <td>0.100000</td>\n",
       "      <td>-0.284854</td>\n",
       "      <td>0.864455</td>\n",
       "      <td>-0.271387</td>\n",
       "      <td>BitcoinPlus</td>\n",
       "      <td>0</td>\n",
       "    </tr>\n",
       "  </tbody>\n",
       "</table>\n",
       "<p>532 rows × 9 columns</p>\n",
       "</div>"
      ],
      "text/plain": [
       "       Algorithm ProofType  TotalCoinsMined  TotalCoinSupply       PC1  \\\n",
       "0         Scrypt   PoW/PoS         0.000004         0.000004 -0.337298   \n",
       "1         Scrypt   PoW/PoS       105.518490        53.200000 -0.320645   \n",
       "2            X13   PoW/PoS      2927.942462     31415.926536  2.291397   \n",
       "3        SHA-256       PoW         1.792717         2.100000 -0.141201   \n",
       "4         Ethash       PoW        10.768422         0.000000 -0.150908   \n",
       "..           ...       ...              ...              ...       ...   \n",
       "527      SHA-256      DPoS       200.000000       200.000000  2.479460   \n",
       "528       Scrypt   PoW/PoS         1.493105        25.000000 -0.335345   \n",
       "529  CryptoNight       PoW        98.022260       140.022261  0.326342   \n",
       "530     Equihash       PoW         0.729654         2.100000 -0.161090   \n",
       "531       Scrypt       PoS         0.012833         0.100000 -0.284854   \n",
       "\n",
       "          PC2       PC3     CoinName  Class  \n",
       "0    1.026822 -0.531314      42 Coin      0  \n",
       "1    1.026945 -0.531756      404Coin      0  \n",
       "2    1.574206 -0.595828    EliteCoin      0  \n",
       "3   -1.376240  0.237900      Bitcoin      1  \n",
       "4   -2.093325  0.412457     Ethereum      1  \n",
       "..        ...       ...          ...    ...  \n",
       "527  0.783757  0.035445       ZEPHYR      0  \n",
       "528  1.026698 -0.531340      Gapcoin      0  \n",
       "529 -2.334185  0.424500       Beldex      1  \n",
       "530 -2.041379  0.350417      Horizen      1  \n",
       "531  0.864455 -0.271387  BitcoinPlus      0  \n",
       "\n",
       "[532 rows x 9 columns]"
      ]
     },
     "execution_count": 81,
     "metadata": {},
     "output_type": "execute_result"
    }
   ],
   "source": [
    "clustered_df"
   ]
  },
  {
   "cell_type": "code",
   "execution_count": 82,
   "metadata": {},
   "outputs": [
    {
     "data": {},
     "metadata": {},
     "output_type": "display_data"
    },
    {
     "data": {
      "application/vnd.holoviews_exec.v0+json": "",
      "text/html": [
       "<div id='2744'>\n",
       "\n",
       "\n",
       "\n",
       "\n",
       "\n",
       "  <div class=\"bk-root\" id=\"438867f5-c6b4-4901-b274-f5c8343ee1e3\" data-root-id=\"2744\"></div>\n",
       "</div>\n",
       "<script type=\"application/javascript\">(function(root) {\n",
       "  function embed_document(root) {\n",
       "    var docs_json = {\"64816c41-9173-4007-9f11-eff9d6ad0deb\":{\"roots\":{\"references\":[{\"attributes\":{\"data_source\":{\"id\":\"2844\"},\"glyph\":{\"id\":\"2847\"},\"hover_glyph\":null,\"muted_glyph\":{\"id\":\"2849\"},\"nonselection_glyph\":{\"id\":\"2848\"},\"selection_glyph\":null,\"view\":{\"id\":\"2851\"}},\"id\":\"2850\",\"type\":\"GlyphRenderer\"},{\"attributes\":{\"label\":{\"value\":\"0\"},\"renderers\":[{\"id\":\"2792\"}]},\"id\":\"2803\",\"type\":\"LegendItem\"},{\"attributes\":{\"data_source\":{\"id\":\"2786\"},\"glyph\":{\"id\":\"2789\"},\"hover_glyph\":null,\"muted_glyph\":{\"id\":\"2791\"},\"nonselection_glyph\":{\"id\":\"2790\"},\"selection_glyph\":null,\"view\":{\"id\":\"2793\"}},\"id\":\"2792\",\"type\":\"GlyphRenderer\"},{\"attributes\":{\"data_source\":{\"id\":\"2823\"},\"glyph\":{\"id\":\"2826\"},\"hover_glyph\":null,\"muted_glyph\":{\"id\":\"2828\"},\"nonselection_glyph\":{\"id\":\"2827\"},\"selection_glyph\":null,\"view\":{\"id\":\"2830\"}},\"id\":\"2829\",\"type\":\"GlyphRenderer\"},{\"attributes\":{\"text\":\"\",\"text_color\":{\"value\":\"black\"},\"text_font_size\":{\"value\":\"12pt\"}},\"id\":\"2753\",\"type\":\"Title\"},{\"attributes\":{\"source\":{\"id\":\"2786\"}},\"id\":\"2793\",\"type\":\"CDSView\"},{\"attributes\":{\"data\":{\"Class\":[0,0,0,0,0,0,0,0,0,0,0,0,0,0,0,0,0,0,0,0,0,0,0,0,0,0,0,0,0,0,0,0,0,0,0,0,0,0,0,0,0,0,0,0,0,0,0,0,0,0,0,0,0,0,0,0,0,0,0,0,0,0,0,0,0,0,0,0,0,0,0,0,0,0,0,0,0,0,0,0,0,0,0,0,0,0,0,0,0,0,0,0,0,0,0,0,0,0,0,0,0,0,0,0,0,0,0,0,0,0,0,0,0,0,0,0,0,0,0,0,0,0,0,0,0,0,0,0,0,0,0,0,0,0,0,0,0,0,0,0,0,0,0,0,0,0,0,0,0,0,0,0,0,0,0,0,0,0,0,0,0,0,0,0,0,0,0,0,0,0,0,0,0,0,0,0,0,0,0,0,0,0,0,0,0,0,0,0,0,0,0,0,0,0,0,0,0,0,0,0,0,0,0,0,0,0,0,0,0,0,0,0,0,0,0,0,0,0,0,0,0,0,0,0,0,0,0,0,0,0,0,0,0,0,0,0,0,0,0,0,0,0,0,0,0,0,0,0,0,0,0,0,0,0,0,0,0,0,0,0,0,0,0,0,0,0,0,0,0,0,0,0,0,0,0,0,0,0,0,0,0,0,0,0,0,0,0,0],\"CoinName\":[\"42 Coin\",\"404Coin\",\"EliteCoin\",\"Dash\",\"Bitshares\",\"BitcoinDark\",\"PayCoin\",\"KoboCoin\",\"Aurora Coin\",\"BlueCoin\",\"EnergyCoin\",\"BitBar\",\"CryptoBullion\",\"CasinoCoin\",\"Diamond\",\"Exclusive Coin\",\"FlutterCoin\",\"HoboNickels\",\"HyperStake\",\"IOCoin\",\"MaxCoin\",\"MintCoin\",\"MazaCoin\",\"Nautilus Coin\",\"NavCoin\",\"OpalCoin\",\"Orbitcoin\",\"PotCoin\",\"PhoenixCoin\",\"Reddcoin\",\"SuperCoin\",\"SyncCoin\",\"TeslaCoin\",\"TittieCoin\",\"TorCoin\",\"UnitaryStatus Dollar\",\"UltraCoin\",\"VeriCoin\",\"X11 Coin\",\"Crypti\",\"StealthCoin\",\"ZCC Coin\",\"BurstCoin\",\"StorjCoin\",\"Neutron\",\"FairCoin\",\"RubyCoin\",\"Kore\",\"Dnotes\",\"8BIT Coin\",\"Sativa Coin\",\"Ucoin\",\"Vtorrent\",\"IslaCoin\",\"Nexus\",\"Droidz\",\"Squall Coin\",\"Diggits\",\"Paycon\",\"Emercoin\",\"EverGreenCoin\",\"Decred\",\"EDRCoin\",\"Hitcoin\",\"DubaiCoin\",\"PWR Coin\",\"BillaryCoin\",\"GPU Coin\",\"EuropeCoin\",\"ZeitCoin\",\"SwingCoin\",\"SafeExchangeCoin\",\"Nebuchadnezzar\",\"Ratecoin\",\"Revenu\",\"Clockcoin\",\"VIP Tokens\",\"BitSend\",\"Let it Ride\",\"PutinCoin\",\"iBankCoin\",\"Frankywillcoin\",\"MudraCoin\",\"Lutetium Coin\",\"GoldBlocks\",\"CarterCoin\",\"BitTokens\",\"MustangCoin\",\"ZoneCoin\",\"RootCoin\",\"BitCurrency\",\"Swiscoin\",\"BuzzCoin\",\"Opair\",\"PesoBit\",\"Halloween Coin\",\"CoffeeCoin\",\"RoyalCoin\",\"GanjaCoin V2\",\"TeamUP\",\"LanaCoin\",\"ARK\",\"InsaneCoin\",\"EmberCoin\",\"XenixCoin\",\"FreeCoin\",\"PLNCoin\",\"AquariusCoin\",\"Creatio\",\"Eternity\",\"Eurocoin\",\"BitcoinFast\",\"Stakenet\",\"BitConnect Coin\",\"MoneyCoin\",\"Enigma\",\"Russiacoin\",\"PandaCoin\",\"GameUnits\",\"GAKHcoin\",\"Allsafe\",\"LiteCreed\",\"Klingon Empire Darsek\",\"Internet of People\",\"KushCoin\",\"Printerium\",\"Impeach\",\"Zilbercoin\",\"FirstCoin\",\"FindCoin\",\"OpenChat\",\"RenosCoin\",\"VirtacoinPlus\",\"TajCoin\",\"Impact\",\"Atmos\",\"HappyCoin\",\"MacronCoin\",\"Condensate\",\"Independent Money System\",\"ArgusCoin\",\"LomoCoin\",\"ProCurrency\",\"GoldReserve\",\"GrowthCoin\",\"Phreak\",\"Degas Coin\",\"HTML5 Coin\",\"Ultimate Secure Cash\",\"QTUM\",\"Espers\",\"Denarius\",\"Virta Unique Coin\",\"Bitcoin Planet\",\"BritCoin\",\"Linda\",\"DeepOnion\",\"Signatum\",\"Cream\",\"Monoeci\",\"Draftcoin\",\"Vechain\",\"Stakecoin\",\"CoinonatX\",\"Ethereum Dark\",\"Obsidian\",\"Cardano\",\"Regalcoin\",\"TrezarCoin\",\"TerraNovaCoin\",\"Rupee\",\"WomenCoin\",\"Theresa May Coin\",\"NamoCoin\",\"LUXCoin\",\"Xios\",\"Bitcloud 2.0\",\"KekCoin\",\"BlackholeCoin\",\"Infinity Economics\",\"Magnet\",\"Lamden Tau\",\"Electra\",\"Bitcoin Diamond\",\"Cash & Back Coin\",\"Bulwark\",\"Kalkulus\",\"GermanCoin\",\"LiteCoin Ultra\",\"PhantomX\",\"Digiwage\",\"Trollcoin\",\"Litecoin Plus\",\"Monkey Project\",\"TokenPay\",\"My Big Coin\",\"Unified Society USDEX\",\"Tokyo Coin\",\"Stipend\",\"Pushi\",\"Ellerium\",\"Velox\",\"Ontology\",\"Bitspace\",\"Briacoin\",\"Ignition\",\"MedicCoin\",\"Bitcoin Green\",\"Deviant Coin\",\"Abjcoin\",\"Semux\",\"Carebit\",\"Zealium\",\"Proton\",\"iDealCash\",\"Bitcoin Incognito\",\"HollyWoodCoin\",\"Swisscoin\",\"Xt3ch\",\"TheVig\",\"EmaratCoin\",\"Dekado\",\"Lynx\",\"Poseidon Quark\",\"BitcoinWSpectrum\",\"Muse\",\"Trivechain\",\"Dystem\",\"Giant\",\"Peony Coin\",\"Absolute Coin\",\"Vitae\",\"TPCash\",\"ARENON\",\"EUNO\",\"MMOCoin\",\"Ketan\",\"XDNA\",\"PAXEX\",\"ThunderStake\",\"Kcash\",\"Acute Angle Cloud\",\"Bettex coin\",\"BitMoney\",\"Junson Ming Chan Coin\",\"HerbCoin\",\"PirateCash\",\"Oduwa\",\"Galilel\",\"Crypto Sports\",\"Credit\",\"Dash Platinum\",\"Nasdacoin\",\"Beetle Coin\",\"Titan Coin\",\"Award\",\"Insane Coin\",\"ALAX\",\"LiteDoge\",\"TruckCoin\",\"OrangeCoin\",\"BitstarCoin\",\"NeosCoin\",\"HyperCoin\",\"PinkCoin\",\"AudioCoin\",\"IncaKoin\",\"Piggy Coin\",\"Genstake\",\"XiaoMiCoin\",\"CapriCoin\",\" ClubCoin\",\"Radium\",\"Creditbit \",\"OKCash\",\"Lisk\",\"HiCoin\",\"WhiteCoin\",\"FriendshipCoin\",\"Triangles Coin\",\"EOS\",\"Oxycoin\",\"TigerCash\",\"Particl\",\"Nxt\",\"ZEPHYR\",\"Gapcoin\",\"BitcoinPlus\"],\"TotalCoinSupply\":{\"__ndarray__\":\"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\",\"dtype\":\"float64\",\"order\":\"little\",\"shape\":[288]},\"TotalCoinsMined\":{\"__ndarray__\":\"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\",\"dtype\":\"float64\",\"order\":\"little\",\"shape\":[288]}},\"selected\":{\"id\":\"2787\"},\"selection_policy\":{\"id\":\"2799\"}},\"id\":\"2786\",\"type\":\"ColumnDataSource\"},{\"attributes\":{\"fill_alpha\":{\"value\":0.1},\"fill_color\":{\"value\":\"#d62628\"},\"line_alpha\":{\"value\":0.1},\"line_color\":{\"value\":\"#d62628\"},\"size\":{\"units\":\"screen\",\"value\":5.477225575051661},\"x\":{\"field\":\"TotalCoinsMined\"},\"y\":{\"field\":\"TotalCoinSupply\"}},\"id\":\"2848\",\"type\":\"Scatter\"},{\"attributes\":{\"fill_color\":{\"value\":\"#d62628\"},\"line_color\":{\"value\":\"#d62628\"},\"size\":{\"units\":\"screen\",\"value\":5.477225575051661},\"x\":{\"field\":\"TotalCoinsMined\"},\"y\":{\"field\":\"TotalCoinSupply\"}},\"id\":\"2847\",\"type\":\"Scatter\"},{\"attributes\":{\"fill_color\":{\"value\":\"#ff7e0e\"},\"line_color\":{\"value\":\"#ff7e0e\"},\"size\":{\"units\":\"screen\",\"value\":5.477225575051661},\"x\":{\"field\":\"TotalCoinsMined\"},\"y\":{\"field\":\"TotalCoinSupply\"}},\"id\":\"2807\",\"type\":\"Scatter\"},{\"attributes\":{\"fill_alpha\":{\"value\":0.2},\"fill_color\":{\"value\":\"#d62628\"},\"line_alpha\":{\"value\":0.2},\"line_color\":{\"value\":\"#d62628\"},\"size\":{\"units\":\"screen\",\"value\":5.477225575051661},\"x\":{\"field\":\"TotalCoinsMined\"},\"y\":{\"field\":\"TotalCoinSupply\"}},\"id\":\"2849\",\"type\":\"Scatter\"},{\"attributes\":{},\"id\":\"2762\",\"type\":\"BasicTicker\"},{\"attributes\":{},\"id\":\"2845\",\"type\":\"Selection\"},{\"attributes\":{\"axis\":{\"id\":\"2761\"},\"grid_line_color\":null,\"ticker\":null},\"id\":\"2764\",\"type\":\"Grid\"},{\"attributes\":{\"click_policy\":\"mute\",\"items\":[{\"id\":\"2803\"},{\"id\":\"2822\"},{\"id\":\"2843\"},{\"id\":\"2866\"}],\"location\":[0,0],\"title\":\"Class\"},\"id\":\"2802\",\"type\":\"Legend\"},{\"attributes\":{\"fill_color\":{\"value\":\"#2ba02b\"},\"line_color\":{\"value\":\"#2ba02b\"},\"size\":{\"units\":\"screen\",\"value\":5.477225575051661},\"x\":{\"field\":\"TotalCoinsMined\"},\"y\":{\"field\":\"TotalCoinSupply\"}},\"id\":\"2826\",\"type\":\"Scatter\"},{\"attributes\":{\"fill_alpha\":{\"value\":0.1},\"fill_color\":{\"value\":\"#2ba02b\"},\"line_alpha\":{\"value\":0.1},\"line_color\":{\"value\":\"#2ba02b\"},\"size\":{\"units\":\"screen\",\"value\":5.477225575051661},\"x\":{\"field\":\"TotalCoinsMined\"},\"y\":{\"field\":\"TotalCoinSupply\"}},\"id\":\"2827\",\"type\":\"Scatter\"},{\"attributes\":{\"margin\":[5,5,5,5],\"name\":\"HSpacer05665\",\"sizing_mode\":\"stretch_width\"},\"id\":\"2993\",\"type\":\"Spacer\"},{\"attributes\":{\"label\":{\"value\":\"3\"},\"renderers\":[{\"id\":\"2850\"}]},\"id\":\"2866\",\"type\":\"LegendItem\"},{\"attributes\":{},\"id\":\"2757\",\"type\":\"LinearScale\"},{\"attributes\":{\"data\":{\"Class\":[3,3,3,3],\"CoinName\":[\"BiblePay\",\"LitecoinCash\",\"Poa Network\",\"Waves\"],\"TotalCoinSupply\":{\"__ndarray__\":\"AAAAAABAgEAAAAAAAABVQB4zUBn/PjlAAAAAAAAAJEA=\",\"dtype\":\"float64\",\"order\":\"little\",\"shape\":[4]},\"TotalCoinsMined\":{\"__ndarray__\":\"mJjNZbEmZkAf/eY5S+tPQDhAetSpcjRAAAAAAAAAJEA=\",\"dtype\":\"float64\",\"order\":\"little\",\"shape\":[4]}},\"selected\":{\"id\":\"2845\"},\"selection_policy\":{\"id\":\"2863\"}},\"id\":\"2844\",\"type\":\"ColumnDataSource\"},{\"attributes\":{\"source\":{\"id\":\"2823\"}},\"id\":\"2830\",\"type\":\"CDSView\"},{\"attributes\":{},\"id\":\"2770\",\"type\":\"PanTool\"},{\"attributes\":{},\"id\":\"2824\",\"type\":\"Selection\"},{\"attributes\":{},\"id\":\"2840\",\"type\":\"UnionRenderers\"},{\"attributes\":{\"bottom_units\":\"screen\",\"fill_alpha\":0.5,\"fill_color\":\"lightgrey\",\"left_units\":\"screen\",\"level\":\"overlay\",\"line_alpha\":1.0,\"line_color\":\"black\",\"line_dash\":[4,4],\"line_width\":2,\"right_units\":\"screen\",\"top_units\":\"screen\"},\"id\":\"2774\",\"type\":\"BoxAnnotation\"},{\"attributes\":{\"fill_alpha\":{\"value\":0.2},\"fill_color\":{\"value\":\"#2ba02b\"},\"line_alpha\":{\"value\":0.2},\"line_color\":{\"value\":\"#2ba02b\"},\"size\":{\"units\":\"screen\",\"value\":5.477225575051661},\"x\":{\"field\":\"TotalCoinsMined\"},\"y\":{\"field\":\"TotalCoinSupply\"}},\"id\":\"2828\",\"type\":\"Scatter\"},{\"attributes\":{\"data_source\":{\"id\":\"2804\"},\"glyph\":{\"id\":\"2807\"},\"hover_glyph\":null,\"muted_glyph\":{\"id\":\"2809\"},\"nonselection_glyph\":{\"id\":\"2808\"},\"selection_glyph\":null,\"view\":{\"id\":\"2811\"}},\"id\":\"2810\",\"type\":\"GlyphRenderer\"},{\"attributes\":{},\"id\":\"2805\",\"type\":\"Selection\"},{\"attributes\":{},\"id\":\"2771\",\"type\":\"WheelZoomTool\"},{\"attributes\":{\"fill_alpha\":{\"value\":0.1},\"fill_color\":{\"value\":\"#ff7e0e\"},\"line_alpha\":{\"value\":0.1},\"line_color\":{\"value\":\"#ff7e0e\"},\"size\":{\"units\":\"screen\",\"value\":5.477225575051661},\"x\":{\"field\":\"TotalCoinsMined\"},\"y\":{\"field\":\"TotalCoinSupply\"}},\"id\":\"2808\",\"type\":\"Scatter\"},{\"attributes\":{},\"id\":\"2759\",\"type\":\"LinearScale\"},{\"attributes\":{\"fill_alpha\":{\"value\":0.2},\"fill_color\":{\"value\":\"#ff7e0e\"},\"line_alpha\":{\"value\":0.2},\"line_color\":{\"value\":\"#ff7e0e\"},\"size\":{\"units\":\"screen\",\"value\":5.477225575051661},\"x\":{\"field\":\"TotalCoinsMined\"},\"y\":{\"field\":\"TotalCoinSupply\"}},\"id\":\"2809\",\"type\":\"Scatter\"},{\"attributes\":{\"label\":{\"value\":\"2\"},\"renderers\":[{\"id\":\"2829\"}]},\"id\":\"2843\",\"type\":\"LegendItem\"},{\"attributes\":{\"axis_label\":\"TotalCoinSupply\",\"bounds\":\"auto\",\"formatter\":{\"id\":\"2785\"},\"major_label_orientation\":\"horizontal\",\"ticker\":{\"id\":\"2766\"}},\"id\":\"2765\",\"type\":\"LinearAxis\"},{\"attributes\":{\"axis\":{\"id\":\"2765\"},\"dimension\":1,\"grid_line_color\":null,\"ticker\":null},\"id\":\"2768\",\"type\":\"Grid\"},{\"attributes\":{\"label\":{\"value\":\"1\"},\"renderers\":[{\"id\":\"2810\"}]},\"id\":\"2822\",\"type\":\"LegendItem\"},{\"attributes\":{},\"id\":\"2766\",\"type\":\"BasicTicker\"},{\"attributes\":{\"axis_label\":\"TotalCoinsMined\",\"bounds\":\"auto\",\"formatter\":{\"id\":\"2783\"},\"major_label_orientation\":\"horizontal\",\"ticker\":{\"id\":\"2762\"}},\"id\":\"2761\",\"type\":\"LinearAxis\"},{\"attributes\":{\"margin\":[5,5,5,5],\"name\":\"HSpacer05664\",\"sizing_mode\":\"stretch_width\"},\"id\":\"2745\",\"type\":\"Spacer\"},{\"attributes\":{\"active_drag\":\"auto\",\"active_inspect\":\"auto\",\"active_multi\":null,\"active_scroll\":\"auto\",\"active_tap\":\"auto\",\"tools\":[{\"id\":\"2748\"},{\"id\":\"2769\"},{\"id\":\"2770\"},{\"id\":\"2771\"},{\"id\":\"2772\"},{\"id\":\"2773\"}]},\"id\":\"2775\",\"type\":\"Toolbar\"},{\"attributes\":{},\"id\":\"2769\",\"type\":\"SaveTool\"},{\"attributes\":{},\"id\":\"2819\",\"type\":\"UnionRenderers\"},{\"attributes\":{\"children\":[{\"id\":\"2745\"},{\"id\":\"2752\"},{\"id\":\"2993\"}],\"margin\":[0,0,0,0],\"name\":\"Row05660\",\"tags\":[\"embedded\"]},\"id\":\"2744\",\"type\":\"Row\"},{\"attributes\":{\"overlay\":{\"id\":\"2774\"}},\"id\":\"2772\",\"type\":\"BoxZoomTool\"},{\"attributes\":{},\"id\":\"2773\",\"type\":\"ResetTool\"},{\"attributes\":{},\"id\":\"2783\",\"type\":\"BasicTickFormatter\"},{\"attributes\":{\"data\":{\"Class\":[1,1,1,1,1,1,1,1,1,1,1,1,1,1,1,1,1,1,1,1,1,1,1,1,1,1,1,1,1,1,1,1,1,1,1,1,1,1,1,1,1,1,1,1,1,1,1,1,1,1,1,1,1,1,1,1,1,1,1,1,1,1,1,1,1,1,1,1,1,1,1,1,1,1,1,1,1,1,1,1,1,1,1,1,1,1,1,1,1,1,1,1,1,1,1,1,1,1,1,1,1,1,1,1,1,1,1,1,1,1,1,1,1,1,1,1,1,1,1,1,1,1,1,1,1,1,1,1,1,1,1,1,1,1,1,1,1,1,1,1,1,1,1,1,1,1,1,1,1,1,1,1,1,1,1,1,1,1,1,1,1,1,1,1,1,1,1,1,1,1,1,1,1,1,1,1,1,1,1,1,1,1,1,1,1,1,1,1,1,1,1,1,1,1,1,1,1,1,1,1,1,1,1,1,1,1,1,1,1,1,1,1,1,1,1,1,1,1,1,1,1,1,1,1,1,1,1,1,1,1,1,1,1,1,1,1,1,1,1],\"CoinName\":[\"Bitcoin\",\"Ethereum\",\"Litecoin\",\"Monero\",\"Ethereum Classic\",\"ZCash\",\"DigiByte\",\"ProsperCoin\",\"Spreadcoin\",\"Argentum\",\"MyriadCoin\",\"MoonCoin\",\"ZetaCoin\",\"SexCoin\",\"Quatloo\",\"QuarkCoin\",\"Riecoin\",\"Digitalcoin \",\"Catcoin\",\"CannaCoin\",\"CryptCoin\",\"Verge\",\"DevCoin\",\"EarthCoin\",\"E-Gulden\",\"Einsteinium\",\"Emerald\",\"Franko\",\"FeatherCoin\",\"GrandCoin\",\"GlobalCoin\",\"GoldCoin\",\"Infinite Coin\",\"IXcoin\",\"KrugerCoin\",\"LuckyCoin\",\"Litebar \",\"MegaCoin\",\"MediterraneanCoin\",\"MinCoin\",\"NobleCoin\",\"Namecoin\",\"NyanCoin\",\"RonPaulCoin\",\"StableCoin\",\"SmartCoin\",\"SysCoin\",\"TigerCoin\",\"TerraCoin\",\"UnbreakableCoin\",\"Unobtanium\",\"UroCoin\",\"ViaCoin\",\"Vertcoin\",\"WorldCoin\",\"JouleCoin\",\"ByteCoin\",\"DigitalNote \",\"MonaCoin\",\"Gulden\",\"PesetaCoin\",\"Wild Beast Coin\",\"Flo\",\"ArtByte\",\"Folding Coin\",\"Unitus\",\"CypherPunkCoin\",\"OmniCron\",\"GreenCoin\",\"Cryptonite\",\"MasterCoin\",\"SoonCoin\",\"1Credit\",\"MarsCoin \",\"Crypto\",\"Anarchists Prime\",\"BowsCoin\",\"Song Coin\",\"BitZeny\",\"Expanse\",\"Siacoin\",\"MindCoin\",\"I0coin\",\"Revolution VR\",\"HOdlcoin\",\"Gamecredits\",\"CarpeDiemCoin\",\"Adzcoin\",\"SoilCoin\",\"YoCoin\",\"SibCoin\",\"Francs\",\"BolivarCoin\",\"Omni\",\"PizzaCoin\",\"Komodo\",\"Karbo\",\"ZayedCoin\",\"Circuits of Value\",\"DopeCoin\",\"DollarCoin\",\"Shilling\",\"ZCoin\",\"Elementrem\",\"ZClassic\",\"KiloCoin\",\"ArtexCoin\",\"Kurrent\",\"Cannabis Industry Coin\",\"OsmiumCoin\",\"Bikercoins\",\"HexxCoin\",\"PacCoin\",\"Citadel\",\"BeaverCoin\",\"VaultCoin\",\"Zero\",\"Canada eCoin\",\"Zoin\",\"DubaiCoin\",\"EB3coin\",\"Coinonat\",\"BenjiRolls\",\"ILCoin\",\"EquiTrader\",\"Quantum Resistant Ledger\",\"Dynamic\",\"Nano\",\"ChanCoin\",\"Dinastycoin\",\"DigitalPrice\",\"Unify\",\"SocialCoin\",\"ArcticCoin\",\"DAS\",\"LeviarCoin\",\"Bitcore\",\"gCn Coin\",\"SmartCash\",\"Onix\",\"Bitcoin Cash\",\"Sojourn Coin\",\"NewYorkCoin\",\"FrazCoin\",\"Kronecoin\",\"AdCoin\",\"Linx\",\"Sumokoin\",\"BitcoinZ\",\"Elements\",\"VIVO Coin\",\"Bitcoin Gold\",\"Pirl\",\"eBoost\",\"Pura\",\"Innova\",\"Ellaism\",\"GoByte\",\"SHIELD\",\"UltraNote\",\"BitCoal\",\"DaxxCoin\",\"AC3\",\"Lethean\",\"PopularCoin\",\"Photon\",\"Sucre\",\"SparksPay\",\"GunCoin\",\"IrishCoin\",\"Pioneer Coin\",\"UnitedBitcoin\",\"Interzone\",\"1717 Masonic Commemorative Token\",\"TurtleCoin\",\"MUNcoin\",\"Niobio Cash\",\"ShareChain\",\"Travelflex\",\"KREDS\",\"BitFlip\",\"LottoCoin\",\"Crypto Improvement Fund\",\"Callisto Network\",\"BitTube\",\"Poseidon\",\"Aidos Kuneen\",\"Bitrolium\",\"Alpenschillling\",\"FuturoCoin\",\"Monero Classic\",\"Jumpcoin\",\"Infinex\",\"KEYCO\",\"GINcoin\",\"PlatinCoin\",\"Loki\",\"Newton Coin\",\"MassGrid\",\"PluraCoin\",\"Motion\",\"PlusOneCoin\",\"Axe\",\"HexCoin\",\"Webchain\",\"Ryo\",\"Urals Coin\",\"Qwertycoin\",\"Project Pai\",\"Azart\",\"Xchange\",\"CrypticCoin\",\"Actinium\",\"Bitcoin SV\",\"FREDEnergy\",\"Universal Molecule\",\"Lithium\",\"Exosis\",\"Block-Logic\",\"Beam\",\"Bithereum\",\"SLICE\",\"BLAST\",\"Bitcoin Rhodium\",\"GlobalToken\",\"SolarCoin\",\"UFO Coin\",\"BlakeCoin\",\"Crypto Escudo\",\"Crown Coin\",\"SmileyCoin\",\"Groestlcoin\",\"Bata\",\"Pakcoin\",\"JoinCoin\",\"Vollar\",\"Reality Clash\",\"Beldex\",\"Horizen\"],\"TotalCoinSupply\":{\"__ndarray__\":\"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\",\"dtype\":\"float64\",\"order\":\"little\",\"shape\":[239]},\"TotalCoinsMined\":{\"__ndarray__\":\"V3iXi/iu/D9gvcKkboklQEY+h/A3NxlAOPJhlpaF+z/I2pVMBKwmQKp9Oh4zoOc/r8EM13zSkUANNQpJZnXiP6U0/lju1vE/M2Wcan6H8z+gibDhaRplQIK4Ycp2dOI+ekUbfTsFMUBVQ9nVxskpQAxLDmiBi+c/PyQD1qn0OUDA9yluxtETQDWETr8fwQpAW4ntppYa5z/ILWER1hrePz6KTuwP+98/ysjF8M/jmEC6SQwCi1WdQCCjtiebl5NATTytT3e6AEBpGWTcHuM1QBhmXzjiMf8/afHbaAJBvT8Ta5fE7d00QIl+yLZnGlZA6rOo9uJEGkBuLk522KkQQMHPfaPJscFAUrXDQhnfAECGaa2iHkouQNskN3EP7P4//izfKm5FvD9m4sWTh4UOQB7SmN44LBBAEq4p/c2S4j/O14aEaZNtQDI9YYkHlPc/TXv6Lke8QEDeT5XBNES8Px91bOtEXwNAmofv7Jh5BEBfQbQttSpMQEP/BBcrahFAuqUwSitZAkAM5US7CinNPy32lDXIkpQ/NgadEDrovj/ut8t+TYUCQP/KMncweBRAmevZGODrJ0CSKnKUSVsPQAMwVLSr+dFAv9qBJEWVhUApNSV8IkcbQKD83TtqwERAUSBiZueAK0BUn7Rg56CSP/hU9w5CdC5AXkvIBz3QU0BC6+HLRPxRQBzU2SSaCxpAGhpPBHFe5D/PeWS5XDnwP5JDyYaL0HxAuhEWFXG2UUDASB4+n7evP/n1Q2yw8PM/rs0Q2OYQgj+Xb4GA+sYJQIz+K4YG/fU/An2t/3OY9z9SflLt02H5PwWLw5lfDQpAV1uxv+w+HkCg4pOp3crwPw4sR8io26lA9KRMamhj+T9dCNuDSMwAQAAAAAAAADVADbeNUH1R8j8BE7h1N+8bQJtaEZD++6BAG8nUE0wLEkAItgAjHj/iP4QW9vseS7A/68cm+RGf+z/xT+09zgblPw/FLlK22PU/GNrvP+iPrz/ZgpSOKKPBPziBjvv7LSdAm6EUCyMI6T9IqYQn9PrjPwAAAAAAAFlAkru+xXleJ0CQ4QxZOCTtPwpLPKBsyvE/TSOsne836D/2PY/25PYEQEpGzsKe9uE/m537YTqhM0CamZmZmZlUQPAPAMHBixhAdhiT/l4KuT8YaC27FuO2P3yK0pRT8e0/NTjjtMEDyD+gaS7cXtlKQIfK+GkIjfE/Hw636Anw0z81Cklm9U4IQC2DLAg4JuY/WYx/hfv3I0BWRiOfV6z9Pwaigh7FlMw/Dhapi2+jGUA1Y9F0djLwP7vRA4yLOABAbxKDwMp4YECYMBSVoOD1P0hIe8JJnRtASkyWUJ6n/z/7iRQUUKYqQEUttwKdc/0/+qTJe0ueZkAj+N9KdhwMQGYv205bA/0/YeC593CJ4D/N8svpedUEQKRFxx9WydA/3dSbrKyo9j9xxDPbpHv8P5HtfD/B2M9AtljusToDbEA3IgCwwH4oQI0hSVf+yvw/2fBPBMzXqD/r2GhfVe7LQFnV3BuNDe8/3DMGRg7t+z82o/3uDB4KQHbJk/8k+QpAgraLHxmh7D/SLXQbPkmAQB8Sla6R5HBAbChFcoWp2j+C8FFMFob7P0nYt5OIMAtAGEmU8nz/I0ADjk6nhoUxQP0MgbmcZuQ/4TxBBwJp9D9MwRpn06niP4tDdLgmFkhA8QhDg7ognkDNzMzMzMzcP+fCSC9qC0pA1cCgljAQIEBCVMXDABBGQAGn39S4xnhAilOvLu+Bp0B0S3Im3BDbP0w6ErKaHOk/RkZi3dP6PUDavz7ZdjESQL9441hDIes/p+hILv8hAEAcserTCBHzP6VD8XT4tcQ/IZUOyPvBtEDVCYbZXdbePzt5QKRXySpAAAAAAABAj0D7wxS6DXclQJcUsjhLGFBAOn/3LOzp8z/AF3DgZ6SWQBYpJDQ4ITVA1LvT+ODCOEAq+eZWgwIgQGzOubWiDNo/AAAAAAAABEAsMSoEzYocQHZ3Z7FV3wVAMc3BcvBwCUDnKifrgaD5P6w+cYoA2wBAeF9pBAdQ4D8e9BGdCl20P2arFTZCW+Y/pDZxcr9DgT/5Y//hU6X+Pz0nYrZzIbBArmEJ3CcsK0CvWBqmGQFMQArGdWi1AOo/KcVjFVGq6z8x6tPclPTfPzRn5RwfIsI/dPyZTqbt+D9v3pPiPk3fP6iWEDkGmPc/8K2U0Kdxw0AAAAAAAEBqQM6YupACDeA/pwzhY0Y27z9mtQqsLXh6QI1iuaXV0PU/dCNi57vJ/D+kZilak1ZnQArdP1O2M8Q/3URwKNFa+T8YsGhjusqkP+uQOGFPOgxA2EY82c2MDECe6pCb4R4EQK6voFxnrvQ//H8HjePqFECK52wBofW9P7ShBtMw7CBAfaZvI905FkAwQh37fud3QDAIuXp4rwJATzv8NVmBU0Bv5Y0buWMCQAh42kDMHKdAD7acb7xRHUDD0XXGDSvgP7aDSzCw3xtACahwBKlU1T8AAAAAAAAkQIpC/oUhlwNAnyEcs2yBWECa6zTSUlnnPw==\",\"dtype\":\"float64\",\"order\":\"little\",\"shape\":[239]}},\"selected\":{\"id\":\"2805\"},\"selection_policy\":{\"id\":\"2819\"}},\"id\":\"2804\",\"type\":\"ColumnDataSource\"},{\"attributes\":{},\"id\":\"2785\",\"type\":\"BasicTickFormatter\"},{\"attributes\":{\"end\":110000.0,\"reset_end\":110000.0,\"reset_start\":-10000.0,\"start\":-10000.0,\"tags\":[[[\"TotalCoinSupply\",\"TotalCoinSupply\",null]]]},\"id\":\"2747\",\"type\":\"Range1d\"},{\"attributes\":{\"fill_color\":{\"value\":\"#1f77b3\"},\"line_color\":{\"value\":\"#1f77b3\"},\"size\":{\"units\":\"screen\",\"value\":5.477225575051661},\"x\":{\"field\":\"TotalCoinsMined\"},\"y\":{\"field\":\"TotalCoinSupply\"}},\"id\":\"2789\",\"type\":\"Scatter\"},{\"attributes\":{},\"id\":\"2787\",\"type\":\"Selection\"},{\"attributes\":{\"below\":[{\"id\":\"2761\"}],\"center\":[{\"id\":\"2764\"},{\"id\":\"2768\"}],\"left\":[{\"id\":\"2765\"}],\"margin\":[5,5,5,5],\"min_border_bottom\":10,\"min_border_left\":10,\"min_border_right\":10,\"min_border_top\":10,\"plot_height\":300,\"plot_width\":700,\"renderers\":[{\"id\":\"2792\"},{\"id\":\"2810\"},{\"id\":\"2829\"},{\"id\":\"2850\"}],\"right\":[{\"id\":\"2802\"}],\"sizing_mode\":\"fixed\",\"title\":{\"id\":\"2753\"},\"toolbar\":{\"id\":\"2775\"},\"x_range\":{\"id\":\"2746\"},\"x_scale\":{\"id\":\"2757\"},\"y_range\":{\"id\":\"2747\"},\"y_scale\":{\"id\":\"2759\"}},\"id\":\"2752\",\"subtype\":\"Figure\",\"type\":\"Plot\"},{\"attributes\":{\"source\":{\"id\":\"2844\"}},\"id\":\"2851\",\"type\":\"CDSView\"},{\"attributes\":{\"end\":103241.6801156691,\"reset_end\":103241.6801156691,\"reset_start\":-4242.808767504215,\"start\":-4242.808767504215,\"tags\":[[[\"TotalCoinsMined\",\"TotalCoinsMined\",null]]]},\"id\":\"2746\",\"type\":\"Range1d\"},{\"attributes\":{\"data\":{\"Class\":[2],\"CoinName\":[\"BitTorrent\"],\"TotalCoinSupply\":{\"__ndarray__\":\"AAAAAIAr+EA=\",\"dtype\":\"float64\",\"order\":\"little\",\"shape\":[1]},\"TotalCoinsMined\":{\"__ndarray__\":\"jV4G8W0r+EA=\",\"dtype\":\"float64\",\"order\":\"little\",\"shape\":[1]}},\"selected\":{\"id\":\"2824\"},\"selection_policy\":{\"id\":\"2840\"}},\"id\":\"2823\",\"type\":\"ColumnDataSource\"},{\"attributes\":{},\"id\":\"2799\",\"type\":\"UnionRenderers\"},{\"attributes\":{},\"id\":\"2863\",\"type\":\"UnionRenderers\"},{\"attributes\":{\"fill_alpha\":{\"value\":0.2},\"fill_color\":{\"value\":\"#1f77b3\"},\"line_alpha\":{\"value\":0.2},\"line_color\":{\"value\":\"#1f77b3\"},\"size\":{\"units\":\"screen\",\"value\":5.477225575051661},\"x\":{\"field\":\"TotalCoinsMined\"},\"y\":{\"field\":\"TotalCoinSupply\"}},\"id\":\"2791\",\"type\":\"Scatter\"},{\"attributes\":{\"fill_alpha\":{\"value\":0.1},\"fill_color\":{\"value\":\"#1f77b3\"},\"line_alpha\":{\"value\":0.1},\"line_color\":{\"value\":\"#1f77b3\"},\"size\":{\"units\":\"screen\",\"value\":5.477225575051661},\"x\":{\"field\":\"TotalCoinsMined\"},\"y\":{\"field\":\"TotalCoinSupply\"}},\"id\":\"2790\",\"type\":\"Scatter\"},{\"attributes\":{\"callback\":null,\"renderers\":[{\"id\":\"2792\"},{\"id\":\"2810\"},{\"id\":\"2829\"},{\"id\":\"2850\"}],\"tags\":[\"hv_created\"],\"tooltips\":[[\"Class\",\"@{Class}\"],[\"TotalCoinsMined\",\"@{TotalCoinsMined}\"],[\"TotalCoinSupply\",\"@{TotalCoinSupply}\"],[\"CoinName\",\"@{CoinName}\"]]},\"id\":\"2748\",\"type\":\"HoverTool\"},{\"attributes\":{\"source\":{\"id\":\"2804\"}},\"id\":\"2811\",\"type\":\"CDSView\"}],\"root_ids\":[\"2744\"]},\"title\":\"Bokeh Application\",\"version\":\"2.2.3\"}};\n",
       "    var render_items = [{\"docid\":\"64816c41-9173-4007-9f11-eff9d6ad0deb\",\"root_ids\":[\"2744\"],\"roots\":{\"2744\":\"438867f5-c6b4-4901-b274-f5c8343ee1e3\"}}];\n",
       "    root.Bokeh.embed.embed_items_notebook(docs_json, render_items);\n",
       "  }\n",
       "  if (root.Bokeh !== undefined && root.Bokeh.Panel !== undefined) {\n",
       "    embed_document(root);\n",
       "  } else {\n",
       "    var attempts = 0;\n",
       "    var timer = setInterval(function(root) {\n",
       "      if (root.Bokeh !== undefined && root.Bokeh.Panel !== undefined) {\n",
       "        clearInterval(timer);\n",
       "        embed_document(root);\n",
       "      } else if (document.readyState == \"complete\") {\n",
       "        attempts++;\n",
       "        if (attempts > 100) {\n",
       "          clearInterval(timer);\n",
       "          console.log(\"Bokeh: ERROR: Unable to run BokehJS code because BokehJS library is missing\");\n",
       "        }\n",
       "      }\n",
       "    }, 10, root)\n",
       "  }\n",
       "})(window);</script>"
      ],
      "text/plain": [
       ":NdOverlay   [Class]\n",
       "   :Scatter   [TotalCoinsMined]   (TotalCoinSupply,CoinName)"
      ]
     },
     "execution_count": 82,
     "metadata": {
      "application/vnd.holoviews_exec.v0+json": {
       "id": "2744"
      }
     },
     "output_type": "execute_result"
    }
   ],
   "source": [
    "# Plot the scatter with x=\"TotalCoinsMined\" and y=\"TotalCoinSupply\"\n",
    "clustered_df.hvplot(\n",
    "    kind= \"scatter\",\n",
    "    x= \"TotalCoinsMined\",\n",
    "    y= \"TotalCoinSupply\",\n",
    "    hover_cols=[\"CoinName\"],\n",
    "    by= \"Class\")"
   ]
  },
  {
   "cell_type": "code",
   "execution_count": null,
   "metadata": {},
   "outputs": [],
   "source": []
  }
 ],
 "metadata": {
  "file_extension": ".py",
  "kernelspec": {
   "display_name": "Python [conda env:pyvizenv] *",
   "language": "python",
   "name": "conda-env-pyvizenv-py"
  },
  "language_info": {
   "codemirror_mode": {
    "name": "ipython",
    "version": 3
   },
   "file_extension": ".py",
   "mimetype": "text/x-python",
   "name": "python",
   "nbconvert_exporter": "python",
   "pygments_lexer": "ipython3",
   "version": "3.8.5"
  },
  "mimetype": "text/x-python",
  "name": "python",
  "npconvert_exporter": "python",
  "pygments_lexer": "ipython3",
  "version": 3
 },
 "nbformat": 4,
 "nbformat_minor": 4
}
